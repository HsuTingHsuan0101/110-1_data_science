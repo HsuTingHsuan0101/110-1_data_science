{
 "cells": [
  {
   "cell_type": "markdown",
   "id": "479b00e2-73d9-4c3f-8606-44ad8f1bd27e",
   "metadata": {},
   "source": [
    "# Crawling PTT\n",
    "爬取 PTT JOB 版的文章內容"
   ]
  },
  {
   "cell_type": "code",
   "execution_count": 1,
   "id": "2687eefd-1d23-41ae-a078-484221f2fbb8",
   "metadata": {},
   "outputs": [
    {
     "data": {
      "text/plain": [
       "200"
      ]
     },
     "execution_count": 1,
     "metadata": {},
     "output_type": "execute_result"
    }
   ],
   "source": [
    "import requests\n",
    "from bs4 import BeautifulSoup\n",
    "\n",
    "url = \"https://www.ptt.cc/bbs/job/index.html\"\n",
    "response = requests.get(url, timeout=(2, 3))\n",
    "response.status_code"
   ]
  },
  {
   "cell_type": "code",
   "execution_count": 2,
   "id": "b85dedb8-c550-47c3-b4ff-a24f931655c5",
   "metadata": {},
   "outputs": [],
   "source": [
    "# print(response.text)"
   ]
  },
  {
   "cell_type": "markdown",
   "id": "b3457d34-cc70-4257-a784-9dc6f7a241e8",
   "metadata": {},
   "source": [
    "## Converting webpage to a soup object"
   ]
  },
  {
   "cell_type": "code",
   "execution_count": 3,
   "id": "b17c0085-9dce-4468-8d0e-668ff380e2f8",
   "metadata": {
    "tags": []
   },
   "outputs": [
    {
     "name": "stdout",
     "output_type": "stream",
     "text": [
      "<class 'bs4.BeautifulSoup'>\n"
     ]
    }
   ],
   "source": [
    "soup = BeautifulSoup(response.text, \"html.parser\")\n",
    "print(type(soup))\n",
    "# print(soup.prettify())"
   ]
  },
  {
   "cell_type": "code",
   "execution_count": 4,
   "id": "02bdc13d-f9bc-4ad2-97ef-c99a637336c3",
   "metadata": {},
   "outputs": [
    {
     "name": "stdout",
     "output_type": "stream",
     "text": [
      "<title>看板 job 文章列表 - 批踢踢實業坊</title>\n",
      "title\n",
      "看板 job 文章列表 - 批踢踢實業坊\n",
      "head\n"
     ]
    }
   ],
   "source": [
    "print(soup.title)\n",
    "print(soup.title.name)\n",
    "print(soup.title.string)\n",
    "print(soup.title.parent.name)"
   ]
  },
  {
   "cell_type": "markdown",
   "id": "4fea2397-dbeb-4bfc-8cad-cfdde25c795a",
   "metadata": {},
   "source": [
    "## Find all links"
   ]
  },
  {
   "cell_type": "code",
   "execution_count": 5,
   "id": "e7bf11e2-1a9e-4c71-825a-c17b02389b02",
   "metadata": {},
   "outputs": [
    {
     "name": "stdout",
     "output_type": "stream",
     "text": [
      "<class 'bs4.element.ResultSet'>\n",
      "67\n"
     ]
    },
    {
     "data": {
      "text/plain": [
       "[<a href=\"/bbs/\" id=\"logo\">批踢踢實業坊</a>,\n",
       " <a class=\"board\" href=\"/bbs/job/index.html\"><span class=\"board-label\">看板 </span>job</a>,\n",
       " <a class=\"right small\" href=\"/about.html\">關於我們</a>,\n",
       " <a class=\"right small\" href=\"/contact.html\">聯絡資訊</a>,\n",
       " <a class=\"btn selected\" href=\"/bbs/job/index.html\">看板</a>]"
      ]
     },
     "execution_count": 5,
     "metadata": {},
     "output_type": "execute_result"
    }
   ],
   "source": [
    "print(type(soup.find_all(\"a\")))\n",
    "print(len(soup.find_all(\"a\")))\n",
    "soup.find_all(\"a\")[:5]"
   ]
  },
  {
   "cell_type": "code",
   "execution_count": 6,
   "id": "9e23c630-e65f-4d6f-9400-27acdaadbe11",
   "metadata": {},
   "outputs": [
    {
     "name": "stdout",
     "output_type": "stream",
     "text": [
      "<a href=\"/bbs/\" id=\"logo\">批踢踢實業坊</a>\n",
      "批踢踢實業坊\n",
      "/bbs/\n"
     ]
    }
   ],
   "source": [
    "nodes_a = soup.find_all(\"a\")\n",
    "print(nodes_a[0])\n",
    "print(nodes_a[0].text)\n",
    "print(nodes_a[0].get('href'))"
   ]
  },
  {
   "cell_type": "code",
   "execution_count": 7,
   "id": "050758f7-fed3-4ad0-be51-0a0ba4ba1303",
   "metadata": {},
   "outputs": [
    {
     "name": "stdout",
     "output_type": "stream",
     "text": [
      "67\n"
     ]
    }
   ],
   "source": [
    "links = []\n",
    "for link in nodes_a:\n",
    "    links.append(link.get('href'))\n",
    "print(len(links))"
   ]
  },
  {
   "cell_type": "markdown",
   "id": "7b1187d4-b857-41ba-a98a-ee7650948640",
   "metadata": {},
   "source": [
    "## Find titles of posts\n",
    "* `.find_all(class_=\"...\")`\n",
    "此處觀察html檔，文章在`class_=\"r-ent\"`中，`r-ent`下\n",
    "    * `class=\"nrec\"` 推文數\n",
    "    * `class=\"title\"` 文章標題\n",
    "    * `class=\"author\"` 作者\n",
    "    * `class=\"date\"` 日期\n"
   ]
  },
  {
   "cell_type": "code",
   "execution_count": 8,
   "id": "06a08a53-fcf9-43e1-bb00-5a45931c4af2",
   "metadata": {},
   "outputs": [],
   "source": [
    "import requests\n",
    "from bs4 import BeautifulSoup\n",
    "\n",
    "url = \"https://www.ptt.cc/bbs/job/index.html\"\n",
    "response = requests.get(url, timeout=(2, 3))\n",
    "soup = BeautifulSoup(response.text, \"html.parser\")"
   ]
  },
  {
   "cell_type": "code",
   "execution_count": 9,
   "id": "b695702f-536e-490a-aac1-ad76cbf78981",
   "metadata": {},
   "outputs": [
    {
     "name": "stdout",
     "output_type": "stream",
     "text": [
      "19\n"
     ]
    }
   ],
   "source": [
    "print(len(soup.find_all(class_=\"r-ent\")))"
   ]
  },
  {
   "cell_type": "code",
   "execution_count": 10,
   "id": "8d927d87-01e2-48d4-a866-e35b8cb3e4ec",
   "metadata": {},
   "outputs": [
    {
     "name": "stdout",
     "output_type": "stream",
     "text": [
      "<class 'bs4.element.Tag'>\n",
      "==============================\n",
      "<class 'bs4.element.Tag'>\n",
      "==============================\n",
      "<class 'bs4.element.Tag'>\n",
      "==============================\n",
      "<class 'bs4.element.Tag'>\n",
      "==============================\n",
      "<class 'bs4.element.Tag'>\n",
      "==============================\n",
      "<class 'bs4.element.Tag'>\n",
      "==============================\n",
      "<class 'bs4.element.Tag'>\n",
      "==============================\n",
      "<class 'bs4.element.Tag'>\n",
      "==============================\n",
      "<class 'bs4.element.Tag'>\n",
      "==============================\n",
      "<class 'bs4.element.Tag'>\n",
      "==============================\n",
      "<class 'bs4.element.Tag'>\n",
      "==============================\n",
      "<class 'bs4.element.Tag'>\n",
      "==============================\n",
      "<class 'bs4.element.Tag'>\n",
      "==============================\n",
      "<class 'bs4.element.Tag'>\n",
      "==============================\n",
      "<class 'bs4.element.Tag'>\n",
      "==============================\n",
      "<class 'bs4.element.Tag'>\n",
      "==============================\n",
      "<class 'bs4.element.Tag'>\n",
      "==============================\n",
      "<class 'bs4.element.Tag'>\n",
      "==============================\n",
      "<class 'bs4.element.Tag'>\n",
      "==============================\n"
     ]
    }
   ],
   "source": [
    "for div in soup.find_all(class_=\"r-ent\"):\n",
    "    print(type(div))\n",
    "    print(\"=\"*30)"
   ]
  },
  {
   "cell_type": "code",
   "execution_count": 11,
   "id": "9f278eaa-2bd0-4bac-9dd3-23341e9f247d",
   "metadata": {},
   "outputs": [
    {
     "name": "stdout",
     "output_type": "stream",
     "text": [
      "1\n",
      "[台北] 源流科技/衍生性金融商品交易員\n",
      "carol271216\n",
      "6/23\n",
      "/bbs/job/M.1655976587.A.B2D.html\n",
      "==============================\n",
      "\n",
      "[台北] 公館 門市人員\n",
      "asd33321\n",
      "6/23\n",
      "/bbs/job/M.1655976617.A.83B.html\n",
      "==============================\n",
      "\n",
      "[台北] 維他露誠徵量販賣場陳列員（信亞人力）\n",
      "betty1127\n",
      "6/23\n",
      "/bbs/job/M.1655981612.A.0E5.html\n",
      "==============================\n",
      "\n",
      "[台北] 台灣拓人個別指導教育 儲備幹部\n",
      "koftodd\n",
      "6/23\n",
      "/bbs/job/M.1655983393.A.6E5.html\n",
      "==============================\n",
      "\n",
      "[台南] 關廟區-超商理貨人員\n",
      "hiimck\n",
      "6/23\n",
      "/bbs/job/M.1655985872.A.AEA.html\n",
      "==============================\n"
     ]
    }
   ],
   "source": [
    "for div in soup.find_all(class_ = \"r-ent\")[:5]:\n",
    "    print(div.find(class_=\"nrec\").text.strip())\n",
    "    print(div.find(class_=\"title\").text.strip())\n",
    "    print(div.find(class_=\"author\").text.strip())\n",
    "    print(div.find(class_=\"date\").text.strip())\n",
    "    print(div.find(class_=\"title\").a.get(\"href\"))\n",
    "    print(\"=\"*30)"
   ]
  },
  {
   "cell_type": "markdown",
   "id": "3cd2c1d9-001a-4cf4-973b-0a73c2f42b5f",
   "metadata": {},
   "source": [
    "### If the link has been removed"
   ]
  },
  {
   "cell_type": "code",
   "execution_count": 37,
   "id": "6b4a751c-4a5c-4d85-be8a-17e2af09c382",
   "metadata": {},
   "outputs": [
    {
     "name": "stdout",
     "output_type": "stream",
     "text": [
      "1\n",
      "[台北] 源流科技/衍生性金融商品交易員\n",
      "carol271216\n",
      "6/23\n",
      "http://www.ptt.cc//bbs/job/M.1655976587.A.B2D.html\n",
      "==============================\n",
      "\n",
      "[台北] 公館 門市人員\n",
      "asd33321\n",
      "6/23\n",
      "http://www.ptt.cc//bbs/job/M.1655976617.A.83B.html\n",
      "==============================\n",
      "\n",
      "[台北] 維他露誠徵量販賣場陳列員（信亞人力）\n",
      "betty1127\n",
      "6/23\n",
      "http://www.ptt.cc//bbs/job/M.1655981612.A.0E5.html\n",
      "==============================\n",
      "\n",
      "[台北] 台灣拓人個別指導教育 儲備幹部\n",
      "koftodd\n",
      "6/23\n",
      "http://www.ptt.cc//bbs/job/M.1655983393.A.6E5.html\n",
      "==============================\n",
      "\n",
      "[台南] 關廟區-超商理貨人員\n",
      "hiimck\n",
      "6/23\n",
      "http://www.ptt.cc//bbs/job/M.1655985872.A.AEA.html\n",
      "==============================\n"
     ]
    }
   ],
   "source": [
    "prefix  = \"http://www.ptt.cc/\"\n",
    "for div in soup.find_all(class_ = \"r-ent\")[:5]:\n",
    "    print(div.find(class_=\"nrec\").text.strip())\n",
    "    print(div.find(class_=\"title\").text.strip())\n",
    "    print(div.find(class_=\"author\").text.strip())\n",
    "    print(div.find(class_=\"date\").text.strip())\n",
    "    #　print(div.find(class_=\"title\").a.get(\"href\"))\n",
    "    \n",
    "    try:\n",
    "        print(prefix + div.find(class_=\"title\").a.get(\"href\"))\n",
    "    except:\n",
    "        print(\"The link has been removed\")\n",
    "    print(\"=\"*30)"
   ]
  },
  {
   "cell_type": "markdown",
   "id": "624acb23-e090-4a3b-966c-62dc7763e0e0",
   "metadata": {},
   "source": [
    "## 儲存文章資訊"
   ]
  },
  {
   "cell_type": "code",
   "execution_count": 12,
   "id": "61cd818a-ac6b-4e7e-96fc-24f53ef47d97",
   "metadata": {},
   "outputs": [],
   "source": [
    "prefix = \"https://www.ptt.cc/\"\n",
    "url = url = \"https://www.ptt.cc/bbs/job/index.html\"\n",
    "response = requests.get(url, timeout=(2, 3))\n",
    "response.status_code\n",
    "soup = BeautifulSoup(response.text, \"html.parser\")"
   ]
  },
  {
   "cell_type": "code",
   "execution_count": 13,
   "id": "bcdd938f-193c-4afd-a59c-71759be09413",
   "metadata": {},
   "outputs": [
    {
     "name": "stdout",
     "output_type": "stream",
     "text": [
      "{'nrec': '1', 'title': '[台北] 源流科技/衍生性金融商品交易員', 'author': 'carol271216', 'date': '6/23', 'link': 'https://www.ptt.cc//bbs/job/M.1655976587.A.B2D.html'}\n"
     ]
    }
   ],
   "source": [
    "links = []\n",
    "for div in soup.find_all(class_=\"r-ent\"):\n",
    "    # print(div.find(class_=\"nrec\").text.strip())\n",
    "    # print(div.find(class_=\"title\").text.strip())\n",
    "    # print(div.find(class_=\"author\").text.strip())\n",
    "    # print(div.find(class_=\"date\").text.strip())\n",
    "    \n",
    "    nrec = div.find(class_=\"nrec\").text.strip()\n",
    "    title = div.find(class_=\"title\").text.strip()\n",
    "    author = div.find(class_=\"author\").text.strip()\n",
    "    date = div.find(class_=\"date\").text.strip()\n",
    "    \n",
    "    try: \n",
    "        link = prefix + div.find(class_=\"title\").a.get(\"href\")\n",
    "        temp = {\"nrec\": nrec,\n",
    "            \"title\": title,\n",
    "            \"author\": author,\n",
    "            \"date\": date,\n",
    "            \"link\": link\n",
    "            }\n",
    "        links.append(temp)\n",
    "    except:\n",
    "        print(div.find(class_=\"title\").text.strip())  # 本文已被刪除\n",
    "\n",
    "print(links[0])"
   ]
  },
  {
   "cell_type": "code",
   "execution_count": 15,
   "id": "5a935304-ae74-453e-a609-2a8b5b837255",
   "metadata": {},
   "outputs": [
    {
     "data": {
      "text/html": [
       "<div>\n",
       "<style scoped>\n",
       "    .dataframe tbody tr th:only-of-type {\n",
       "        vertical-align: middle;\n",
       "    }\n",
       "\n",
       "    .dataframe tbody tr th {\n",
       "        vertical-align: top;\n",
       "    }\n",
       "\n",
       "    .dataframe thead th {\n",
       "        text-align: right;\n",
       "    }\n",
       "</style>\n",
       "<table border=\"1\" class=\"dataframe\">\n",
       "  <thead>\n",
       "    <tr style=\"text-align: right;\">\n",
       "      <th></th>\n",
       "      <th>nrec</th>\n",
       "      <th>title</th>\n",
       "      <th>author</th>\n",
       "      <th>date</th>\n",
       "      <th>link</th>\n",
       "    </tr>\n",
       "  </thead>\n",
       "  <tbody>\n",
       "    <tr>\n",
       "      <th>0</th>\n",
       "      <td>1</td>\n",
       "      <td>[台北] 源流科技/衍生性金融商品交易員</td>\n",
       "      <td>carol271216</td>\n",
       "      <td>6/23</td>\n",
       "      <td>https://www.ptt.cc//bbs/job/M.1655976587.A.B2D...</td>\n",
       "    </tr>\n",
       "    <tr>\n",
       "      <th>1</th>\n",
       "      <td></td>\n",
       "      <td>[台北] 公館 門市人員</td>\n",
       "      <td>asd33321</td>\n",
       "      <td>6/23</td>\n",
       "      <td>https://www.ptt.cc//bbs/job/M.1655976617.A.83B...</td>\n",
       "    </tr>\n",
       "    <tr>\n",
       "      <th>2</th>\n",
       "      <td></td>\n",
       "      <td>[台北] 維他露誠徵量販賣場陳列員（信亞人力）</td>\n",
       "      <td>betty1127</td>\n",
       "      <td>6/23</td>\n",
       "      <td>https://www.ptt.cc//bbs/job/M.1655981612.A.0E5...</td>\n",
       "    </tr>\n",
       "    <tr>\n",
       "      <th>3</th>\n",
       "      <td></td>\n",
       "      <td>[台北] 台灣拓人個別指導教育 儲備幹部</td>\n",
       "      <td>koftodd</td>\n",
       "      <td>6/23</td>\n",
       "      <td>https://www.ptt.cc//bbs/job/M.1655983393.A.6E5...</td>\n",
       "    </tr>\n",
       "    <tr>\n",
       "      <th>4</th>\n",
       "      <td></td>\n",
       "      <td>[台南] 關廟區-超商理貨人員</td>\n",
       "      <td>hiimck</td>\n",
       "      <td>6/23</td>\n",
       "      <td>https://www.ptt.cc//bbs/job/M.1655985872.A.AEA...</td>\n",
       "    </tr>\n",
       "  </tbody>\n",
       "</table>\n",
       "</div>"
      ],
      "text/plain": [
       "  nrec                    title       author  date  \\\n",
       "0    1     [台北] 源流科技/衍生性金融商品交易員  carol271216  6/23   \n",
       "1                  [台北] 公館 門市人員     asd33321  6/23   \n",
       "2       [台北] 維他露誠徵量販賣場陳列員（信亞人力）    betty1127  6/23   \n",
       "3          [台北] 台灣拓人個別指導教育 儲備幹部      koftodd  6/23   \n",
       "4               [台南] 關廟區-超商理貨人員       hiimck  6/23   \n",
       "\n",
       "                                                link  \n",
       "0  https://www.ptt.cc//bbs/job/M.1655976587.A.B2D...  \n",
       "1  https://www.ptt.cc//bbs/job/M.1655976617.A.83B...  \n",
       "2  https://www.ptt.cc//bbs/job/M.1655981612.A.0E5...  \n",
       "3  https://www.ptt.cc//bbs/job/M.1655983393.A.6E5...  \n",
       "4  https://www.ptt.cc//bbs/job/M.1655985872.A.AEA...  "
      ]
     },
     "execution_count": 15,
     "metadata": {},
     "output_type": "execute_result"
    }
   ],
   "source": [
    "import pandas as pd\n",
    "pd.DataFrame(links).head()"
   ]
  },
  {
   "cell_type": "markdown",
   "id": "212e6640-ddbb-4a67-8401-4931b7c7a1e7",
   "metadata": {},
   "source": [
    "# Get more links from more pages\n",
    "觀察出url中index後的數字為最後的頁碼\n",
    "\n",
    "ex. https://www.ptt.cc/bbs/job/index.html, https://www.ptt.cc/bbs/job/index537.html"
   ]
  },
  {
   "cell_type": "markdown",
   "id": "1c0153cd-3822-45d8-bc2f-81552cb8b230",
   "metadata": {},
   "source": [
    "## Get the lastpage id"
   ]
  },
  {
   "cell_type": "code",
   "execution_count": 16,
   "id": "37670127-c029-462f-b4a2-9c8e590984e3",
   "metadata": {},
   "outputs": [],
   "source": [
    "import requests\n",
    "from bs4 import BeautifulSoup\n",
    "url = \"https://www.ptt.cc/bbs/job/index.html\"\n",
    "response = requests.get(url, timeout = (2, 3))\n",
    "soup = BeautifulSoup(response.text, \"html.parser\")"
   ]
  },
  {
   "cell_type": "code",
   "execution_count": 17,
   "id": "c44dc495-5d5c-4cc1-98fd-9d9221c37987",
   "metadata": {},
   "outputs": [
    {
     "data": {
      "text/plain": [
       "538"
      ]
     },
     "execution_count": 17,
     "metadata": {},
     "output_type": "execute_result"
    }
   ],
   "source": [
    "# find last page number\n",
    "last2nd_url = soup.find_all(class_ = \"btn\")[3]  # 上頁\n",
    "last2nd_url = last2nd_url.get('href')  # /bbs/job/index537.html\n",
    "\n",
    "import re\n",
    "lastpage = int(re.search('index(.+)\\.html', last2nd_url).group(1))+1  # (.+) '.'任意字; '+'至少一個字\n",
    "lastpage"
   ]
  },
  {
   "cell_type": "code",
   "execution_count": 18,
   "id": "4de09eb5-2fab-4172-b721-42e0d9b9ba60",
   "metadata": {},
   "outputs": [
    {
     "name": "stdout",
     "output_type": "stream",
     "text": [
      "19\n",
      "(本文已被刪除) [sely]\n",
      "38\n",
      "jameswade: 違反人資條款 水桶\n",
      "OliverChang: 違反人資條款 水桶\n",
      "OliverChang: 違反人資條款 水桶\n",
      "OliverChang: 違反人資條款 水桶\n",
      "OliverChang: 違反人資條款 水桶\n",
      "MadlyOrange: 不可拒收站內信\n",
      "(本文已被刪除) [carol271216]\n",
      "isaac5566: 月休過低 請補加班費\n",
      "50\n",
      "(本文已被刪除) [wangteacher]\n",
      "69\n",
      "shipl79: 缺標語\n",
      "shan520: 缺標語\n",
      "advancejc: 月休過低 請補加班費計算\n",
      "leobigpig: 缺標語\n",
      "85\n",
      "bonnielin526: 時薪工作 水桶\n",
      "sng1082622: 時薪工作 水桶\n",
      "js255076: 缺標語\n",
      "YenHs: 缺標語\n",
      "shujia: 違反人資條款\n",
      "100\n",
      "(本文已被刪除) [isaac5566]\n",
      "(本文已被刪除) [crewfion]\n",
      "118\n",
      "greengo: 月休不詳 工時不詳\n",
      "137\n",
      "(本文已被刪除) [cin914075]\n",
      "156\n",
      "176\n"
     ]
    }
   ],
   "source": [
    "prefix = \"https://www.ptt.cc\"\n",
    "\n",
    "posts = []\n",
    "\n",
    "for i in range(lastpage, lastpage-10, -1):\n",
    "    url = \"https://www.ptt.cc/bbs/job/index{}.html\".format(i)\n",
    "    \n",
    "    response = requests.get(url, timeout=(2, 3))\n",
    "    soup = BeautifulSoup(response.text, \"html.parser\")\n",
    "    \n",
    "    for div in soup.find_all(class_=\"r-ent\"):\n",
    "        nrec = div.find(class_=\"nrec\").text.strip()\n",
    "        title = div.find(class_=\"title\").text.strip()\n",
    "        author = div.find(class_=\"author\").text.strip()\n",
    "        date = div.find(class_=\"date\").text.strip()\n",
    "\n",
    "        try: \n",
    "            link = prefix + div.find(class_=\"title\").a.get(\"href\")\n",
    "            # print(link)\n",
    "            temp = {\"nrec\": nrec,\n",
    "                \"title\": title,\n",
    "                \"author\": author,\n",
    "                \"date\": date,\n",
    "                \"link\": link\n",
    "                }\n",
    "            posts.append(temp)\n",
    "        except:\n",
    "            print(div.find(class_=\"title\").text.strip())\n",
    "            pass\n",
    "    print(len(posts))"
   ]
  },
  {
   "cell_type": "code",
   "execution_count": 19,
   "id": "16aa0884-f305-49f2-81ab-0fdb3eeec3a7",
   "metadata": {},
   "outputs": [
    {
     "data": {
      "text/html": [
       "<div>\n",
       "<style scoped>\n",
       "    .dataframe tbody tr th:only-of-type {\n",
       "        vertical-align: middle;\n",
       "    }\n",
       "\n",
       "    .dataframe tbody tr th {\n",
       "        vertical-align: top;\n",
       "    }\n",
       "\n",
       "    .dataframe thead th {\n",
       "        text-align: right;\n",
       "    }\n",
       "</style>\n",
       "<table border=\"1\" class=\"dataframe\">\n",
       "  <thead>\n",
       "    <tr style=\"text-align: right;\">\n",
       "      <th></th>\n",
       "      <th>nrec</th>\n",
       "      <th>title</th>\n",
       "      <th>author</th>\n",
       "      <th>date</th>\n",
       "      <th>link</th>\n",
       "    </tr>\n",
       "  </thead>\n",
       "  <tbody>\n",
       "    <tr>\n",
       "      <th>0</th>\n",
       "      <td>1</td>\n",
       "      <td>[台北] 源流科技/衍生性金融商品交易員</td>\n",
       "      <td>carol271216</td>\n",
       "      <td>6/23</td>\n",
       "      <td>https://www.ptt.cc/bbs/job/M.1655976587.A.B2D....</td>\n",
       "    </tr>\n",
       "    <tr>\n",
       "      <th>1</th>\n",
       "      <td></td>\n",
       "      <td>[台北] 公館 門市人員</td>\n",
       "      <td>asd33321</td>\n",
       "      <td>6/23</td>\n",
       "      <td>https://www.ptt.cc/bbs/job/M.1655976617.A.83B....</td>\n",
       "    </tr>\n",
       "    <tr>\n",
       "      <th>2</th>\n",
       "      <td></td>\n",
       "      <td>[台北] 維他露誠徵量販賣場陳列員（信亞人力）</td>\n",
       "      <td>betty1127</td>\n",
       "      <td>6/23</td>\n",
       "      <td>https://www.ptt.cc/bbs/job/M.1655981612.A.0E5....</td>\n",
       "    </tr>\n",
       "    <tr>\n",
       "      <th>3</th>\n",
       "      <td></td>\n",
       "      <td>[台北] 台灣拓人個別指導教育 儲備幹部</td>\n",
       "      <td>koftodd</td>\n",
       "      <td>6/23</td>\n",
       "      <td>https://www.ptt.cc/bbs/job/M.1655983393.A.6E5....</td>\n",
       "    </tr>\n",
       "    <tr>\n",
       "      <th>4</th>\n",
       "      <td></td>\n",
       "      <td>[台南] 關廟區-超商理貨人員</td>\n",
       "      <td>hiimck</td>\n",
       "      <td>6/23</td>\n",
       "      <td>https://www.ptt.cc/bbs/job/M.1655985872.A.AEA....</td>\n",
       "    </tr>\n",
       "    <tr>\n",
       "      <th>...</th>\n",
       "      <td>...</td>\n",
       "      <td>...</td>\n",
       "      <td>...</td>\n",
       "      <td>...</td>\n",
       "      <td>...</td>\n",
       "    </tr>\n",
       "    <tr>\n",
       "      <th>171</th>\n",
       "      <td></td>\n",
       "      <td>[台北] PressPlay 數據分析師（可遠端</td>\n",
       "      <td>saftaro</td>\n",
       "      <td>6/13</td>\n",
       "      <td>https://www.ptt.cc/bbs/job/M.1655106475.A.A69....</td>\n",
       "    </tr>\n",
       "    <tr>\n",
       "      <th>172</th>\n",
       "      <td>3</td>\n",
       "      <td>[台北] PressPlay 產品測試專員（可遠端</td>\n",
       "      <td>saftaro</td>\n",
       "      <td>6/13</td>\n",
       "      <td>https://www.ptt.cc/bbs/job/M.1655106661.A.61C....</td>\n",
       "    </tr>\n",
       "    <tr>\n",
       "      <th>173</th>\n",
       "      <td></td>\n",
       "      <td>台北 PressPlay SDET(可遠端</td>\n",
       "      <td>saftaro</td>\n",
       "      <td>6/13</td>\n",
       "      <td>https://www.ptt.cc/bbs/job/M.1655106789.A.8C8....</td>\n",
       "    </tr>\n",
       "    <tr>\n",
       "      <th>174</th>\n",
       "      <td></td>\n",
       "      <td>[台北] PressPlay 產品總監（可遠端</td>\n",
       "      <td>saftaro</td>\n",
       "      <td>6/13</td>\n",
       "      <td>https://www.ptt.cc/bbs/job/M.1655107275.A.556....</td>\n",
       "    </tr>\n",
       "    <tr>\n",
       "      <th>175</th>\n",
       "      <td></td>\n",
       "      <td>[台北] 派駐金融聯合徵信中心電腦機房輪值人員</td>\n",
       "      <td>evayilee</td>\n",
       "      <td>6/13</td>\n",
       "      <td>https://www.ptt.cc/bbs/job/M.1655113627.A.32D....</td>\n",
       "    </tr>\n",
       "  </tbody>\n",
       "</table>\n",
       "<p>176 rows × 5 columns</p>\n",
       "</div>"
      ],
      "text/plain": [
       "    nrec                      title       author  date  \\\n",
       "0      1       [台北] 源流科技/衍生性金融商品交易員  carol271216  6/23   \n",
       "1                      [台北] 公館 門市人員     asd33321  6/23   \n",
       "2           [台北] 維他露誠徵量販賣場陳列員（信亞人力）    betty1127  6/23   \n",
       "3              [台北] 台灣拓人個別指導教育 儲備幹部      koftodd  6/23   \n",
       "4                   [台南] 關廟區-超商理貨人員       hiimck  6/23   \n",
       "..   ...                        ...          ...   ...   \n",
       "171        [台北] PressPlay 數據分析師（可遠端      saftaro  6/13   \n",
       "172    3  [台北] PressPlay 產品測試專員（可遠端      saftaro  6/13   \n",
       "173           台北 PressPlay SDET(可遠端      saftaro  6/13   \n",
       "174         [台北] PressPlay 產品總監（可遠端      saftaro  6/13   \n",
       "175         [台北] 派駐金融聯合徵信中心電腦機房輪值人員     evayilee  6/13   \n",
       "\n",
       "                                                  link  \n",
       "0    https://www.ptt.cc/bbs/job/M.1655976587.A.B2D....  \n",
       "1    https://www.ptt.cc/bbs/job/M.1655976617.A.83B....  \n",
       "2    https://www.ptt.cc/bbs/job/M.1655981612.A.0E5....  \n",
       "3    https://www.ptt.cc/bbs/job/M.1655983393.A.6E5....  \n",
       "4    https://www.ptt.cc/bbs/job/M.1655985872.A.AEA....  \n",
       "..                                                 ...  \n",
       "171  https://www.ptt.cc/bbs/job/M.1655106475.A.A69....  \n",
       "172  https://www.ptt.cc/bbs/job/M.1655106661.A.61C....  \n",
       "173  https://www.ptt.cc/bbs/job/M.1655106789.A.8C8....  \n",
       "174  https://www.ptt.cc/bbs/job/M.1655107275.A.556....  \n",
       "175  https://www.ptt.cc/bbs/job/M.1655113627.A.32D....  \n",
       "\n",
       "[176 rows x 5 columns]"
      ]
     },
     "execution_count": 19,
     "metadata": {},
     "output_type": "execute_result"
    }
   ],
   "source": [
    "import pandas as pd\n",
    "post_df = pd.DataFrame(posts)\n",
    "post_df"
   ]
  },
  {
   "cell_type": "markdown",
   "id": "132152a0-cbd3-4f10-ae9b-86bceb7e717e",
   "metadata": {},
   "source": [
    "# Getting post content\n",
    "- `.find(id = \"...\")` , `.find(class = \"...\")` 觀察po文的html檔\n",
    "    * 作者, 標題, 時間在 `class = \"article-meta-value\"`中\n",
    "    * 文章內容在`id = \"main-content\"`中"
   ]
  },
  {
   "cell_type": "code",
   "execution_count": 20,
   "id": "bc20a9eb-4228-4446-9384-071ca5962d6a",
   "metadata": {},
   "outputs": [
    {
     "name": "stdout",
     "output_type": "stream",
     "text": [
      "https://www.ptt.cc/bbs/job/M.1655976587.A.B2D.html\n",
      "[台北] 源流科技/衍生性金融商品交易員 - 看板 job - 批踢踢實業坊\n",
      "----------\n",
      "https://www.ptt.cc/bbs/job/M.1655976617.A.83B.html\n",
      "[台北] 公館 門市人員 - 看板 job - 批踢踢實業坊\n",
      "----------\n",
      "https://www.ptt.cc/bbs/job/M.1655981612.A.0E5.html\n",
      " [台北] 維他露誠徵量販賣場陳列員（信亞人力） - 看板 job - 批踢踢實業坊\n",
      "----------\n",
      "https://www.ptt.cc/bbs/job/M.1655983393.A.6E5.html\n",
      "[台北] 台灣拓人個別指導教育 儲備幹部 - 看板 job - 批踢踢實業坊\n",
      "----------\n",
      "https://www.ptt.cc/bbs/job/M.1655985872.A.AEA.html\n",
      "[台南] 關廟區-超商理貨人員 - 看板 job - 批踢踢實業坊\n",
      "----------\n"
     ]
    }
   ],
   "source": [
    "from bs4 import NavigableString\n",
    "links = list(post_df[\"link\"])\n",
    "all_posts = []\n",
    "\n",
    "for link in links[:5]:\n",
    "    print(link)\n",
    "    response = requests.get(link, timeout=(2, 3))\n",
    "    soup = BeautifulSoup(response.text, \"html.parser\")\n",
    "    \n",
    "    print(soup.title.text)\n",
    "    \n",
    "    title = soup.title.text\n",
    "    metas = soup.find_all(class_ = \"article-meta-value\")\n",
    "    # print(metas[0].text)  # 作者\n",
    "    # print(metas[2].text)  # 標題\n",
    "    # print(metas[3].text)  # 時間\n",
    "    \n",
    "    author = metas[0].text\n",
    "    time = metas[3].text\n",
    "    \n",
    "    maintext = soup.find(id = \"main-content\") \n",
    "    content = \"\"\n",
    "    # print(maintext)\n",
    "    \n",
    "    for text in maintext:\n",
    "        if isinstance(text, NavigableString):\n",
    "            content += text.strip()\n",
    "    # print(content)\n",
    "    \n",
    "    temp = {\"author\": author,\n",
    "            \"title\": title,\n",
    "            \"time\": time,\n",
    "            \"link\": link,\n",
    "            \"content\": content\n",
    "            }\n",
    "    all_posts.append(temp)\n",
    "    \n",
    "    print(\"-\"*10)\n",
    "    "
   ]
  },
  {
   "cell_type": "code",
   "execution_count": 21,
   "id": "59de5b84-9b2c-4aa3-91f0-1b7a720191c5",
   "metadata": {},
   "outputs": [
    {
     "data": {
      "text/html": [
       "<div>\n",
       "<style scoped>\n",
       "    .dataframe tbody tr th:only-of-type {\n",
       "        vertical-align: middle;\n",
       "    }\n",
       "\n",
       "    .dataframe tbody tr th {\n",
       "        vertical-align: top;\n",
       "    }\n",
       "\n",
       "    .dataframe thead th {\n",
       "        text-align: right;\n",
       "    }\n",
       "</style>\n",
       "<table border=\"1\" class=\"dataframe\">\n",
       "  <thead>\n",
       "    <tr style=\"text-align: right;\">\n",
       "      <th></th>\n",
       "      <th>author</th>\n",
       "      <th>title</th>\n",
       "      <th>time</th>\n",
       "      <th>link</th>\n",
       "      <th>content</th>\n",
       "    </tr>\n",
       "  </thead>\n",
       "  <tbody>\n",
       "    <tr>\n",
       "      <th>0</th>\n",
       "      <td>carol271216 (卡洛卡妮)</td>\n",
       "      <td>[台北] 源流科技/衍生性金融商品交易員 - 看板 job - 批踢踢實業坊</td>\n",
       "      <td>Thu Jun 23 17:29:45 2022</td>\n",
       "      <td>https://www.ptt.cc/bbs/job/M.1655976587.A.B2D....</td>\n",
       "      <td>請各位資方配合遵守。源流科技股份有限公司衍生性金融商品交易員1.負責衍生性金融商品交易作業\\...</td>\n",
       "    </tr>\n",
       "    <tr>\n",
       "      <th>1</th>\n",
       "      <td>asd33321 (小護士)</td>\n",
       "      <td>[台北] 公館 門市人員 - 看板 job - 批踢踢實業坊</td>\n",
       "      <td>Thu Jun 23 17:30:15 2022</td>\n",
       "      <td>https://www.ptt.cc/bbs/job/M.1655976617.A.83B....</td>\n",
       "      <td>請各位資方配合遵守。比樂懿股份有限公司Dr.情趣生活超商 門市人員門市產品介紹、銷售、客服\\...</td>\n",
       "    </tr>\n",
       "    <tr>\n",
       "      <th>2</th>\n",
       "      <td>betty1127 (nn)</td>\n",
       "      <td>[台北] 維他露誠徵量販賣場陳列員（信亞人力） - 看板 job - 批踢踢實業坊</td>\n",
       "      <td>Thu Jun 23 18:53:30 2022</td>\n",
       "      <td>https://www.ptt.cc/bbs/job/M.1655981612.A.0E5....</td>\n",
       "      <td>job版禁止張貼違反「就業服務法」、「性別平等工作法」、「勞基法」與其他法律之文\\n章\\n發...</td>\n",
       "    </tr>\n",
       "    <tr>\n",
       "      <th>3</th>\n",
       "      <td>koftodd (陶德)</td>\n",
       "      <td>[台北] 台灣拓人個別指導教育 儲備幹部 - 看板 job - 批踢踢實業坊</td>\n",
       "      <td>Thu Jun 23 19:23:11 2022</td>\n",
       "      <td>https://www.ptt.cc/bbs/job/M.1655983393.A.6E5....</td>\n",
       "      <td>請各位資方配合遵守。台灣拓人--中和南山校/文山景興校正職儲備幹部1、協助教室室長業務。\\n...</td>\n",
       "    </tr>\n",
       "    <tr>\n",
       "      <th>4</th>\n",
       "      <td>hiimck (hiimck)</td>\n",
       "      <td>[台南] 關廟區-超商理貨人員 - 看板 job - 批踢踢實業坊</td>\n",
       "      <td>Thu Jun 23 20:04:30 2022</td>\n",
       "      <td>https://www.ptt.cc/bbs/job/M.1655985872.A.AEA....</td>\n",
       "      <td>「」、請各位資方配合遵守。巨群企業行理貨人員超商常溫商品理貨、盤點\\n（泡麵、飲料、水、杯子...</td>\n",
       "    </tr>\n",
       "  </tbody>\n",
       "</table>\n",
       "</div>"
      ],
      "text/plain": [
       "               author                                       title  \\\n",
       "0  carol271216 (卡洛卡妮)      [台北] 源流科技/衍生性金融商品交易員 - 看板 job - 批踢踢實業坊   \n",
       "1      asd33321 (小護士)              [台北] 公館 門市人員 - 看板 job - 批踢踢實業坊   \n",
       "2      betty1127 (nn)   [台北] 維他露誠徵量販賣場陳列員（信亞人力） - 看板 job - 批踢踢實業坊   \n",
       "3        koftodd (陶德)      [台北] 台灣拓人個別指導教育 儲備幹部 - 看板 job - 批踢踢實業坊   \n",
       "4     hiimck (hiimck)           [台南] 關廟區-超商理貨人員 - 看板 job - 批踢踢實業坊   \n",
       "\n",
       "                       time  \\\n",
       "0  Thu Jun 23 17:29:45 2022   \n",
       "1  Thu Jun 23 17:30:15 2022   \n",
       "2  Thu Jun 23 18:53:30 2022   \n",
       "3  Thu Jun 23 19:23:11 2022   \n",
       "4  Thu Jun 23 20:04:30 2022   \n",
       "\n",
       "                                                link  \\\n",
       "0  https://www.ptt.cc/bbs/job/M.1655976587.A.B2D....   \n",
       "1  https://www.ptt.cc/bbs/job/M.1655976617.A.83B....   \n",
       "2  https://www.ptt.cc/bbs/job/M.1655981612.A.0E5....   \n",
       "3  https://www.ptt.cc/bbs/job/M.1655983393.A.6E5....   \n",
       "4  https://www.ptt.cc/bbs/job/M.1655985872.A.AEA....   \n",
       "\n",
       "                                             content  \n",
       "0  請各位資方配合遵守。源流科技股份有限公司衍生性金融商品交易員1.負責衍生性金融商品交易作業\\...  \n",
       "1  請各位資方配合遵守。比樂懿股份有限公司Dr.情趣生活超商 門市人員門市產品介紹、銷售、客服\\...  \n",
       "2  job版禁止張貼違反「就業服務法」、「性別平等工作法」、「勞基法」與其他法律之文\\n章\\n發...  \n",
       "3  請各位資方配合遵守。台灣拓人--中和南山校/文山景興校正職儲備幹部1、協助教室室長業務。\\n...  \n",
       "4  「」、請各位資方配合遵守。巨群企業行理貨人員超商常溫商品理貨、盤點\\n（泡麵、飲料、水、杯子...  "
      ]
     },
     "execution_count": 21,
     "metadata": {},
     "output_type": "execute_result"
    }
   ],
   "source": [
    "import pandas as pd\n",
    "df_all_posts = pd.DataFrame(all_posts)\n",
    "df_all_posts"
   ]
  },
  {
   "cell_type": "markdown",
   "id": "0e49e64c-b96c-4165-9373-a90cce90b588",
   "metadata": {},
   "source": [
    "## Get post comments\n",
    "- `.find(id=...)`, `.find(class=...)`\n",
    "    * comment 在 `class = \"push-content\"`"
   ]
  },
  {
   "cell_type": "code",
   "execution_count": 22,
   "id": "6b04a347-8594-4369-bb87-1805782653a1",
   "metadata": {},
   "outputs": [
    {
     "name": "stdout",
     "output_type": "stream",
     "text": [
      "https://www.ptt.cc/bbs/job/M.1655976587.A.B2D.html\n",
      "[台北] 源流科技/衍生性金融商品交易員\n",
      "----------\n",
      "https://www.ptt.cc/bbs/job/M.1655976617.A.83B.html\n",
      "[台北] 公館 門市人員\n",
      "----------\n",
      "https://www.ptt.cc/bbs/job/M.1655981612.A.0E5.html\n",
      " [台北] 維他露誠徵量販賣場陳列員（信亞人力）\n",
      "----------\n",
      "https://www.ptt.cc/bbs/job/M.1655983393.A.6E5.html\n",
      "[台北] 台灣拓人個別指導教育 儲備幹部\n",
      "----------\n",
      "https://www.ptt.cc/bbs/job/M.1655985872.A.AEA.html\n",
      "[台南] 關廟區-超商理貨人員\n",
      "----------\n",
      "https://www.ptt.cc/bbs/job/M.1655987321.A.182.html\n",
      "[南部] 台南升學補習班徵企劃\n",
      "----------\n",
      "https://www.ptt.cc/bbs/job/M.1655987407.A.B19.html\n",
      "[中部] 彰濱工業區CAD繪圖專員\n",
      "----------\n",
      "https://www.ptt.cc/bbs/job/M.1655991941.A.C8C.html\n",
      "[中部] 台中大雅區 理貨人員\n",
      "----------\n",
      "https://www.ptt.cc/bbs/job/M.1656004649.A.295.html\n",
      "[台中]  zzsleeper 徵客服人員\n",
      "----------\n",
      "https://www.ptt.cc/bbs/job/M.1656039237.A.9DB.html\n",
      "[台北] 台大醫院人體生物資料庫研究助理\n",
      "----------\n"
     ]
    }
   ],
   "source": [
    "from bs4 import NavigableString\n",
    "links = list(post_df[\"link\"])\n",
    "all_posts = []\n",
    "\n",
    "for link in links[:10]:\n",
    "    print(link)\n",
    "    response = requests.get(link, timeout=(2, 3))\n",
    "    soup = BeautifulSoup(response.text, \"html.parser\")\n",
    "\n",
    "    metas = soup.find_all(class_ = \"article-meta-value\")\n",
    "    author = metas[0].text\n",
    "    title = metas[2].text\n",
    "    time = metas[3].text\n",
    "    print(title)\n",
    "    \n",
    "    maintext = soup.find(id = \"main-content\") \n",
    "    content = \"\"\n",
    "    # print(maintext)\n",
    "    \n",
    "    for text in maintext:\n",
    "        if isinstance(text, NavigableString):\n",
    "            content += text.strip()\n",
    "    # print(content)\n",
    "    \n",
    "    \n",
    "    # 存comment\n",
    "    comments_list = []\n",
    "    comment = soup.find_all(class_=\"push-content\")\n",
    "    for i in range(len(comment)):\n",
    "        comments_list.append(comment[i].text.strip())\n",
    "    temp = {\"author\": author,\n",
    "            \"title\": title,\n",
    "            \"time\": time,\n",
    "            \"link\": link,\n",
    "            \"content\": content,\n",
    "            \"comment\": comment\n",
    "            }\n",
    "    all_posts.append(temp)\n",
    "    \n",
    "    print(\"-\"*10)\n",
    "    "
   ]
  },
  {
   "cell_type": "code",
   "execution_count": 23,
   "id": "d36d2f7d-1c62-4241-ba08-8fd944031855",
   "metadata": {},
   "outputs": [
    {
     "data": {
      "text/html": [
       "<div>\n",
       "<style scoped>\n",
       "    .dataframe tbody tr th:only-of-type {\n",
       "        vertical-align: middle;\n",
       "    }\n",
       "\n",
       "    .dataframe tbody tr th {\n",
       "        vertical-align: top;\n",
       "    }\n",
       "\n",
       "    .dataframe thead th {\n",
       "        text-align: right;\n",
       "    }\n",
       "</style>\n",
       "<table border=\"1\" class=\"dataframe\">\n",
       "  <thead>\n",
       "    <tr style=\"text-align: right;\">\n",
       "      <th></th>\n",
       "      <th>author</th>\n",
       "      <th>title</th>\n",
       "      <th>time</th>\n",
       "      <th>link</th>\n",
       "      <th>content</th>\n",
       "      <th>comment</th>\n",
       "    </tr>\n",
       "  </thead>\n",
       "  <tbody>\n",
       "    <tr>\n",
       "      <th>0</th>\n",
       "      <td>carol271216 (卡洛卡妮)</td>\n",
       "      <td>[台北] 源流科技/衍生性金融商品交易員</td>\n",
       "      <td>Thu Jun 23 17:29:45 2022</td>\n",
       "      <td>https://www.ptt.cc/bbs/job/M.1655976587.A.B2D....</td>\n",
       "      <td>請各位資方配合遵守。源流科技股份有限公司衍生性金融商品交易員1.負責衍生性金融商品交易作業\\...</td>\n",
       "      <td>[[: 都是無聲卡]]</td>\n",
       "    </tr>\n",
       "    <tr>\n",
       "      <th>1</th>\n",
       "      <td>asd33321 (小護士)</td>\n",
       "      <td>[台北] 公館 門市人員</td>\n",
       "      <td>Thu Jun 23 17:30:15 2022</td>\n",
       "      <td>https://www.ptt.cc/bbs/job/M.1655976617.A.83B....</td>\n",
       "      <td>請各位資方配合遵守。比樂懿股份有限公司Dr.情趣生活超商 門市人員門市產品介紹、銷售、客服\\...</td>\n",
       "      <td>[]</td>\n",
       "    </tr>\n",
       "    <tr>\n",
       "      <th>2</th>\n",
       "      <td>betty1127 (nn)</td>\n",
       "      <td>[台北] 維他露誠徵量販賣場陳列員（信亞人力）</td>\n",
       "      <td>Thu Jun 23 18:53:30 2022</td>\n",
       "      <td>https://www.ptt.cc/bbs/job/M.1655981612.A.0E5....</td>\n",
       "      <td>job版禁止張貼違反「就業服務法」、「性別平等工作法」、「勞基法」與其他法律之文\\n章\\n發...</td>\n",
       "      <td>[[: 推]]</td>\n",
       "    </tr>\n",
       "    <tr>\n",
       "      <th>3</th>\n",
       "      <td>koftodd (陶德)</td>\n",
       "      <td>[台北] 台灣拓人個別指導教育 儲備幹部</td>\n",
       "      <td>Thu Jun 23 19:23:11 2022</td>\n",
       "      <td>https://www.ptt.cc/bbs/job/M.1655983393.A.6E5....</td>\n",
       "      <td>請各位資方配合遵守。台灣拓人--中和南山校/文山景興校正職儲備幹部1、協助教室室長業務。\\n...</td>\n",
       "      <td>[]</td>\n",
       "    </tr>\n",
       "    <tr>\n",
       "      <th>4</th>\n",
       "      <td>hiimck (hiimck)</td>\n",
       "      <td>[台南] 關廟區-超商理貨人員</td>\n",
       "      <td>Thu Jun 23 20:04:30 2022</td>\n",
       "      <td>https://www.ptt.cc/bbs/job/M.1655985872.A.AEA....</td>\n",
       "      <td>「」、請各位資方配合遵守。巨群企業行理貨人員超商常溫商品理貨、盤點\\n（泡麵、飲料、水、杯子...</td>\n",
       "      <td>[]</td>\n",
       "    </tr>\n",
       "    <tr>\n",
       "      <th>5</th>\n",
       "      <td>vickifff (丸子不能吃)</td>\n",
       "      <td>[南部] 台南升學補習班徵企劃</td>\n",
       "      <td>Thu Jun 23 20:28:39 2022</td>\n",
       "      <td>https://www.ptt.cc/bbs/job/M.1655987321.A.182....</td>\n",
       "      <td>「」、請各位資方配合遵守。\\n\\n\\n\\n【公司名稱】\\n台南市市私立偉文文理短期補習班【工...</td>\n",
       "      <td>[[: 這助理真可憐], [: 助理可憐], [: 偉哉台南]]</td>\n",
       "    </tr>\n",
       "    <tr>\n",
       "      <th>6</th>\n",
       "      <td>cocawowa (書籤)</td>\n",
       "      <td>[中部] 彰濱工業區CAD繪圖專員</td>\n",
       "      <td>Thu Jun 23 20:30:05 2022</td>\n",
       "      <td>https://www.ptt.cc/bbs/job/M.1655987407.A.B19....</td>\n",
       "      <td>請各位資方配合遵守。金氏科訊CAD繪圖師工程繪圖\\n\\n        沒有內容會被刪文具A...</td>\n",
       "      <td>[]</td>\n",
       "    </tr>\n",
       "    <tr>\n",
       "      <th>7</th>\n",
       "      <td>yahaha517 (拳頭大是大爺)</td>\n",
       "      <td>[中部] 台中大雅區 理貨人員</td>\n",
       "      <td>Thu Jun 23 21:45:38 2022</td>\n",
       "      <td>https://www.ptt.cc/bbs/job/M.1655991941.A.C8C....</td>\n",
       "      <td>這份工作原本是團隊人員輪流處理，但現在單子慢慢多出來\\n        大家決議擠出團隊經費...</td>\n",
       "      <td>[]</td>\n",
       "    </tr>\n",
       "    <tr>\n",
       "      <th>8</th>\n",
       "      <td>jeromeee (CXZ)</td>\n",
       "      <td>[台中]  zzsleeper 徵客服人員</td>\n",
       "      <td>Fri Jun 24 01:17:26 2022</td>\n",
       "      <td>https://www.ptt.cc/bbs/job/M.1656004649.A.295....</td>\n",
       "      <td>請各位資方配合遵守。zZ物理治療師客製床墊/睡羅漢有限公司線上客服1. 回覆顧客訊息及處理顧...</td>\n",
       "      <td>[]</td>\n",
       "    </tr>\n",
       "    <tr>\n",
       "      <th>9</th>\n",
       "      <td>yeechen (whisperer)</td>\n",
       "      <td>[台北] 台大醫院人體生物資料庫研究助理</td>\n",
       "      <td>Fri Jun 24 10:53:55 2022</td>\n",
       "      <td>https://www.ptt.cc/bbs/job/M.1656039237.A.9DB....</td>\n",
       "      <td>請各位資方配合遵守。台大醫院人體生物資料庫計畫約用學/碩士級專任研究助理1. 至手術室收集病...</td>\n",
       "      <td>[]</td>\n",
       "    </tr>\n",
       "  </tbody>\n",
       "</table>\n",
       "</div>"
      ],
      "text/plain": [
       "                author                     title                      time  \\\n",
       "0   carol271216 (卡洛卡妮)      [台北] 源流科技/衍生性金融商品交易員  Thu Jun 23 17:29:45 2022   \n",
       "1       asd33321 (小護士)              [台北] 公館 門市人員  Thu Jun 23 17:30:15 2022   \n",
       "2       betty1127 (nn)   [台北] 維他露誠徵量販賣場陳列員（信亞人力）  Thu Jun 23 18:53:30 2022   \n",
       "3         koftodd (陶德)      [台北] 台灣拓人個別指導教育 儲備幹部  Thu Jun 23 19:23:11 2022   \n",
       "4      hiimck (hiimck)           [台南] 關廟區-超商理貨人員  Thu Jun 23 20:04:30 2022   \n",
       "5     vickifff (丸子不能吃)           [南部] 台南升學補習班徵企劃  Thu Jun 23 20:28:39 2022   \n",
       "6        cocawowa (書籤)         [中部] 彰濱工業區CAD繪圖專員  Thu Jun 23 20:30:05 2022   \n",
       "7   yahaha517 (拳頭大是大爺)           [中部] 台中大雅區 理貨人員  Thu Jun 23 21:45:38 2022   \n",
       "8       jeromeee (CXZ)     [台中]  zzsleeper 徵客服人員  Fri Jun 24 01:17:26 2022   \n",
       "9  yeechen (whisperer)      [台北] 台大醫院人體生物資料庫研究助理  Fri Jun 24 10:53:55 2022   \n",
       "\n",
       "                                                link  \\\n",
       "0  https://www.ptt.cc/bbs/job/M.1655976587.A.B2D....   \n",
       "1  https://www.ptt.cc/bbs/job/M.1655976617.A.83B....   \n",
       "2  https://www.ptt.cc/bbs/job/M.1655981612.A.0E5....   \n",
       "3  https://www.ptt.cc/bbs/job/M.1655983393.A.6E5....   \n",
       "4  https://www.ptt.cc/bbs/job/M.1655985872.A.AEA....   \n",
       "5  https://www.ptt.cc/bbs/job/M.1655987321.A.182....   \n",
       "6  https://www.ptt.cc/bbs/job/M.1655987407.A.B19....   \n",
       "7  https://www.ptt.cc/bbs/job/M.1655991941.A.C8C....   \n",
       "8  https://www.ptt.cc/bbs/job/M.1656004649.A.295....   \n",
       "9  https://www.ptt.cc/bbs/job/M.1656039237.A.9DB....   \n",
       "\n",
       "                                             content  \\\n",
       "0  請各位資方配合遵守。源流科技股份有限公司衍生性金融商品交易員1.負責衍生性金融商品交易作業\\...   \n",
       "1  請各位資方配合遵守。比樂懿股份有限公司Dr.情趣生活超商 門市人員門市產品介紹、銷售、客服\\...   \n",
       "2  job版禁止張貼違反「就業服務法」、「性別平等工作法」、「勞基法」與其他法律之文\\n章\\n發...   \n",
       "3  請各位資方配合遵守。台灣拓人--中和南山校/文山景興校正職儲備幹部1、協助教室室長業務。\\n...   \n",
       "4  「」、請各位資方配合遵守。巨群企業行理貨人員超商常溫商品理貨、盤點\\n（泡麵、飲料、水、杯子...   \n",
       "5  「」、請各位資方配合遵守。\\n\\n\\n\\n【公司名稱】\\n台南市市私立偉文文理短期補習班【工...   \n",
       "6  請各位資方配合遵守。金氏科訊CAD繪圖師工程繪圖\\n\\n        沒有內容會被刪文具A...   \n",
       "7  這份工作原本是團隊人員輪流處理，但現在單子慢慢多出來\\n        大家決議擠出團隊經費...   \n",
       "8  請各位資方配合遵守。zZ物理治療師客製床墊/睡羅漢有限公司線上客服1. 回覆顧客訊息及處理顧...   \n",
       "9  請各位資方配合遵守。台大醫院人體生物資料庫計畫約用學/碩士級專任研究助理1. 至手術室收集病...   \n",
       "\n",
       "                            comment  \n",
       "0                       [[: 都是無聲卡]]  \n",
       "1                                []  \n",
       "2                           [[: 推]]  \n",
       "3                                []  \n",
       "4                                []  \n",
       "5  [[: 這助理真可憐], [: 助理可憐], [: 偉哉台南]]  \n",
       "6                                []  \n",
       "7                                []  \n",
       "8                                []  \n",
       "9                                []  "
      ]
     },
     "execution_count": 23,
     "metadata": {},
     "output_type": "execute_result"
    }
   ],
   "source": [
    "import pandas as pd\n",
    "df_all_posts = pd.DataFrame(all_posts)\n",
    "df_all_posts"
   ]
  }
 ],
 "metadata": {
  "kernelspec": {
   "display_name": "Python 3",
   "language": "python",
   "name": "python3"
  },
  "language_info": {
   "codemirror_mode": {
    "name": "ipython",
    "version": 3
   },
   "file_extension": ".py",
   "mimetype": "text/x-python",
   "name": "python",
   "nbconvert_exporter": "python",
   "pygments_lexer": "ipython3",
   "version": "3.8.13"
  },
  "toc-showcode": false
 },
 "nbformat": 4,
 "nbformat_minor": 5
}
