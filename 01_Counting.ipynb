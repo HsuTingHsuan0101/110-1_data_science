{
 "cells": [
  {
   "cell_type": "markdown",
   "metadata": {},
   "source": [
    "# Counting:"
   ]
  },
  {
   "cell_type": "code",
   "execution_count": 1,
   "metadata": {},
   "outputs": [],
   "source": [
    "fruit_list = ['apple', 'apple', 'banana', 'apple', 'banana', 'grape', 'banana', 'apple']"
   ]
  },
  {
   "cell_type": "markdown",
   "metadata": {},
   "source": [
    "## Using dictionary\n",
    "- `list.count(key)`"
   ]
  },
  {
   "cell_type": "code",
   "execution_count": 2,
   "metadata": {},
   "outputs": [],
   "source": [
    "# Method 1\n",
    "fruit_count = {}\n",
    "for fruit in fruit_list:\n",
    "    if fruit not in fruit_count:\n",
    "        fruit_count[fruit] = fruit_list.count(fruit)"
   ]
  },
  {
   "cell_type": "code",
   "execution_count": 3,
   "metadata": {},
   "outputs": [
    {
     "data": {
      "text/plain": [
       "{'apple': 4, 'banana': 3, 'grape': 1}"
      ]
     },
     "execution_count": 3,
     "metadata": {},
     "output_type": "execute_result"
    }
   ],
   "source": [
    "fruit_count"
   ]
  },
  {
   "cell_type": "code",
   "execution_count": 6,
   "metadata": {},
   "outputs": [],
   "source": [
    "# Method 2\n",
    "fruit_count = dict()\n",
    "for fruit in set(fruit_list):\n",
    "    fruit_count[fruit] = fruit_list.count(fruit)"
   ]
  },
  {
   "cell_type": "code",
   "execution_count": 7,
   "metadata": {},
   "outputs": [
    {
     "data": {
      "text/plain": [
       "{'grape': 1, 'apple': 4, 'banana': 3}"
      ]
     },
     "execution_count": 7,
     "metadata": {},
     "output_type": "execute_result"
    }
   ],
   "source": [
    "fruit_count"
   ]
  },
  {
   "cell_type": "markdown",
   "metadata": {},
   "source": [
    "## Using `Counter()`"
   ]
  },
  {
   "cell_type": "code",
   "execution_count": 9,
   "metadata": {},
   "outputs": [],
   "source": [
    "from collections import Counter"
   ]
  },
  {
   "cell_type": "code",
   "execution_count": 12,
   "metadata": {},
   "outputs": [],
   "source": [
    "fruit_count = Counter(fruit_list)"
   ]
  },
  {
   "cell_type": "code",
   "execution_count": 14,
   "metadata": {
    "scrolled": true
   },
   "outputs": [
    {
     "name": "stdout",
     "output_type": "stream",
     "text": [
      "apple \t 4\n",
      "banana \t 3\n",
      "grape \t 1\n"
     ]
    }
   ],
   "source": [
    "for k, v in fruit_count.items():\n",
    "    print(k, \"\\t\", v)"
   ]
  },
  {
   "cell_type": "markdown",
   "metadata": {},
   "source": [
    "## Comprehensive dictionary"
   ]
  },
  {
   "cell_type": "code",
   "execution_count": 33,
   "metadata": {},
   "outputs": [
    {
     "data": {
      "text/plain": [
       "{'grape': 1, 'apple': 4, 'banana': 3}"
      ]
     },
     "execution_count": 33,
     "metadata": {},
     "output_type": "execute_result"
    }
   ],
   "source": [
    "fruit_count = {k:fruit_list.count(k) for k in set(fruit_list)}\n",
    "fruit_count"
   ]
  },
  {
   "cell_type": "markdown",
   "metadata": {},
   "source": [
    "# 從wikipedia引入資料"
   ]
  },
  {
   "cell_type": "code",
   "execution_count": 15,
   "metadata": {},
   "outputs": [],
   "source": [
    "import wikipedia"
   ]
  },
  {
   "cell_type": "code",
   "execution_count": 23,
   "metadata": {
    "collapsed": true
   },
   "outputs": [
    {
     "data": {
      "text/plain": [
       "'Big data refers to data sets that are too large or complex to be dealt with by traditional data-processing application software. Data with many fields (rows) offer greater statistical power, while data with higher complexity (more attributes or columns) may lead to a higher false discovery rate. Big data analysis challenges include capturing data, data storage, data analysis, search, sharing, transfer, visualization, querying, updating, information privacy, and data source. Big data was originally associated with three key concepts: volume, variety, and velocity. The analysis of big data presents challenges in sampling, and thus previously allowing for only observations and sampling. Therefore, big data often includes data with sizes that exceed the capacity of traditional software to process within an acceptable time and value.\\nCurrent usage of the term big data tends to refer to the use of predictive analytics, user behavior analytics, or certain other advanced data analytics methods that extract value from big data, and seldom to a particular size of data set. \"There is little doubt that the quantities of data now available are indeed large, but that\\'s not the most relevant characteristic of this new data ecosystem.\"\\nAnalysis of data sets can find new correlations to \"spot business trends, prevent diseases, combat crime and so on\". Scientists, business executives, medical practitioners, advertising and governments alike regularly meet difficulties with large data-sets in areas including Internet searches, fintech, healthcare analytics, geographic information systems, urban informatics, and business informatics. Scientists encounter limitations in e-Science work, including meteorology, genomics, connectomics, complex physics simulations, biology, and environmental research.The size and number of available data sets have grown rapidly as data is collected by devices such as mobile devices, cheap and numerous information-sensing Internet of things devices, aerial (remote sensing), software logs, cameras, microphones, radio-frequency identification (RFID) readers and wireless sensor networks.'"
      ]
     },
     "execution_count": 23,
     "metadata": {},
     "output_type": "execute_result"
    }
   ],
   "source": [
    "string_a = wikipedia.summary(\"Big_data\", sentences = 20)\n",
    "string_a"
   ]
  },
  {
   "cell_type": "markdown",
   "metadata": {},
   "source": [
    "### text processing"
   ]
  },
  {
   "cell_type": "code",
   "execution_count": 24,
   "metadata": {},
   "outputs": [],
   "source": [
    "import string"
   ]
  },
  {
   "cell_type": "code",
   "execution_count": 25,
   "metadata": {
    "collapsed": true
   },
   "outputs": [
    {
     "data": {
      "text/plain": [
       "'Big data refers to data sets that are too large or complex to be dealt with by traditional dataprocessing application software Data with many fields rows offer greater statistical power while data with higher complexity more attributes or columns may lead to a higher false discovery rate Big data analysis challenges include capturing data data storage data analysis search sharing transfer visualization querying updating information privacy and data source Big data was originally associated with three key concepts volume variety and velocity The analysis of big data presents challenges in sampling and thus previously allowing for only observations and sampling Therefore big data often includes data with sizes that exceed the capacity of traditional software to process within an acceptable time and value\\nCurrent usage of the term big data tends to refer to the use of predictive analytics user behavior analytics or certain other advanced data analytics methods that extract value from big data and seldom to a particular size of data set There is little doubt that the quantities of data now available are indeed large but thats not the most relevant characteristic of this new data ecosystem\\nAnalysis of data sets can find new correlations to spot business trends prevent diseases combat crime and so on Scientists business executives medical practitioners advertising and governments alike regularly meet difficulties with large datasets in areas including Internet searches fintech healthcare analytics geographic information systems urban informatics and business informatics Scientists encounter limitations in eScience work including meteorology genomics connectomics complex physics simulations biology and environmental researchThe size and number of available data sets have grown rapidly as data is collected by devices such as mobile devices cheap and numerous informationsensing Internet of things devices aerial remote sensing software logs cameras microphones radiofrequency identification RFID readers and wireless sensor networks'"
      ]
     },
     "execution_count": 25,
     "metadata": {},
     "output_type": "execute_result"
    }
   ],
   "source": [
    "# 拿掉標點符號\n",
    "translator = str.maketrans('', '', string.punctuation)\n",
    "string_a = string_a.translate(translator)\n",
    "string_a"
   ]
  },
  {
   "cell_type": "code",
   "execution_count": 26,
   "metadata": {
    "collapsed": true
   },
   "outputs": [
    {
     "name": "stdout",
     "output_type": "stream",
     "text": [
      "big data refers to data sets that are too large or complex to be dealt with by traditional dataprocessing application software data with many fields rows offer greater statistical power while data with higher complexity more attributes or columns may lead to a higher false discovery rate big data analysis challenges include capturing data data storage data analysis search sharing transfer visualization querying updating information privacy and data source big data was originally associated with three key concepts volume variety and velocity the analysis of big data presents challenges in sampling and thus previously allowing for only observations and sampling therefore big data often includes data with sizes that exceed the capacity of traditional software to process within an acceptable time and value\n",
      "current usage of the term big data tends to refer to the use of predictive analytics user behavior analytics or certain other advanced data analytics methods that extract value from big data and seldom to a particular size of data set there is little doubt that the quantities of data now available are indeed large but thats not the most relevant characteristic of this new data ecosystem\n",
      "analysis of data sets can find new correlations to spot business trends prevent diseases combat crime and so on scientists business executives medical practitioners advertising and governments alike regularly meet difficulties with large datasets in areas including internet searches fintech healthcare analytics geographic information systems urban informatics and business informatics scientists encounter limitations in escience work including meteorology genomics connectomics complex physics simulations biology and environmental researchthe size and number of available data sets have grown rapidly as data is collected by devices such as mobile devices cheap and numerous informationsensing internet of things devices aerial remote sensing software logs cameras microphones radiofrequency identification rfid readers and wireless sensor networks\n"
     ]
    }
   ],
   "source": [
    "# 轉小寫\n",
    "string_a = string_a.lower()\n",
    "print(string_a)"
   ]
  },
  {
   "cell_type": "code",
   "execution_count": 28,
   "metadata": {},
   "outputs": [
    {
     "data": {
      "text/plain": [
       "['big', 'data', 'refers', 'to', 'data', 'sets', 'that', 'are', 'too', 'large']"
      ]
     },
     "execution_count": 28,
     "metadata": {},
     "output_type": "execute_result"
    }
   ],
   "source": [
    "words = string_a.split()\n",
    "words[:10]"
   ]
  },
  {
   "cell_type": "code",
   "execution_count": 31,
   "metadata": {
    "collapsed": true
   },
   "outputs": [
    {
     "name": "stdout",
     "output_type": "stream",
     "text": [
      "193\n",
      "Counter({'data': 22, 'and': 13, 'of': 10, 'to': 8, 'big': 7, 'with': 6, 'the': 6, 'that': 4, 'analysis': 4, 'analytics': 4, 'sets': 3, 'large': 3, 'or': 3, 'software': 3, 'in': 3, 'business': 3, 'devices': 3, 'are': 2, 'complex': 2, 'by': 2, 'traditional': 2, 'higher': 2, 'a': 2, 'challenges': 2, 'information': 2, 'sampling': 2, 'value': 2, 'size': 2, 'is': 2, 'available': 2, 'new': 2, 'scientists': 2, 'including': 2, 'internet': 2, 'informatics': 2, 'as': 2, 'refers': 1, 'too': 1, 'be': 1, 'dealt': 1, 'dataprocessing': 1, 'application': 1, 'many': 1, 'fields': 1, 'rows': 1, 'offer': 1, 'greater': 1, 'statistical': 1, 'power': 1, 'while': 1, 'complexity': 1, 'more': 1, 'attributes': 1, 'columns': 1, 'may': 1, 'lead': 1, 'false': 1, 'discovery': 1, 'rate': 1, 'include': 1, 'capturing': 1, 'storage': 1, 'search': 1, 'sharing': 1, 'transfer': 1, 'visualization': 1, 'querying': 1, 'updating': 1, 'privacy': 1, 'source': 1, 'was': 1, 'originally': 1, 'associated': 1, 'three': 1, 'key': 1, 'concepts': 1, 'volume': 1, 'variety': 1, 'velocity': 1, 'presents': 1, 'thus': 1, 'previously': 1, 'allowing': 1, 'for': 1, 'only': 1, 'observations': 1, 'therefore': 1, 'often': 1, 'includes': 1, 'sizes': 1, 'exceed': 1, 'capacity': 1, 'process': 1, 'within': 1, 'an': 1, 'acceptable': 1, 'time': 1, 'current': 1, 'usage': 1, 'term': 1, 'tends': 1, 'refer': 1, 'use': 1, 'predictive': 1, 'user': 1, 'behavior': 1, 'certain': 1, 'other': 1, 'advanced': 1, 'methods': 1, 'extract': 1, 'from': 1, 'seldom': 1, 'particular': 1, 'set': 1, 'there': 1, 'little': 1, 'doubt': 1, 'quantities': 1, 'now': 1, 'indeed': 1, 'but': 1, 'thats': 1, 'not': 1, 'most': 1, 'relevant': 1, 'characteristic': 1, 'this': 1, 'ecosystem': 1, 'can': 1, 'find': 1, 'correlations': 1, 'spot': 1, 'trends': 1, 'prevent': 1, 'diseases': 1, 'combat': 1, 'crime': 1, 'so': 1, 'on': 1, 'executives': 1, 'medical': 1, 'practitioners': 1, 'advertising': 1, 'governments': 1, 'alike': 1, 'regularly': 1, 'meet': 1, 'difficulties': 1, 'datasets': 1, 'areas': 1, 'searches': 1, 'fintech': 1, 'healthcare': 1, 'geographic': 1, 'systems': 1, 'urban': 1, 'encounter': 1, 'limitations': 1, 'escience': 1, 'work': 1, 'meteorology': 1, 'genomics': 1, 'connectomics': 1, 'physics': 1, 'simulations': 1, 'biology': 1, 'environmental': 1, 'researchthe': 1, 'number': 1, 'have': 1, 'grown': 1, 'rapidly': 1, 'collected': 1, 'such': 1, 'mobile': 1, 'cheap': 1, 'numerous': 1, 'informationsensing': 1, 'things': 1, 'aerial': 1, 'remote': 1, 'sensing': 1, 'logs': 1, 'cameras': 1, 'microphones': 1, 'radiofrequency': 1, 'identification': 1, 'rfid': 1, 'readers': 1, 'wireless': 1, 'sensor': 1, 'networks': 1})\n",
      "Counter({1: 157, 2: 19, 3: 7, 4: 3, 6: 2, 7: 1, 22: 1, 8: 1, 13: 1, 10: 1})\n"
     ]
    }
   ],
   "source": [
    "words_freq = Counter(words)\n",
    "print(len(words_freq))\n",
    "print(words_freq)\n",
    "\n",
    "value_freq = Counter(words_freq.values())\n",
    "print(value_freq)"
   ]
  },
  {
   "cell_type": "code",
   "execution_count": null,
   "metadata": {},
   "outputs": [],
   "source": []
  }
 ],
 "metadata": {
  "kernelspec": {
   "display_name": "Python 3",
   "language": "python",
   "name": "python3"
  },
  "language_info": {
   "codemirror_mode": {
    "name": "ipython",
    "version": 3
   },
   "file_extension": ".py",
   "mimetype": "text/x-python",
   "name": "python",
   "nbconvert_exporter": "python",
   "pygments_lexer": "ipython3",
   "version": "3.8.5"
  }
 },
 "nbformat": 4,
 "nbformat_minor": 4
}
