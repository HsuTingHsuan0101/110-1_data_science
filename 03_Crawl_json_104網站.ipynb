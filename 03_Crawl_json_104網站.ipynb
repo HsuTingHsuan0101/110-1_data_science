{
 "cells": [
  {
   "cell_type": "markdown",
   "metadata": {
    "id": "loFsl2MOwEHo"
   },
   "source": [
    "# Web Scraping 104.com\n",
    "* 搜尋頁面: '數據分析'\n",
    "* check > Network > Preview(看內容) > Headers > Request URL\n",
    "  * https://www.104.com.tw/jobs/search/list?ro=0&kwop=7&keyword=%E6%95%B8%E6%93%9A%E5%88%86%E6%9E%90&expansionType=area%2Cspec%2Ccom%2Cjob%2Cwf%2Cwktm&order=15&asc=0&page=2&mode=s&jobsource=2018indexpoc&langFlag=0&langStatus=0&recommendJob=1&hotJob=1 "
   ]
  },
  {
   "cell_type": "code",
   "execution_count": 1,
   "metadata": {
    "id": "14v4OQ3dwNB9"
   },
   "outputs": [],
   "source": [
    "url_104 = \"https://www.104.com.tw/jobs/search/list?ro=0&kwop=7&keyword=%E6%95%B8%E6%93%9A%E5%88%86%E6%9E%90&expansionType=area%2Cspec%2Ccom%2Cjob%2Cwf%2Cwktm&order=15&asc=0&page=2&mode=s&jobsource=2018indexpoc&langFlag=0&langStatus=0&recommendJob=1&hotJob=1\""
   ]
  },
  {
   "cell_type": "code",
   "execution_count": 2,
   "metadata": {
    "id": "k_2RUBZfw8lz"
   },
   "outputs": [],
   "source": [
    "import requests\n",
    "import json\n",
    "import pandas as pd"
   ]
  },
  {
   "cell_type": "markdown",
   "metadata": {
    "id": "HFQ9Z31Myi-0"
   },
   "source": [
    "## 失敗的方式\n"
   ]
  },
  {
   "cell_type": "code",
   "execution_count": 3,
   "metadata": {
    "id": "d2ash2xrxEGy"
   },
   "outputs": [],
   "source": [
    "response = requests.get(url_104)"
   ]
  },
  {
   "cell_type": "code",
   "execution_count": 4,
   "metadata": {
    "colab": {
     "base_uri": "https://localhost:8080/"
    },
    "id": "eCKD0B4wuf58",
    "outputId": "e899c3af-e506-4bbb-d82f-5300ff445c0b"
   },
   "outputs": [
    {
     "name": "stdout",
     "output_type": "stream",
     "text": [
      "200\n",
      "{'Cache-Control': 'no-cache', 'Connection': 'close', 'Pragma': 'no-cache', 'Content-Type': 'text/html; charset=utf-8', 'Content-Length': '293'}\n",
      "<html xmlns=\"http://www.w3.org/1999/xhtml\"><head><META HTTP-EQUIV=\"CONTENT-TYPE\" CONTENT=\"TEXT/HTML; CHARSET=utf-8\"/><title></title></head>\n",
      "<body>\n",
      "<SCRIPT LANGUAGE=\"JavaScript\">\n",
      "window.location=\"https://www.104.com.tw/jobs/main/syserr?eid=11093197867771064885\";\n",
      "</script>\n",
      "</body>\n",
      "</html>\n"
     ]
    }
   ],
   "source": [
    "print(response.status_code)\n",
    "print(response.headers)\n",
    "print(response.text)  # 未成功讀取資料"
   ]
  },
  {
   "cell_type": "code",
   "execution_count": 5,
   "metadata": {
    "colab": {
     "base_uri": "https://localhost:8080/"
    },
    "id": "Fv0htEZhxCPj",
    "outputId": "592accb6-67e0-4f93-c37c-835fb19aab54"
   },
   "outputs": [
    {
     "data": {
      "text/plain": [
       "True"
      ]
     },
     "execution_count": 5,
     "metadata": {},
     "output_type": "execute_result"
    }
   ],
   "source": [
    "# 把回傳的結果寫入html檔，看錯誤訊息為何\n",
    "with open('temp_output.html', 'w') as fout:\n",
    "    fout.write(response.text)\n",
    "fout.close()\n",
    "\n",
    "# webbrowser cannot work, but why?\n",
    "import webbrowser\n",
    "webbrowser.open_new_tab('temp_output.html')"
   ]
  },
  {
   "cell_type": "markdown",
   "metadata": {
    "id": "Hz731_0UUlaI"
   },
   "source": [
    "## Add referer\n",
    "* User-Agent: 使用什麼瀏覽器或系統\n",
    "* Referer: 從哪個頁面點選、跳轉過來\n",
    "* Cookies: 經過與伺服器建立連結後, 伺服器給了什麼資訊\n",
    "* (多半headers會從User-agent測起，再來Referer, 再來cookies)"
   ]
  },
  {
   "cell_type": "code",
   "execution_count": 6,
   "metadata": {
    "colab": {
     "base_uri": "https://localhost:8080/"
    },
    "id": "f59XkEKayfsM",
    "outputId": "e7048295-d38f-4e75-eaad-7bec992c4b8d"
   },
   "outputs": [
    {
     "name": "stdout",
     "output_type": "stream",
     "text": [
      "<html xmlns=\"http://www.w3.org/1999/xhtml\"><head><META HTTP-EQUIV=\"CONTENT-TYPE\" CONTENT=\"TEXT/HTML; CHARSET=utf-8\"/><title></title></head>\n",
      "<body>\n",
      "<SCRIPT LANGUAGE=\"JavaScript\">\n",
      "window.location=\"https://www.104.com.tw/jobs/main/syserr?eid=11093197867771064885\";\n",
      "</script>\n",
      "</body>\n",
      "</html>\n",
      "<class 'dict'>\n"
     ]
    }
   ],
   "source": [
    "url_104 = 'https://www.104.com.tw/jobs/search/list?ro=0&kwop=7&keyword=%E6%95%B8%E6%93%9A%E5%88%86%E6%9E%90&expansionType=area%2Cspec%2Ccom%2Cjob%2Cwf%2Cwktm&order=15&asc=0&page=2&mode=s&jobsource=2018indexpoc&langFlag=0&langStatus=0&recommendJob=1&hotJob=1'\n",
    "headers = {'referer': 'https://www.104.com.tw/'}\n",
    "# headers = {'user agent': 'Mozilla/5.0 (Windows NT 10.0; Win64; x64) AppleWebKit/537.36 (KHTML, like Gecko) Chrome/95.0.4638.69 Safari/537.36'}\n",
    "raw = requests.get(url_104, headers=headers).json()\n",
    "print(response.text)\n",
    "print(type(raw))"
   ]
  },
  {
   "cell_type": "markdown",
   "metadata": {
    "id": "76hBpZMwXytQ"
   },
   "source": [
    "### check data and get total_page"
   ]
  },
  {
   "cell_type": "code",
   "execution_count": 8,
   "metadata": {
    "colab": {
     "base_uri": "https://localhost:8080/",
     "height": 1000
    },
    "id": "-dSqGP9zVcqw",
    "outputId": "3786a63e-0435-4dd8-cc85-075ba4a8558e",
    "tags": []
   },
   "outputs": [
    {
     "name": "stdout",
     "output_type": "stream",
     "text": [
      "dict_keys(['status', 'action', 'data', 'statusMsg', 'errorMsg'])\n",
      "<class 'dict'>\n",
      "dict_keys(['query', 'filterDesc', 'queryDesc', 'list', 'count', 'pageNo', 'totalPage', 'totalCount'])\n"
     ]
    },
    {
     "data": {
      "text/html": [
       "<div>\n",
       "<style scoped>\n",
       "    .dataframe tbody tr th:only-of-type {\n",
       "        vertical-align: middle;\n",
       "    }\n",
       "\n",
       "    .dataframe tbody tr th {\n",
       "        vertical-align: top;\n",
       "    }\n",
       "\n",
       "    .dataframe thead th {\n",
       "        text-align: right;\n",
       "    }\n",
       "</style>\n",
       "<table border=\"1\" class=\"dataframe\">\n",
       "  <thead>\n",
       "    <tr style=\"text-align: right;\">\n",
       "      <th></th>\n",
       "      <th>jobType</th>\n",
       "      <th>jobNo</th>\n",
       "      <th>jobName</th>\n",
       "      <th>jobNameSnippet</th>\n",
       "      <th>jobRole</th>\n",
       "      <th>jobRo</th>\n",
       "      <th>jobAddrNo</th>\n",
       "      <th>jobAddrNoDesc</th>\n",
       "      <th>jobAddress</th>\n",
       "      <th>description</th>\n",
       "      <th>...</th>\n",
       "      <th>tags</th>\n",
       "      <th>landmark</th>\n",
       "      <th>link</th>\n",
       "      <th>jobsource</th>\n",
       "      <th>jobNameRaw</th>\n",
       "      <th>custNameRaw</th>\n",
       "      <th>lon</th>\n",
       "      <th>lat</th>\n",
       "      <th>remoteWorkType</th>\n",
       "      <th>major</th>\n",
       "    </tr>\n",
       "  </thead>\n",
       "  <tbody>\n",
       "    <tr>\n",
       "      <th>0</th>\n",
       "      <td>2</td>\n",
       "      <td>12185589</td>\n",
       "      <td>數據分析專業人員 Data Analyst - 行銷科技小組（數數發中心, DDT）</td>\n",
       "      <td>&lt;em class='b-txt--highlight'&gt;數據分析&lt;/em&gt;專業人員 Dat...</td>\n",
       "      <td>1</td>\n",
       "      <td>1</td>\n",
       "      <td>6001001007</td>\n",
       "      <td>台北市信義區</td>\n",
       "      <td>忠孝東路五段68號</td>\n",
       "      <td>1.數據探勘，能夠針對數位會員經營/行銷活動/社群推廣，以[[[數據分析]]]或模型建置等方...</td>\n",
       "      <td>...</td>\n",
       "      <td>[上市上櫃, 員工400人]</td>\n",
       "      <td>距捷運市政府站140公尺</td>\n",
       "      <td>{'applyAnalyze': '//www.104.com.tw/jobs/apply/...</td>\n",
       "      <td>jolist_d_relevance</td>\n",
       "      <td>數據分析專業人員 Data Analyst - 行銷科技小組（數數發中心, DDT）</td>\n",
       "      <td>國泰金控_國泰金融控股股份有限公司</td>\n",
       "      <td>121.5668801</td>\n",
       "      <td>25.0399434</td>\n",
       "      <td>0</td>\n",
       "      <td>[數理統計相關, 應用數學相關, 資訊工程相關]</td>\n",
       "    </tr>\n",
       "    <tr>\n",
       "      <th>1</th>\n",
       "      <td>0</td>\n",
       "      <td>12846559</td>\n",
       "      <td>數據分析師_Data Analyst_PaGamO</td>\n",
       "      <td>&lt;em class='b-txt--highlight'&gt;數據分析&lt;/em&gt;師_Data A...</td>\n",
       "      <td>1</td>\n",
       "      <td>1</td>\n",
       "      <td>6001001001</td>\n",
       "      <td>台北市中正區</td>\n",
       "      <td>羅斯福路2段9號11樓之1</td>\n",
       "      <td>穩定易用。\\n作為 PaGamO 的[[[數據分析]]]師, 不只能與頂尖的工程師、設計師、...</td>\n",
       "      <td>...</td>\n",
       "      <td>[員工80人, 遠端工作]</td>\n",
       "      <td></td>\n",
       "      <td>{'applyAnalyze': '//www.104.com.tw/jobs/apply/...</td>\n",
       "      <td>jolist_d_relevance</td>\n",
       "      <td>數據分析師_Data Analyst_PaGamO</td>\n",
       "      <td>英屬維京群島商幫你優股份有限公司台灣分公司</td>\n",
       "      <td></td>\n",
       "      <td></td>\n",
       "      <td>2</td>\n",
       "      <td>[資訊工程相關, 資訊管理相關, 數理統計相關]</td>\n",
       "    </tr>\n",
       "    <tr>\n",
       "      <th>2</th>\n",
       "      <td>2</td>\n",
       "      <td>11771097</td>\n",
       "      <td>數據分析師(視訊面談)</td>\n",
       "      <td>&lt;em class='b-txt--highlight'&gt;數據分析&lt;/em&gt;師(視訊面談)</td>\n",
       "      <td>1</td>\n",
       "      <td>1</td>\n",
       "      <td>6001001004</td>\n",
       "      <td>台北市松山區</td>\n",
       "      <td>民生東路四段133號12樓</td>\n",
       "      <td>1.  熟悉 APP 與 Web 產品的[[[數據分析]]]架構，並且能提出對應指標評估產品...</td>\n",
       "      <td>...</td>\n",
       "      <td>[員工170人]</td>\n",
       "      <td></td>\n",
       "      <td>{'applyAnalyze': '//www.104.com.tw/jobs/apply/...</td>\n",
       "      <td>jolist_d_relevance</td>\n",
       "      <td>數據分析師(視訊面談)</td>\n",
       "      <td>DIGITIMES INC._大椽股份有限公司</td>\n",
       "      <td>121.5548551</td>\n",
       "      <td>25.0584809</td>\n",
       "      <td>0</td>\n",
       "      <td>[數理統計相關, 資訊工程相關, 一般數學相關]</td>\n",
       "    </tr>\n",
       "    <tr>\n",
       "      <th>3</th>\n",
       "      <td>0</td>\n",
       "      <td>12815101</td>\n",
       "      <td>數據分析師 Data Analyst</td>\n",
       "      <td>&lt;em class='b-txt--highlight'&gt;數據分析&lt;/em&gt;師 Data A...</td>\n",
       "      <td>1</td>\n",
       "      <td>1</td>\n",
       "      <td>6001006002</td>\n",
       "      <td>新竹縣竹北市</td>\n",
       "      <td>福興東路一段</td>\n",
       "      <td>[[[數據分析]]]與活動成效管理\\n7.\\t具有廣告投放經驗並熟悉數位廣告生態\\n8.\\t...</td>\n",
       "      <td>...</td>\n",
       "      <td>[員工20人]</td>\n",
       "      <td></td>\n",
       "      <td>{'applyAnalyze': '//www.104.com.tw/jobs/apply/...</td>\n",
       "      <td>jolist_d_relevance</td>\n",
       "      <td>數據分析師 Data Analyst</td>\n",
       "      <td>悍創運動行銷股份有限公司</td>\n",
       "      <td>121.0208018</td>\n",
       "      <td>24.8191953</td>\n",
       "      <td>0</td>\n",
       "      <td>[]</td>\n",
       "    </tr>\n",
       "    <tr>\n",
       "      <th>4</th>\n",
       "      <td>0</td>\n",
       "      <td>12347843</td>\n",
       "      <td>數據分析師 - Data Analyst</td>\n",
       "      <td>&lt;em class='b-txt--highlight'&gt;數據分析&lt;/em&gt;師 - Data...</td>\n",
       "      <td>1</td>\n",
       "      <td>1</td>\n",
       "      <td>6001008007</td>\n",
       "      <td>台中市西屯區</td>\n",
       "      <td></td>\n",
       "      <td>*** 應徵時請附上PowerBI作品集或其他加分文件 ***\\n*** 面試前將有簡易SQ...</td>\n",
       "      <td>...</td>\n",
       "      <td>[員工30人]</td>\n",
       "      <td></td>\n",
       "      <td>{'applyAnalyze': '//www.104.com.tw/jobs/apply/...</td>\n",
       "      <td>jolist_d_relevance</td>\n",
       "      <td>數據分析師 - Data Analyst</td>\n",
       "      <td>塶樂微創有限公司</td>\n",
       "      <td>120.6424333</td>\n",
       "      <td>24.1769764</td>\n",
       "      <td>0</td>\n",
       "      <td>[經濟社會及心理學科類, 商業及管理學科類, 數學及電算機科學學科類]</td>\n",
       "    </tr>\n",
       "  </tbody>\n",
       "</table>\n",
       "<p>5 rows × 40 columns</p>\n",
       "</div>"
      ],
      "text/plain": [
       "  jobType     jobNo                                     jobName  \\\n",
       "0       2  12185589  數據分析專業人員 Data Analyst - 行銷科技小組（數數發中心, DDT）   \n",
       "1       0  12846559                   數據分析師_Data Analyst_PaGamO   \n",
       "2       2  11771097                                 數據分析師(視訊面談)   \n",
       "3       0  12815101                          數據分析師 Data Analyst   \n",
       "4       0  12347843                        數據分析師 - Data Analyst   \n",
       "\n",
       "                                      jobNameSnippet jobRole jobRo  \\\n",
       "0  <em class='b-txt--highlight'>數據分析</em>專業人員 Dat...       1     1   \n",
       "1  <em class='b-txt--highlight'>數據分析</em>師_Data A...       1     1   \n",
       "2      <em class='b-txt--highlight'>數據分析</em>師(視訊面談)       1     1   \n",
       "3  <em class='b-txt--highlight'>數據分析</em>師 Data A...       1     1   \n",
       "4  <em class='b-txt--highlight'>數據分析</em>師 - Data...       1     1   \n",
       "\n",
       "    jobAddrNo jobAddrNoDesc     jobAddress  \\\n",
       "0  6001001007        台北市信義區      忠孝東路五段68號   \n",
       "1  6001001001        台北市中正區  羅斯福路2段9號11樓之1   \n",
       "2  6001001004        台北市松山區  民生東路四段133號12樓   \n",
       "3  6001006002        新竹縣竹北市         福興東路一段   \n",
       "4  6001008007        台中市西屯區                  \n",
       "\n",
       "                                         description  ...            tags  \\\n",
       "0  1.數據探勘，能夠針對數位會員經營/行銷活動/社群推廣，以[[[數據分析]]]或模型建置等方...  ...  [上市上櫃, 員工400人]   \n",
       "1  穩定易用。\\n作為 PaGamO 的[[[數據分析]]]師, 不只能與頂尖的工程師、設計師、...  ...   [員工80人, 遠端工作]   \n",
       "2  1.  熟悉 APP 與 Web 產品的[[[數據分析]]]架構，並且能提出對應指標評估產品...  ...        [員工170人]   \n",
       "3  [[[數據分析]]]與活動成效管理\\n7.\\t具有廣告投放經驗並熟悉數位廣告生態\\n8.\\t...  ...         [員工20人]   \n",
       "4  *** 應徵時請附上PowerBI作品集或其他加分文件 ***\\n*** 面試前將有簡易SQ...  ...         [員工30人]   \n",
       "\n",
       "       landmark                                               link  \\\n",
       "0  距捷運市政府站140公尺  {'applyAnalyze': '//www.104.com.tw/jobs/apply/...   \n",
       "1                {'applyAnalyze': '//www.104.com.tw/jobs/apply/...   \n",
       "2                {'applyAnalyze': '//www.104.com.tw/jobs/apply/...   \n",
       "3                {'applyAnalyze': '//www.104.com.tw/jobs/apply/...   \n",
       "4                {'applyAnalyze': '//www.104.com.tw/jobs/apply/...   \n",
       "\n",
       "            jobsource                                  jobNameRaw  \\\n",
       "0  jolist_d_relevance  數據分析專業人員 Data Analyst - 行銷科技小組（數數發中心, DDT）   \n",
       "1  jolist_d_relevance                   數據分析師_Data Analyst_PaGamO   \n",
       "2  jolist_d_relevance                                 數據分析師(視訊面談)   \n",
       "3  jolist_d_relevance                          數據分析師 Data Analyst   \n",
       "4  jolist_d_relevance                        數據分析師 - Data Analyst   \n",
       "\n",
       "               custNameRaw          lon         lat remoteWorkType  \\\n",
       "0        國泰金控_國泰金融控股股份有限公司  121.5668801  25.0399434              0   \n",
       "1    英屬維京群島商幫你優股份有限公司台灣分公司                                       2   \n",
       "2  DIGITIMES INC._大椽股份有限公司  121.5548551  25.0584809              0   \n",
       "3             悍創運動行銷股份有限公司  121.0208018  24.8191953              0   \n",
       "4                 塶樂微創有限公司  120.6424333  24.1769764              0   \n",
       "\n",
       "                                 major  \n",
       "0             [數理統計相關, 應用數學相關, 資訊工程相關]  \n",
       "1             [資訊工程相關, 資訊管理相關, 數理統計相關]  \n",
       "2             [數理統計相關, 資訊工程相關, 一般數學相關]  \n",
       "3                                   []  \n",
       "4  [經濟社會及心理學科類, 商業及管理學科類, 數學及電算機科學學科類]  \n",
       "\n",
       "[5 rows x 40 columns]"
      ]
     },
     "execution_count": 8,
     "metadata": {},
     "output_type": "execute_result"
    }
   ],
   "source": [
    "print(raw.keys())\n",
    "print(type(raw['data']))\n",
    "print(raw['data'].keys())\n",
    "\n",
    "# 一一print出找所需資料\n",
    "#print(raw['data']['totalPage'])\n",
    "#print(raw['data']['totalCount'])\n",
    "#print(raw['data']['pageNo'])\n",
    "#print(raw['data']['list'])  # 要的資料\n",
    "pd.DataFrame(raw['data']['list']).head()"
   ]
  },
  {
   "cell_type": "code",
   "execution_count": 91,
   "metadata": {
    "colab": {
     "base_uri": "https://localhost:8080/"
    },
    "id": "_NpDUIC_WC9D",
    "outputId": "133ea61a-1ac7-44ad-d39f-b2345e4937e3",
    "tags": []
   },
   "outputs": [
    {
     "name": "stdout",
     "output_type": "stream",
     "text": [
      "20\n",
      "{'jobType': '0', 'jobNo': '12442764', 'jobName': '運動數據分析 影像處理工程師 image recognition ', 'jobNameSnippet': \"運動<em class='b-txt--highlight'>數據分析</em> 影像處理工程師 image recognition \", 'jobRole': '1', 'jobRo': '1', 'jobAddrNo': '6001002015', 'jobAddrNoDesc': '新北市中和區', 'jobAddress': '新北市中和區連城路347巷2弄13號', 'description': 'Bucket Analytics是致力於推動運動產業與人工智慧技術的結合的新創公司，目前聚焦於提供籃球賽事的服務及產品，我們在尋找同樣熱愛籃球的夥伴！\\n\\n1.工作時間有效完成任務\\n2.負責影像辨識軟體之分析、設計以及程式撰寫。\\n3.規劃執行軟體架構及模組之設計，並控管軟體設計進度。\\n4.進行軟體之測試與修改。\\n5.規劃、執行與維護量產的產品。', 'optionEdu': '大學', 'period': '00', 'periodDesc': '經歷不拘', 'applyCnt': '00009', 'applyDesc': '6~10人應徵', 'custNo': '130000000177109', 'custName': '球據智能運動數據分析有限公司', 'coIndustry': '1001001002', 'coIndustryDesc': '電腦軟體服務業', 'salaryLow': '0000000', 'salaryHigh': '0000000', 'salaryDesc': '待遇面議', 's10': '10', 'appearDate': '20220614', 'appearDateDesc': '6/14', 'optionZone': '0', 'isApply': '0', 'applyDate': '', 'isSave': '0', 'descSnippet': 'Bucket Analytics是致力於推動運動產業與人工智慧技術的結合的新創公司，目前聚焦於提供籃球賽事的服務及產品，我們在尋找同樣熱愛籃球的夥伴！\\n\\n1.工作時間有效完成任務\\n2.負責影像辨識軟體之分析、設計以及程式撰寫。\\n3.規劃執行軟體架構及模組之設計，並控管軟體設計進度。\\n4.進行軟體之測試與修改。\\n5.規劃、執行與維護量產的產品。', 'tags': ['員工10人', '遠端工作'], 'landmark': '', 'link': {'applyAnalyze': '//www.104.com.tw/jobs/apply/analysis/7eowc?channel=104rpt&jobsource=apply_analyze', 'job': '//www.104.com.tw/job/7eowc?jobsource=jolist_b_relevance', 'cust': '//www.104.com.tw/company/1a2x6blryt?jobsource=jolist_b_relevance'}, 'jobsource': 'jolist_b_relevance', 'jobNameRaw': '運動數據分析 影像處理工程師 image recognition ', 'custNameRaw': '球據智能運動數據分析有限公司', 'lon': '121.4876163', 'lat': '24.9957125', 'remoteWorkType': 2, 'major': []}\n"
     ]
    }
   ],
   "source": [
    "print(len(raw['data']['list']))\n",
    "print(raw['data']['list'][0])"
   ]
  },
  {
   "cell_type": "markdown",
   "metadata": {
    "id": "yLijkziWYjxh"
   },
   "source": [
    "### get the next page urls\n",
    "觀察到url的差異在page=的數字"
   ]
  },
  {
   "cell_type": "code",
   "execution_count": 9,
   "metadata": {
    "colab": {
     "base_uri": "https://localhost:8080/"
    },
    "id": "d3jIN86clC9P",
    "outputId": "ed6de626-1cf4-48b0-d977-5d15f612843d"
   },
   "outputs": [
    {
     "data": {
      "text/plain": [
       "150"
      ]
     },
     "execution_count": 9,
     "metadata": {},
     "output_type": "execute_result"
    }
   ],
   "source": [
    "total_page = (raw['data']['totalPage'])\n",
    "total_page"
   ]
  },
  {
   "cell_type": "code",
   "execution_count": 10,
   "metadata": {
    "colab": {
     "base_uri": "https://localhost:8080/"
    },
    "id": "3hfq2fZmXuTh",
    "outputId": "4192f475-92df-46ec-8e0e-367ff20a0a8d"
   },
   "outputs": [],
   "source": [
    "headers = {'referer': 'https://www.104.com.tw/'}\n",
    "\n",
    "all_data = []\n",
    "for page in range(1, total_page+1):\n",
    "  url_104 = \"https://www.104.com.tw/jobs/search/list?ro=0&kwop=7&keyword=%E6%95%B8%E6%93%9A%E5%88%86%E6%9E%90&expansionType=area%2Cspec%2Ccom%2Cjob%2Cwf%2Cwktm&order=15&asc=0&page=\" + str(page) + \"&mode=s&jobsource=2018indexpoc&langFlag=0&langStatus=0&recommendJob=1&hotJob=1\"\n",
    "  raw = requests.get(url_104, headers=headers).json()\n",
    "  all_data.extend(raw['data']['list'])\n",
    "  # print(page, 'Data len', len(all_data))  # 觀察爬到哪裡了"
   ]
  },
  {
   "cell_type": "code",
   "execution_count": 11,
   "metadata": {
    "colab": {
     "base_uri": "https://localhost:8080/",
     "height": 768
    },
    "id": "WQwdEpmhaPRa",
    "outputId": "87812bbe-5618-4025-e5ec-d08f92a2f191"
   },
   "outputs": [
    {
     "data": {
      "text/html": [
       "<div>\n",
       "<style scoped>\n",
       "    .dataframe tbody tr th:only-of-type {\n",
       "        vertical-align: middle;\n",
       "    }\n",
       "\n",
       "    .dataframe tbody tr th {\n",
       "        vertical-align: top;\n",
       "    }\n",
       "\n",
       "    .dataframe thead th {\n",
       "        text-align: right;\n",
       "    }\n",
       "</style>\n",
       "<table border=\"1\" class=\"dataframe\">\n",
       "  <thead>\n",
       "    <tr style=\"text-align: right;\">\n",
       "      <th></th>\n",
       "      <th>jobType</th>\n",
       "      <th>jobNo</th>\n",
       "      <th>jobName</th>\n",
       "      <th>jobNameSnippet</th>\n",
       "      <th>jobRole</th>\n",
       "      <th>jobRo</th>\n",
       "      <th>jobAddrNo</th>\n",
       "      <th>jobAddrNoDesc</th>\n",
       "      <th>jobAddress</th>\n",
       "      <th>description</th>\n",
       "      <th>...</th>\n",
       "      <th>tags</th>\n",
       "      <th>landmark</th>\n",
       "      <th>link</th>\n",
       "      <th>jobsource</th>\n",
       "      <th>jobNameRaw</th>\n",
       "      <th>custNameRaw</th>\n",
       "      <th>lon</th>\n",
       "      <th>lat</th>\n",
       "      <th>remoteWorkType</th>\n",
       "      <th>major</th>\n",
       "    </tr>\n",
       "  </thead>\n",
       "  <tbody>\n",
       "    <tr>\n",
       "      <th>0</th>\n",
       "      <td>1</td>\n",
       "      <td>12771843</td>\n",
       "      <td>【增值業務中心】數位廣告行銷企劃專員</td>\n",
       "      <td>【增值業務中心】數位廣告行銷企劃專員</td>\n",
       "      <td>1</td>\n",
       "      <td>1</td>\n",
       "      <td>6001001010</td>\n",
       "      <td>台北市內湖區</td>\n",
       "      <td>洲子街71號9樓</td>\n",
       "      <td>Hello! 我們是9Smedia，隸屬於真好玩娛樂科技的增值業務中心，於2018年成立，是...</td>\n",
       "      <td>...</td>\n",
       "      <td>[員工200人]</td>\n",
       "      <td>距捷運港墘站310公尺</td>\n",
       "      <td>{'applyAnalyze': '//www.104.com.tw/jobs/apply/...</td>\n",
       "      <td>hotjob_chr</td>\n",
       "      <td>【增值業務中心】數位廣告行銷企劃專員</td>\n",
       "      <td>真好玩娛樂科技股份有限公司</td>\n",
       "      <td>121.5720354</td>\n",
       "      <td>25.0799081</td>\n",
       "      <td>0</td>\n",
       "      <td>[]</td>\n",
       "    </tr>\n",
       "    <tr>\n",
       "      <th>1</th>\n",
       "      <td>1</td>\n",
       "      <td>12547422</td>\n",
       "      <td>【營運企劃】諮詢企劃專業人員</td>\n",
       "      <td>【營運企劃】諮詢企劃專業人員</td>\n",
       "      <td>1</td>\n",
       "      <td>1</td>\n",
       "      <td>6001001005</td>\n",
       "      <td>台北市大安區</td>\n",
       "      <td></td>\n",
       "      <td>本職缺只接受國泰人壽徵才網站的履歷表，請立即至以下網址登錄您的資料：『https://pse...</td>\n",
       "      <td>...</td>\n",
       "      <td>[員工33000人]</td>\n",
       "      <td></td>\n",
       "      <td>{'applyAnalyze': '//www.104.com.tw/jobs/apply/...</td>\n",
       "      <td>hotjob_chr</td>\n",
       "      <td>【營運企劃】諮詢企劃專業人員</td>\n",
       "      <td>國泰人壽保險股份有限公司_總公司_國泰金控</td>\n",
       "      <td>121.5433783</td>\n",
       "      <td>25.0249441</td>\n",
       "      <td>0</td>\n",
       "      <td>[商業及管理學科類, 銀行保險相關, 數理統計相關]</td>\n",
       "    </tr>\n",
       "    <tr>\n",
       "      <th>2</th>\n",
       "      <td>1</td>\n",
       "      <td>11938943</td>\n",
       "      <td>家居品牌國內業務銷售專員-台北安和門市</td>\n",
       "      <td>家居品牌國內業務銷售專員-台北安和門市</td>\n",
       "      <td>1</td>\n",
       "      <td>1</td>\n",
       "      <td>6001001005</td>\n",
       "      <td>台北市大安區</td>\n",
       "      <td></td>\n",
       "      <td>AJ2愛家概念，台灣最精實、瘋狂的家居電商品牌！  \\n\\n在AJ2，品味美感是團隊持續追求...</td>\n",
       "      <td>...</td>\n",
       "      <td>[員工50人]</td>\n",
       "      <td></td>\n",
       "      <td>{'applyAnalyze': '//www.104.com.tw/jobs/apply/...</td>\n",
       "      <td>hotjob_chr</td>\n",
       "      <td>家居品牌國內業務銷售專員-台北安和門市</td>\n",
       "      <td>愛家概念有限公司</td>\n",
       "      <td>121.5433783</td>\n",
       "      <td>25.0249441</td>\n",
       "      <td>0</td>\n",
       "      <td>[]</td>\n",
       "    </tr>\n",
       "    <tr>\n",
       "      <th>3</th>\n",
       "      <td>1</td>\n",
       "      <td>9144522</td>\n",
       "      <td>【後疫情時代把握趨勢_薪獎4萬~8萬】_課程規劃顧問</td>\n",
       "      <td>【後疫情時代把握趨勢_薪獎4萬~8萬】_課程規劃顧問</td>\n",
       "      <td>1</td>\n",
       "      <td>1</td>\n",
       "      <td>6001002003</td>\n",
       "      <td>新北市板橋區</td>\n",
       "      <td>文化路二段293號5樓(捷運江子翠2號出口)</td>\n",
       "      <td>TutorABC是成立逾 20年的全球教育企業，是世界領先的線上教育及語言學習平台。在全新的...</td>\n",
       "      <td>...</td>\n",
       "      <td>[]</td>\n",
       "      <td>距捷運江子翠站100公尺</td>\n",
       "      <td>{'applyAnalyze': '//www.104.com.tw/jobs/apply/...</td>\n",
       "      <td>hotjob_chr</td>\n",
       "      <td>【後疫情時代把握趨勢_薪獎4萬~8萬】_課程規劃顧問</td>\n",
       "      <td>TutorABC_麥奇數位股份有限公司</td>\n",
       "      <td>121.4715737</td>\n",
       "      <td>25.0294911</td>\n",
       "      <td>0</td>\n",
       "      <td>[]</td>\n",
       "    </tr>\n",
       "    <tr>\n",
       "      <th>4</th>\n",
       "      <td>1</td>\n",
       "      <td>12803682</td>\n",
       "      <td>第三屆T大使募集：智慧製造領域人才-美上鎂科技股份有限公司 (南投)</td>\n",
       "      <td>第三屆T大使募集：智慧製造領域人才-美上鎂科技股份有限公司 (南投)</td>\n",
       "      <td>1</td>\n",
       "      <td>1</td>\n",
       "      <td>6001011001</td>\n",
       "      <td>南投縣南投市</td>\n",
       "      <td></td>\n",
       "      <td>【主題學院】基礎培訓1週+主題培訓&amp;amp;企業實作19週，適合無專業基礎想要跨域學習者 \\...</td>\n",
       "      <td>...</td>\n",
       "      <td>[]</td>\n",
       "      <td></td>\n",
       "      <td>{'applyAnalyze': '//www.104.com.tw/jobs/apply/...</td>\n",
       "      <td>hotjob_chr</td>\n",
       "      <td>第三屆T大使募集：智慧製造領域人才-美上鎂科技股份有限公司 (南投)</td>\n",
       "      <td>【企業專案招募】104未來無限整合招募中心</td>\n",
       "      <td>120.6775054</td>\n",
       "      <td>23.9179637</td>\n",
       "      <td>0</td>\n",
       "      <td>[]</td>\n",
       "    </tr>\n",
       "  </tbody>\n",
       "</table>\n",
       "<p>5 rows × 40 columns</p>\n",
       "</div>"
      ],
      "text/plain": [
       "  jobType     jobNo                             jobName  \\\n",
       "0       1  12771843                  【增值業務中心】數位廣告行銷企劃專員   \n",
       "1       1  12547422                      【營運企劃】諮詢企劃專業人員   \n",
       "2       1  11938943                 家居品牌國內業務銷售專員-台北安和門市   \n",
       "3       1   9144522          【後疫情時代把握趨勢_薪獎4萬~8萬】_課程規劃顧問   \n",
       "4       1  12803682  第三屆T大使募集：智慧製造領域人才-美上鎂科技股份有限公司 (南投)   \n",
       "\n",
       "                       jobNameSnippet jobRole jobRo   jobAddrNo jobAddrNoDesc  \\\n",
       "0                  【增值業務中心】數位廣告行銷企劃專員       1     1  6001001010        台北市內湖區   \n",
       "1                      【營運企劃】諮詢企劃專業人員       1     1  6001001005        台北市大安區   \n",
       "2                 家居品牌國內業務銷售專員-台北安和門市       1     1  6001001005        台北市大安區   \n",
       "3          【後疫情時代把握趨勢_薪獎4萬~8萬】_課程規劃顧問       1     1  6001002003        新北市板橋區   \n",
       "4  第三屆T大使募集：智慧製造領域人才-美上鎂科技股份有限公司 (南投)       1     1  6001011001        南投縣南投市   \n",
       "\n",
       "               jobAddress                                        description  \\\n",
       "0                洲子街71號9樓  Hello! 我們是9Smedia，隸屬於真好玩娛樂科技的增值業務中心，於2018年成立，是...   \n",
       "1                          本職缺只接受國泰人壽徵才網站的履歷表，請立即至以下網址登錄您的資料：『https://pse...   \n",
       "2                          AJ2愛家概念，台灣最精實、瘋狂的家居電商品牌！  \\n\\n在AJ2，品味美感是團隊持續追求...   \n",
       "3  文化路二段293號5樓(捷運江子翠2號出口)  TutorABC是成立逾 20年的全球教育企業，是世界領先的線上教育及語言學習平台。在全新的...   \n",
       "4                          【主題學院】基礎培訓1週+主題培訓&amp;企業實作19週，適合無專業基礎想要跨域學習者 \\...   \n",
       "\n",
       "   ...        tags      landmark  \\\n",
       "0  ...    [員工200人]   距捷運港墘站310公尺   \n",
       "1  ...  [員工33000人]                 \n",
       "2  ...     [員工50人]                 \n",
       "3  ...          []  距捷運江子翠站100公尺   \n",
       "4  ...          []                 \n",
       "\n",
       "                                                link   jobsource  \\\n",
       "0  {'applyAnalyze': '//www.104.com.tw/jobs/apply/...  hotjob_chr   \n",
       "1  {'applyAnalyze': '//www.104.com.tw/jobs/apply/...  hotjob_chr   \n",
       "2  {'applyAnalyze': '//www.104.com.tw/jobs/apply/...  hotjob_chr   \n",
       "3  {'applyAnalyze': '//www.104.com.tw/jobs/apply/...  hotjob_chr   \n",
       "4  {'applyAnalyze': '//www.104.com.tw/jobs/apply/...  hotjob_chr   \n",
       "\n",
       "                           jobNameRaw            custNameRaw          lon  \\\n",
       "0                  【增值業務中心】數位廣告行銷企劃專員          真好玩娛樂科技股份有限公司  121.5720354   \n",
       "1                      【營運企劃】諮詢企劃專業人員  國泰人壽保險股份有限公司_總公司_國泰金控  121.5433783   \n",
       "2                 家居品牌國內業務銷售專員-台北安和門市               愛家概念有限公司  121.5433783   \n",
       "3          【後疫情時代把握趨勢_薪獎4萬~8萬】_課程規劃顧問    TutorABC_麥奇數位股份有限公司  121.4715737   \n",
       "4  第三屆T大使募集：智慧製造領域人才-美上鎂科技股份有限公司 (南投)  【企業專案招募】104未來無限整合招募中心  120.6775054   \n",
       "\n",
       "          lat remoteWorkType                       major  \n",
       "0  25.0799081              0                          []  \n",
       "1  25.0249441              0  [商業及管理學科類, 銀行保險相關, 數理統計相關]  \n",
       "2  25.0249441              0                          []  \n",
       "3  25.0294911              0                          []  \n",
       "4  23.9179637              0                          []  \n",
       "\n",
       "[5 rows x 40 columns]"
      ]
     },
     "execution_count": 11,
     "metadata": {},
     "output_type": "execute_result"
    }
   ],
   "source": [
    "df = pd.DataFrame(all_data)\n",
    "df.head()"
   ]
  },
  {
   "cell_type": "code",
   "execution_count": 12,
   "metadata": {
    "colab": {
     "base_uri": "https://localhost:8080/"
    },
    "id": "WCxEh6FHl0z_",
    "outputId": "5947c429-0954-4d6f-a3c4-240d97b6f75c"
   },
   "outputs": [
    {
     "name": "stdout",
     "output_type": "stream",
     "text": [
      "(3010, 40)\n",
      "2286\n"
     ]
    },
    {
     "data": {
      "text/plain": [
       "(2286, 40)"
      ]
     },
     "execution_count": 12,
     "metadata": {},
     "output_type": "execute_result"
    }
   ],
   "source": [
    "# 檢查有沒有重複的\n",
    "print(df.shape)\n",
    "print(len(set(df.jobNo)))\n",
    "\n",
    "#　拿掉重複的\n",
    "df = df.drop_duplicates('jobNo')\n",
    "df.shape"
   ]
  },
  {
   "cell_type": "code",
   "execution_count": 13,
   "metadata": {
    "colab": {
     "base_uri": "https://localhost:8080/",
     "height": 768
    },
    "id": "QbtiWl0XmBbT",
    "outputId": "99bd2fab-9c69-4f2c-e44a-e1699c99e370"
   },
   "outputs": [
    {
     "data": {
      "text/html": [
       "<div>\n",
       "<style scoped>\n",
       "    .dataframe tbody tr th:only-of-type {\n",
       "        vertical-align: middle;\n",
       "    }\n",
       "\n",
       "    .dataframe tbody tr th {\n",
       "        vertical-align: top;\n",
       "    }\n",
       "\n",
       "    .dataframe thead th {\n",
       "        text-align: right;\n",
       "    }\n",
       "</style>\n",
       "<table border=\"1\" class=\"dataframe\">\n",
       "  <thead>\n",
       "    <tr style=\"text-align: right;\">\n",
       "      <th></th>\n",
       "      <th>jobType</th>\n",
       "      <th>jobNo</th>\n",
       "      <th>jobName</th>\n",
       "      <th>jobNameSnippet</th>\n",
       "      <th>jobRole</th>\n",
       "      <th>jobRo</th>\n",
       "      <th>jobAddrNo</th>\n",
       "      <th>jobAddrNoDesc</th>\n",
       "      <th>jobAddress</th>\n",
       "      <th>description</th>\n",
       "      <th>...</th>\n",
       "      <th>tags</th>\n",
       "      <th>landmark</th>\n",
       "      <th>link</th>\n",
       "      <th>jobsource</th>\n",
       "      <th>jobNameRaw</th>\n",
       "      <th>custNameRaw</th>\n",
       "      <th>lon</th>\n",
       "      <th>lat</th>\n",
       "      <th>remoteWorkType</th>\n",
       "      <th>major</th>\n",
       "    </tr>\n",
       "  </thead>\n",
       "  <tbody>\n",
       "    <tr>\n",
       "      <th>0</th>\n",
       "      <td>1</td>\n",
       "      <td>12771843</td>\n",
       "      <td>【增值業務中心】數位廣告行銷企劃專員</td>\n",
       "      <td>【增值業務中心】數位廣告行銷企劃專員</td>\n",
       "      <td>1</td>\n",
       "      <td>1</td>\n",
       "      <td>6001001010</td>\n",
       "      <td>台北市內湖區</td>\n",
       "      <td>洲子街71號9樓</td>\n",
       "      <td>Hello! 我們是9Smedia，隸屬於真好玩娛樂科技的增值業務中心，於2018年成立，是...</td>\n",
       "      <td>...</td>\n",
       "      <td>[員工200人]</td>\n",
       "      <td>距捷運港墘站310公尺</td>\n",
       "      <td>{'applyAnalyze': '//www.104.com.tw/jobs/apply/...</td>\n",
       "      <td>hotjob_chr</td>\n",
       "      <td>【增值業務中心】數位廣告行銷企劃專員</td>\n",
       "      <td>真好玩娛樂科技股份有限公司</td>\n",
       "      <td>121.5720354</td>\n",
       "      <td>25.0799081</td>\n",
       "      <td>0</td>\n",
       "      <td>[]</td>\n",
       "    </tr>\n",
       "    <tr>\n",
       "      <th>1</th>\n",
       "      <td>1</td>\n",
       "      <td>12547422</td>\n",
       "      <td>【營運企劃】諮詢企劃專業人員</td>\n",
       "      <td>【營運企劃】諮詢企劃專業人員</td>\n",
       "      <td>1</td>\n",
       "      <td>1</td>\n",
       "      <td>6001001005</td>\n",
       "      <td>台北市大安區</td>\n",
       "      <td></td>\n",
       "      <td>本職缺只接受國泰人壽徵才網站的履歷表，請立即至以下網址登錄您的資料：『https://pse...</td>\n",
       "      <td>...</td>\n",
       "      <td>[員工33000人]</td>\n",
       "      <td></td>\n",
       "      <td>{'applyAnalyze': '//www.104.com.tw/jobs/apply/...</td>\n",
       "      <td>hotjob_chr</td>\n",
       "      <td>【營運企劃】諮詢企劃專業人員</td>\n",
       "      <td>國泰人壽保險股份有限公司_總公司_國泰金控</td>\n",
       "      <td>121.5433783</td>\n",
       "      <td>25.0249441</td>\n",
       "      <td>0</td>\n",
       "      <td>[商業及管理學科類, 銀行保險相關, 數理統計相關]</td>\n",
       "    </tr>\n",
       "    <tr>\n",
       "      <th>2</th>\n",
       "      <td>1</td>\n",
       "      <td>11938943</td>\n",
       "      <td>家居品牌國內業務銷售專員-台北安和門市</td>\n",
       "      <td>家居品牌國內業務銷售專員-台北安和門市</td>\n",
       "      <td>1</td>\n",
       "      <td>1</td>\n",
       "      <td>6001001005</td>\n",
       "      <td>台北市大安區</td>\n",
       "      <td></td>\n",
       "      <td>AJ2愛家概念，台灣最精實、瘋狂的家居電商品牌！  \\n\\n在AJ2，品味美感是團隊持續追求...</td>\n",
       "      <td>...</td>\n",
       "      <td>[員工50人]</td>\n",
       "      <td></td>\n",
       "      <td>{'applyAnalyze': '//www.104.com.tw/jobs/apply/...</td>\n",
       "      <td>hotjob_chr</td>\n",
       "      <td>家居品牌國內業務銷售專員-台北安和門市</td>\n",
       "      <td>愛家概念有限公司</td>\n",
       "      <td>121.5433783</td>\n",
       "      <td>25.0249441</td>\n",
       "      <td>0</td>\n",
       "      <td>[]</td>\n",
       "    </tr>\n",
       "    <tr>\n",
       "      <th>3</th>\n",
       "      <td>1</td>\n",
       "      <td>9144522</td>\n",
       "      <td>【後疫情時代把握趨勢_薪獎4萬~8萬】_課程規劃顧問</td>\n",
       "      <td>【後疫情時代把握趨勢_薪獎4萬~8萬】_課程規劃顧問</td>\n",
       "      <td>1</td>\n",
       "      <td>1</td>\n",
       "      <td>6001002003</td>\n",
       "      <td>新北市板橋區</td>\n",
       "      <td>文化路二段293號5樓(捷運江子翠2號出口)</td>\n",
       "      <td>TutorABC是成立逾 20年的全球教育企業，是世界領先的線上教育及語言學習平台。在全新的...</td>\n",
       "      <td>...</td>\n",
       "      <td>[]</td>\n",
       "      <td>距捷運江子翠站100公尺</td>\n",
       "      <td>{'applyAnalyze': '//www.104.com.tw/jobs/apply/...</td>\n",
       "      <td>hotjob_chr</td>\n",
       "      <td>【後疫情時代把握趨勢_薪獎4萬~8萬】_課程規劃顧問</td>\n",
       "      <td>TutorABC_麥奇數位股份有限公司</td>\n",
       "      <td>121.4715737</td>\n",
       "      <td>25.0294911</td>\n",
       "      <td>0</td>\n",
       "      <td>[]</td>\n",
       "    </tr>\n",
       "    <tr>\n",
       "      <th>4</th>\n",
       "      <td>1</td>\n",
       "      <td>12803682</td>\n",
       "      <td>第三屆T大使募集：智慧製造領域人才-美上鎂科技股份有限公司 (南投)</td>\n",
       "      <td>第三屆T大使募集：智慧製造領域人才-美上鎂科技股份有限公司 (南投)</td>\n",
       "      <td>1</td>\n",
       "      <td>1</td>\n",
       "      <td>6001011001</td>\n",
       "      <td>南投縣南投市</td>\n",
       "      <td></td>\n",
       "      <td>【主題學院】基礎培訓1週+主題培訓&amp;amp;企業實作19週，適合無專業基礎想要跨域學習者 \\...</td>\n",
       "      <td>...</td>\n",
       "      <td>[]</td>\n",
       "      <td></td>\n",
       "      <td>{'applyAnalyze': '//www.104.com.tw/jobs/apply/...</td>\n",
       "      <td>hotjob_chr</td>\n",
       "      <td>第三屆T大使募集：智慧製造領域人才-美上鎂科技股份有限公司 (南投)</td>\n",
       "      <td>【企業專案招募】104未來無限整合招募中心</td>\n",
       "      <td>120.6775054</td>\n",
       "      <td>23.9179637</td>\n",
       "      <td>0</td>\n",
       "      <td>[]</td>\n",
       "    </tr>\n",
       "  </tbody>\n",
       "</table>\n",
       "<p>5 rows × 40 columns</p>\n",
       "</div>"
      ],
      "text/plain": [
       "  jobType     jobNo                             jobName  \\\n",
       "0       1  12771843                  【增值業務中心】數位廣告行銷企劃專員   \n",
       "1       1  12547422                      【營運企劃】諮詢企劃專業人員   \n",
       "2       1  11938943                 家居品牌國內業務銷售專員-台北安和門市   \n",
       "3       1   9144522          【後疫情時代把握趨勢_薪獎4萬~8萬】_課程規劃顧問   \n",
       "4       1  12803682  第三屆T大使募集：智慧製造領域人才-美上鎂科技股份有限公司 (南投)   \n",
       "\n",
       "                       jobNameSnippet jobRole jobRo   jobAddrNo jobAddrNoDesc  \\\n",
       "0                  【增值業務中心】數位廣告行銷企劃專員       1     1  6001001010        台北市內湖區   \n",
       "1                      【營運企劃】諮詢企劃專業人員       1     1  6001001005        台北市大安區   \n",
       "2                 家居品牌國內業務銷售專員-台北安和門市       1     1  6001001005        台北市大安區   \n",
       "3          【後疫情時代把握趨勢_薪獎4萬~8萬】_課程規劃顧問       1     1  6001002003        新北市板橋區   \n",
       "4  第三屆T大使募集：智慧製造領域人才-美上鎂科技股份有限公司 (南投)       1     1  6001011001        南投縣南投市   \n",
       "\n",
       "               jobAddress                                        description  \\\n",
       "0                洲子街71號9樓  Hello! 我們是9Smedia，隸屬於真好玩娛樂科技的增值業務中心，於2018年成立，是...   \n",
       "1                          本職缺只接受國泰人壽徵才網站的履歷表，請立即至以下網址登錄您的資料：『https://pse...   \n",
       "2                          AJ2愛家概念，台灣最精實、瘋狂的家居電商品牌！  \\n\\n在AJ2，品味美感是團隊持續追求...   \n",
       "3  文化路二段293號5樓(捷運江子翠2號出口)  TutorABC是成立逾 20年的全球教育企業，是世界領先的線上教育及語言學習平台。在全新的...   \n",
       "4                          【主題學院】基礎培訓1週+主題培訓&amp;企業實作19週，適合無專業基礎想要跨域學習者 \\...   \n",
       "\n",
       "   ...        tags      landmark  \\\n",
       "0  ...    [員工200人]   距捷運港墘站310公尺   \n",
       "1  ...  [員工33000人]                 \n",
       "2  ...     [員工50人]                 \n",
       "3  ...          []  距捷運江子翠站100公尺   \n",
       "4  ...          []                 \n",
       "\n",
       "                                                link   jobsource  \\\n",
       "0  {'applyAnalyze': '//www.104.com.tw/jobs/apply/...  hotjob_chr   \n",
       "1  {'applyAnalyze': '//www.104.com.tw/jobs/apply/...  hotjob_chr   \n",
       "2  {'applyAnalyze': '//www.104.com.tw/jobs/apply/...  hotjob_chr   \n",
       "3  {'applyAnalyze': '//www.104.com.tw/jobs/apply/...  hotjob_chr   \n",
       "4  {'applyAnalyze': '//www.104.com.tw/jobs/apply/...  hotjob_chr   \n",
       "\n",
       "                           jobNameRaw            custNameRaw          lon  \\\n",
       "0                  【增值業務中心】數位廣告行銷企劃專員          真好玩娛樂科技股份有限公司  121.5720354   \n",
       "1                      【營運企劃】諮詢企劃專業人員  國泰人壽保險股份有限公司_總公司_國泰金控  121.5433783   \n",
       "2                 家居品牌國內業務銷售專員-台北安和門市               愛家概念有限公司  121.5433783   \n",
       "3          【後疫情時代把握趨勢_薪獎4萬~8萬】_課程規劃顧問    TutorABC_麥奇數位股份有限公司  121.4715737   \n",
       "4  第三屆T大使募集：智慧製造領域人才-美上鎂科技股份有限公司 (南投)  【企業專案招募】104未來無限整合招募中心  120.6775054   \n",
       "\n",
       "          lat remoteWorkType                       major  \n",
       "0  25.0799081              0                          []  \n",
       "1  25.0249441              0  [商業及管理學科類, 銀行保險相關, 數理統計相關]  \n",
       "2  25.0249441              0                          []  \n",
       "3  25.0294911              0                          []  \n",
       "4  23.9179637              0                          []  \n",
       "\n",
       "[5 rows x 40 columns]"
      ]
     },
     "execution_count": 13,
     "metadata": {},
     "output_type": "execute_result"
    }
   ],
   "source": [
    "df.head()"
   ]
  },
  {
   "cell_type": "markdown",
   "metadata": {
    "id": "jaL4IbianI9C"
   },
   "source": [
    "# Dump files"
   ]
  },
  {
   "cell_type": "code",
   "execution_count": 14,
   "metadata": {
    "colab": {
     "base_uri": "https://localhost:8080/"
    },
    "id": "jX_KaLXPosiM",
    "outputId": "56024843-a48a-4388-9f26-b0b81732db35"
   },
   "outputs": [
    {
     "name": "stdout",
     "output_type": "stream",
     "text": [
      "Current time:  20220624105238\n"
     ]
    }
   ],
   "source": [
    "from datetime import datetime\n",
    "now = datetime.now().strftime(\"%Y%m%d%H%M%S\")\n",
    "print(\"Current time: \", now)"
   ]
  },
  {
   "cell_type": "markdown",
   "metadata": {
    "id": "zDRNQm17nuCD"
   },
   "source": [
    "## Method 1: by json library"
   ]
  },
  {
   "cell_type": "code",
   "execution_count": 15,
   "metadata": {
    "id": "4q4qMeSTn3aJ"
   },
   "outputs": [],
   "source": [
    "import json\n",
    "with open('104_list%s.json'%now, 'w') as outfile:\n",
    "  json.dump(all_data, outfile)"
   ]
  },
  {
   "cell_type": "markdown",
   "metadata": {
    "id": "ZDaOoj4-oCtc"
   },
   "source": [
    "## Method 2: by pandas library"
   ]
  },
  {
   "cell_type": "code",
   "execution_count": 16,
   "metadata": {
    "id": "BpAVh49mnPpx"
   },
   "outputs": [],
   "source": [
    "with open('104_df%s.json'%now, 'w') as f:\n",
    "  f.write(df.to_json())"
   ]
  },
  {
   "cell_type": "code",
   "execution_count": 17,
   "metadata": {
    "colab": {
     "base_uri": "https://localhost:8080/"
    },
    "id": "3cpNEjJvnWlT",
    "outputId": "8b116bf1-055e-44d2-9511-2472e5adbfce"
   },
   "outputs": [
    {
     "data": {
      "text/plain": [
       "(2286, 40)"
      ]
     },
     "execution_count": 17,
     "metadata": {},
     "output_type": "execute_result"
    }
   ],
   "source": [
    "with open('104_df%s.json'%now, 'r') as fin:\n",
    "  data2 = pd.read_json(fin)\n",
    "data2.head()\n",
    "data2.shape"
   ]
  },
  {
   "cell_type": "markdown",
   "metadata": {
    "id": "F1UY1NeBpsYq"
   },
   "source": [
    "# Clean Version"
   ]
  },
  {
   "cell_type": "code",
   "execution_count": 18,
   "metadata": {
    "colab": {
     "base_uri": "https://localhost:8080/"
    },
    "id": "8HfgpYs3pxY6",
    "outputId": "4548f3fa-4415-49ab-a296-27b694aeaa7f"
   },
   "outputs": [
    {
     "name": "stdout",
     "output_type": "stream",
     "text": [
      "150\n",
      "30 60 90 120 150 180 210 240 270 300 330 360 390 420 450 480 510 540 570 600 630 660 690 720 750 780 810 840 870 900 930 960 990 1020 1050 1080 1110 1140 1170 1200 1230 1260 1290 1320 1350 1380 1410 1440 1470 1500 1530 1560 1590 1620 1650 1680 1710 1740 1770 1800 1830 1860 1890 1920 1950 1980 2010 2040 2070 2100 2130 2160 2190 2220 2250 2280 2310 2340 2370 2400 2430 2460 2490 2520 2550 2580 2610 2640 2670 2700 2730 2760 2790 2820 2850 2880 2910 2940 2970 3000 3030 3060 3090 3120 3150 3180 3210 3240 3270 3300 3330 3360 3390 3420 3450 3480 3510 3540 3570 3600 3630 3660 3690 3720 3750 3780 3810 3840 3870 3900 3930 3960 3990 4020 4050 4080 4110 4140 4170 4200 4230 4260 4290 4320 4350 4380 4410 4440 4470 \n",
      "Current Time = 20220624105454\n"
     ]
    },
    {
     "data": {
      "text/plain": [
       "(58, 40)"
      ]
     },
     "execution_count": 18,
     "metadata": {},
     "output_type": "execute_result"
    }
   ],
   "source": [
    "headers = {'referer': 'https://www.104.com.tw/'}\n",
    "search_str = '數據分析'\n",
    "\n",
    "# Detecting totalPage\n",
    "url_104 = 'https://www.104.com.tw/jobs/search/list?ro=0&kwop=7&keyword=' + search_str + '&expansionType=area%2Cspec%2Ccom%2Cjob%2Cwf%2Cwktm&order=15&asc=0&page=2&mode=s&jobsource=2018indexpoc&langFlag=0&langStatus=0&recommendJob=1&hotJob=1'\n",
    "\n",
    "raw = requests.get(url_104, headers=headers).json()\n",
    "totalPage = raw['data']['totalPage']\n",
    "print(totalPage)\n",
    "\n",
    "# Getting data by loop\n",
    "all_data = []\n",
    "for page in range(1, totalPage):\n",
    "    url = 'https://www.104.com.tw/jobs/search/list?ro=0&kwop=7&keyword=' + search_str + '&expansionType=area%2Cspec%2Ccom%2Cjob%2Cwf%2Cwktm&order=15&asc=0&' + str(page) + '&mode=s&jobsource=2018indexpoc&langFlag=0&langStatus=0&recommendJob=1&hotJob=1'\n",
    "    raw = requests.get(url, headers=headers).json()\n",
    "    all_data.extend(raw['data']['list'])\n",
    "    print(len(all_data), end = \" \")\n",
    "print()\n",
    "df = pd.DataFrame(all_data)\n",
    "df = df.drop_duplicates('jobNo')\n",
    "\n",
    "# Saving and Backing up data\n",
    "from datetime import datetime \n",
    "\n",
    "now = datetime.now().strftime(\"%Y%m%d%H%M%S\")\n",
    "print(\"Current Time =\", now)\n",
    "with open('104_%s_%s.json'%(search_str, now), 'w') as f:\n",
    "  f.write(df.to_json())\n",
    "  \n",
    "with open('104_%s_%s.json'%(search_str,now), 'r') as fin:\n",
    "  data = pd.read_json(fin)\n",
    "data.head()\n",
    "data.shape"
   ]
  }
 ],
 "metadata": {
  "colab": {
   "name": "03_Crwal_json_104網站.ipynb",
   "provenance": []
  },
  "kernelspec": {
   "display_name": "Python 3",
   "language": "python",
   "name": "python3"
  },
  "language_info": {
   "codemirror_mode": {
    "name": "ipython",
    "version": 3
   },
   "file_extension": ".py",
   "mimetype": "text/x-python",
   "name": "python",
   "nbconvert_exporter": "python",
   "pygments_lexer": "ipython3",
   "version": "3.8.13"
  }
 },
 "nbformat": 4,
 "nbformat_minor": 4
}
