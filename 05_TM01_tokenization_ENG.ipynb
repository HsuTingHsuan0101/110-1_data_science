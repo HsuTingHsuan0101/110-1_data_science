{
  "nbformat": 4,
  "nbformat_minor": 0,
  "metadata": {
    "colab": {
      "provenance": []
    },
    "kernelspec": {
      "name": "python3",
      "display_name": "Python 3"
    },
    "language_info": {
      "name": "python"
    }
  },
  "cells": [
    {
      "cell_type": "markdown",
      "source": [
        "# Text Mining-tokenization\n",
        "data source: wikipedia"
      ],
      "metadata": {
        "id": "eWhmZwqpba0v"
      }
    },
    {
      "cell_type": "markdown",
      "source": [
        "## Loading Wikipedia data"
      ],
      "metadata": {
        "id": "Y_eaR7jOdhCa"
      }
    },
    {
      "cell_type": "code",
      "source": [
        "!pip install wikipedia"
      ],
      "metadata": {
        "id": "8PphW5zZb7nI",
        "colab": {
          "base_uri": "https://localhost:8080/"
        },
        "outputId": "4733cfc9-7369-4844-a410-96b0f5b8334b"
      },
      "execution_count": 6,
      "outputs": [
        {
          "output_type": "stream",
          "name": "stdout",
          "text": [
            "Looking in indexes: https://pypi.org/simple, https://us-python.pkg.dev/colab-wheels/public/simple/\n",
            "Collecting wikipedia\n",
            "  Downloading wikipedia-1.4.0.tar.gz (27 kB)\n",
            "  Preparing metadata (setup.py) ... \u001b[?25l\u001b[?25hdone\n",
            "Requirement already satisfied: beautifulsoup4 in /usr/local/lib/python3.8/dist-packages (from wikipedia) (4.6.3)\n",
            "Requirement already satisfied: requests<3.0.0,>=2.0.0 in /usr/local/lib/python3.8/dist-packages (from wikipedia) (2.25.1)\n",
            "Requirement already satisfied: idna<3,>=2.5 in /usr/local/lib/python3.8/dist-packages (from requests<3.0.0,>=2.0.0->wikipedia) (2.10)\n",
            "Requirement already satisfied: certifi>=2017.4.17 in /usr/local/lib/python3.8/dist-packages (from requests<3.0.0,>=2.0.0->wikipedia) (2022.12.7)\n",
            "Requirement already satisfied: chardet<5,>=3.0.2 in /usr/local/lib/python3.8/dist-packages (from requests<3.0.0,>=2.0.0->wikipedia) (4.0.0)\n",
            "Requirement already satisfied: urllib3<1.27,>=1.21.1 in /usr/local/lib/python3.8/dist-packages (from requests<3.0.0,>=2.0.0->wikipedia) (1.26.14)\n",
            "Building wheels for collected packages: wikipedia\n",
            "  Building wheel for wikipedia (setup.py) ... \u001b[?25l\u001b[?25hdone\n",
            "  Created wheel for wikipedia: filename=wikipedia-1.4.0-py3-none-any.whl size=11695 sha256=7ff82499f578e8fda17096bd46605ca1076e21ea4dc898bb20192c63c2acecc3\n",
            "  Stored in directory: /root/.cache/pip/wheels/07/93/05/72c05349177dca2e0ba31a33ba4f7907606f7ddef303517c6a\n",
            "Successfully built wikipedia\n",
            "Installing collected packages: wikipedia\n",
            "Successfully installed wikipedia-1.4.0\n"
          ]
        }
      ]
    },
    {
      "cell_type": "code",
      "execution_count": 7,
      "metadata": {
        "id": "IhhqcQ5ra7r-"
      },
      "outputs": [],
      "source": [
        "import wikipedia\n",
        "import string"
      ]
    },
    {
      "cell_type": "code",
      "source": [
        "# page \"Taipei\"\n",
        "cv = wikipedia.page(\"Taipei\")\n",
        "text = cv.content\n",
        "print(cv.url)\n",
        "print(type(text))\n",
        "print(\"The length of Taipei page is: \", len(text))\n"
      ],
      "metadata": {
        "colab": {
          "base_uri": "https://localhost:8080/"
        },
        "id": "MACErP6Ub1yw",
        "outputId": "44325f99-2f9f-4ebc-9ba9-2b32d8de1181"
      },
      "execution_count": 8,
      "outputs": [
        {
          "output_type": "stream",
          "name": "stdout",
          "text": [
            "https://en.wikipedia.org/wiki/Taipei\n",
            "<class 'str'>\n",
            "The length of Taipei page is:  46155\n"
          ]
        }
      ]
    },
    {
      "cell_type": "code",
      "source": [
        "# summary\n",
        "summary_text = wikipedia.summary(\"Taipei\", sentences = 20)\n",
        "print(len(summary_text))\n",
        "print(\"The length of Taipei summary is: \", len(summary_text))"
      ],
      "metadata": {
        "colab": {
          "base_uri": "https://localhost:8080/"
        },
        "id": "CZotBYrRczMe",
        "outputId": "3b760524-c231-421d-c3a8-f48c3cc8da0c"
      },
      "execution_count": 9,
      "outputs": [
        {
          "output_type": "stream",
          "name": "stdout",
          "text": [
            "1834\n",
            "The length of Taipei summary is:  1834\n"
          ]
        }
      ]
    },
    {
      "cell_type": "code",
      "source": [
        "# print(summary_text)"
      ],
      "metadata": {
        "id": "S2cXPTEVd5sH"
      },
      "execution_count": 10,
      "outputs": []
    },
    {
      "cell_type": "markdown",
      "source": [
        "## Tokenization\n",
        "\n",
        "split strings, sentences into a list of tokens\n",
        "*   Method1: `.split()`\n",
        "*   Method2: `nltk`\n",
        "*   Method3: python function\n"
      ],
      "metadata": {
        "id": "ZoCtGJ4-e5fy"
      }
    },
    {
      "cell_type": "markdown",
      "source": [
        "### Method1： `.split()`\n",
        "以空格區隔句子(僅英文文本適用)\n",
        "\n"
      ],
      "metadata": {
        "id": "k-OOh5OYfJC3"
      }
    },
    {
      "cell_type": "code",
      "source": [
        "# example\n",
        "sentence_a = \"Taipei is the economic, political, educational and cultural center of Taiwan and one of the major hubs in East Asia.\"\n",
        "print(sentence_a.split(\"　\"))\n",
        "\n",
        "sentence_b = \"2022/08/16 00:10:32\"\n",
        "print(sentence_b.split(\"/\"))"
      ],
      "metadata": {
        "colab": {
          "base_uri": "https://localhost:8080/"
        },
        "id": "3B2YQMoYHP-a",
        "outputId": "215476ed-d1a9-45e9-fe62-8987077bb749"
      },
      "execution_count": 11,
      "outputs": [
        {
          "output_type": "stream",
          "name": "stdout",
          "text": [
            "['Taipei is the economic, political, educational and cultural center of Taiwan and one of the major hubs in East Asia.']\n",
            "['2022', '08', '16 00:10:32']\n"
          ]
        }
      ]
    },
    {
      "cell_type": "code",
      "source": [
        "print(len(text.split(\" \")))\n",
        "print(text.split(\" \")[:50])"
      ],
      "metadata": {
        "colab": {
          "base_uri": "https://localhost:8080/"
        },
        "id": "HGSpEcy3fi6U",
        "outputId": "d0b62a72-43f1-4be7-888a-0cc6b87b17af"
      },
      "execution_count": 12,
      "outputs": [
        {
          "output_type": "stream",
          "name": "stdout",
          "text": [
            "7090\n",
            "['Taipei', '(),', 'officially', 'Taipei', 'City,', 'is', 'the', 'capital', 'and', 'a', 'special', 'municipality', 'of', 'the', 'Republic', 'of', 'China', '(Taiwan).', 'Located', 'in', 'Northern', 'Taiwan,', 'Taipei', 'City', 'is', 'an', 'enclave', 'of', 'the', 'municipality', 'of', 'New', 'Taipei', 'City', 'that', 'sits', 'about', '25', 'km', '(16', 'mi)', 'southwest', 'of', 'the', 'northern', 'port', 'city', 'of', 'Keelung.', 'Most']\n"
          ]
        }
      ]
    },
    {
      "cell_type": "markdown",
      "source": [
        "### Method2： by nltk's function\n",
        "\n"
      ],
      "metadata": {
        "id": "dXtxE2Nvgm2F"
      }
    },
    {
      "cell_type": "code",
      "source": [
        "import nltk\n",
        "nltk.download(\"punkt\")\n",
        "from nltk.tokenize import word_tokenize\n",
        "\n",
        "nltk_tokenize = word_tokenize(text)\n",
        "print(len(nltk_tokenize))\n",
        "print(nltk_tokenize[:50])"
      ],
      "metadata": {
        "colab": {
          "base_uri": "https://localhost:8080/"
        },
        "id": "V7jWUr23gNEz",
        "outputId": "3aa37b30-08cb-4064-a479-66d00afe67d7"
      },
      "execution_count": 13,
      "outputs": [
        {
          "output_type": "stream",
          "name": "stderr",
          "text": [
            "[nltk_data] Downloading package punkt to /root/nltk_data...\n",
            "[nltk_data]   Package punkt is already up-to-date!\n"
          ]
        },
        {
          "output_type": "stream",
          "name": "stdout",
          "text": [
            "8328\n",
            "['Taipei', '(', ')', ',', 'officially', 'Taipei', 'City', ',', 'is', 'the', 'capital', 'and', 'a', 'special', 'municipality', 'of', 'the', 'Republic', 'of', 'China', '(', 'Taiwan', ')', '.', 'Located', 'in', 'Northern', 'Taiwan', ',', 'Taipei', 'City', 'is', 'an', 'enclave', 'of', 'the', 'municipality', 'of', 'New', 'Taipei', 'City', 'that', 'sits', 'about', '25', 'km', '(', '16', 'mi', ')']\n"
          ]
        }
      ]
    },
    {
      "cell_type": "markdown",
      "source": [
        "### Method3: by python funcior"
      ],
      "metadata": {
        "id": "NXp9VMHbiLaV"
      }
    },
    {
      "cell_type": "code",
      "source": [
        "def tokenizer(txt):\n",
        "  tok = \"\"\n",
        "  word_list = []\n",
        "\n",
        "  for ch in txt:\n",
        "    # print(ch)\n",
        "    if ch == \" \":\n",
        "      word_list.append(tok)\n",
        "      tok = \"\"\n",
        "    else:\n",
        "      tok += ch\n",
        "  return word_list\n",
        "\n",
        "word_list = tokenizer(text)\n",
        "print(len(word_list))\n",
        "print(word_list[:50])"
      ],
      "metadata": {
        "colab": {
          "base_uri": "https://localhost:8080/"
        },
        "id": "z9SD8vP7h9c9",
        "outputId": "88e97887-8381-410d-8867-bacf52953124"
      },
      "execution_count": 21,
      "outputs": [
        {
          "output_type": "stream",
          "name": "stdout",
          "text": [
            "7089\n",
            "['Taipei', '(),', 'officially', 'Taipei', 'City,', 'is', 'the', 'capital', 'and', 'a', 'special', 'municipality', 'of', 'the', 'Republic', 'of', 'China', '(Taiwan).', 'Located', 'in', 'Northern', 'Taiwan,', 'Taipei', 'City', 'is', 'an', 'enclave', 'of', 'the', 'municipality', 'of', 'New', 'Taipei', 'City', 'that', 'sits', 'about', '25', 'km', '(16', 'mi)', 'southwest', 'of', 'the', 'northern', 'port', 'city', 'of', 'Keelung.', 'Most']\n"
          ]
        }
      ]
    },
    {
      "cell_type": "markdown",
      "source": [
        "## Counting\n",
        "計算每個字詞出現次數\n"
      ],
      "metadata": {
        "id": "zLdo9dP2kXOm"
      }
    },
    {
      "cell_type": "code",
      "source": [
        "from collections import Counter\n",
        "\n",
        "word_count = Counter(word_list)\n",
        "for w, c in word_count.most_common(20):\n",
        "  print(\"%s\\t%s\" % (w, c))"
      ],
      "metadata": {
        "colab": {
          "base_uri": "https://localhost:8080/"
        },
        "id": "JK5TS_hJkaf5",
        "outputId": "01f1ee7d-6557-4384-edd2-b8907e4a7c58"
      },
      "execution_count": 22,
      "outputs": [
        {
          "output_type": "stream",
          "name": "stdout",
          "text": [
            "the\t449\n",
            "of\t246\n",
            "and\t238\n",
            "in\t205\n",
            "Taipei\t115\n",
            "to\t114\n",
            "is\t100\n",
            "a\t98\n",
            "The\t83\n",
            "as\t76\n",
            "by\t54\n",
            "was\t46\n",
            "on\t42\n",
            "city\t41\n",
            "are\t41\n",
            "for\t41\n",
            "Taiwan\t37\n",
            "from\t35\n",
            "has\t34\n",
            "with\t33\n"
          ]
        }
      ]
    },
    {
      "cell_type": "markdown",
      "source": [
        "## Stopword and sign removal\n",
        "使用Tokenization method2 nltk斷詞後的結果(nltk_tokenize)\n",
        "\n",
        "\n",
        "**移除標點符號**\n",
        "* Method1: `string` using `string.punctuation`\n",
        "* Method2: `.isalpha()` 去除所有包含非字母的字詞\n",
        "\n",
        "**移除stopwords**\n",
        "* load english stopwords from NLTK\n"
      ],
      "metadata": {
        "id": "bI7Fld80mhf8"
      }
    },
    {
      "cell_type": "markdown",
      "source": [
        "### Remove punctuation Method 1: by `string`\n"
      ],
      "metadata": {
        "id": "4yohA74lm_Ax"
      }
    },
    {
      "cell_type": "code",
      "source": [
        "tokens = nltk_tokenize"
      ],
      "metadata": {
        "id": "L00f4UAbnpLa"
      },
      "execution_count": 23,
      "outputs": []
    },
    {
      "cell_type": "code",
      "source": [
        "import string\n",
        "print(string.punctuation)"
      ],
      "metadata": {
        "colab": {
          "base_uri": "https://localhost:8080/"
        },
        "id": "tcAb--EklC0q",
        "outputId": "8f8de54e-3324-4380-c4fc-484223eb70c7"
      },
      "execution_count": 24,
      "outputs": [
        {
          "output_type": "stream",
          "name": "stdout",
          "text": [
            "!\"#$%&'()*+,-./:;<=>?@[\\]^_`{|}~\n"
          ]
        }
      ]
    },
    {
      "cell_type": "code",
      "source": [
        "def remove_punc(tokens):\n",
        "  tokens_list = []\n",
        "  for tok in tokens:\n",
        "    if tok not in string.punctuation:\n",
        "      tokens_list.append(tok)\n",
        "  return tokens_list\n",
        "\n",
        "print(len(remove_punc(tokens)))\n",
        "print(remove_punc(tokens))"
      ],
      "metadata": {
        "colab": {
          "base_uri": "https://localhost:8080/"
        },
        "id": "I5wkcmYjmor7",
        "outputId": "5e8d4b48-ddb4-49a5-9c80-cf6b4591e180"
      },
      "execution_count": 26,
      "outputs": [
        {
          "output_type": "stream",
          "name": "stdout",
          "text": [
            "7336\n",
            "['Taipei', 'officially', 'Taipei', 'City', 'is', 'the', 'capital', 'and', 'a', 'special', 'municipality', 'of', 'the', 'Republic', 'of', 'China', 'Taiwan', 'Located', 'in', 'Northern', 'Taiwan', 'Taipei', 'City', 'is', 'an', 'enclave', 'of', 'the', 'municipality', 'of', 'New', 'Taipei', 'City', 'that', 'sits', 'about', '25', 'km', '16', 'mi', 'southwest', 'of', 'the', 'northern', 'port', 'city', 'of', 'Keelung', 'Most', 'of', 'the', 'city', 'rests', 'on', 'the', 'Taipei', 'Basin', 'an', 'ancient', 'lakebed', 'The', 'basin', 'is', 'bounded', 'by', 'the', 'relatively', 'narrow', 'valleys', 'of', 'the', 'Keelung', 'and', 'Xindian', 'rivers', 'which', 'join', 'to', 'form', 'the', 'Tamsui', 'River', 'along', 'the', 'city', \"'s\", 'western', 'border.The', 'municipality', 'of', 'Taipei', 'is', 'home', 'to', 'an', 'estimated', 'population', 'of', '2,488,043', 'January', '2023', 'forming', 'the', 'core', 'part', 'of', 'the', 'Taipei–Keelung', 'metropolitan', 'area', 'also', 'known', 'as', '``', 'Greater', 'Taipei', \"''\", 'which', 'includes', 'the', 'nearby', 'cities', 'of', 'New', 'Taipei', 'and', 'Keelung', 'with', 'a', 'population', 'of', '7,047,559', 'the', '40th', 'most-populous', 'urban', 'area', 'in', 'the', 'world—roughly', 'one-third', 'of', 'Taiwanese', 'citizens', 'live', 'in', 'the', 'metro', 'areas', 'The', 'name', '``', 'Taipei', \"''\", 'can', 'refer', 'either', 'to', 'the', 'whole', 'metropolitan', 'area', 'or', 'just', 'the', 'municipality', 'alone', 'Taipei', 'has', 'been', 'the', 'political', 'center', 'of', 'the', 'island', 'since', '1887', 'when', 'it', 'first', 'became', 'the', 'seat', 'of', 'Taiwan', 'Province', 'by', 'the', 'Qing', 'dynasty', 'until', '1895', 'and', 'again', 'from', '1945', 'to', '1956', 'by', 'the', 'ROC', 'government', 'with', 'an', 'interregnum', 'from', '1895', 'to', '1945', 'as', 'the', 'seat', 'of', 'the', 'Government-General', 'of', 'Taiwan', 'during', 'the', 'Japanese', 'rule', 'The', 'city', 'has', 'been', 'the', 'national', 'seat', 'of', 'the', 'ROC', 'central', 'government', 'since', '1949', 'it', 'became', 'the', 'nation', \"'s\", 'special', 'municipality', 'then', 'known', 'as', 'Yuan-controlled', 'municipality', 'on', '1', 'July', '1967', 'from', 'provincial', 'city', 'status', 'Taipei', 'is', 'the', 'economic', 'political', 'educational', 'and', 'cultural', 'center', 'of', 'Taiwan', 'and', 'one', 'of', 'the', 'major', 'hubs', 'in', 'East', 'Asia', 'Considered', 'to', 'be', 'a', 'global', 'city', 'and', 'rated', 'as', 'an', 'Alpha', '−', 'City', 'by', 'GaWC', 'Taipei', 'is', 'part', 'of', 'a', 'major', 'high-tech', 'industrial', 'area', 'Railways', 'highways', 'airports', 'and', 'bus', 'lines', 'connect', 'Taipei', 'with', 'all', 'parts', 'of', 'the', 'island', 'The', 'city', 'is', 'served', 'by', 'two', 'airports', '–', 'Songshan', 'and', 'Taoyuan', 'The', 'municipality', 'is', 'home', 'to', 'various', 'world-famous', 'architectural', 'or', 'cultural', 'landmarks', 'such', 'as', 'the', 'former', 'tallest', 'building', 'in', 'the', 'world', 'between', '2004', 'and', '2009', 'Taipei', '101', 'other', 'notable', 'tourist', 'attractions', 'include', 'Chiang', 'Kai-shek', 'Memorial', 'Hall', 'Dalongdong', 'Baoan', 'Temple', 'Hsing', 'Tian', 'Kong', 'Lungshan', 'Temple', 'of', 'Manka', 'National', 'Palace', 'Museum', 'Presidential', 'Office', 'Building', 'Taipei', 'Guest', 'House', 'and', 'Zhinan', 'Temple', 'Popular', 'shopping', 'districts', 'including', 'Ximending', 'as', 'well', 'as', 'several', 'night', 'markets', 'dispersed', 'throughout', 'the', 'city', 'Natural', 'features', 'such', 'as', 'Maokong', 'Yangmingshan', 'and', 'hot', 'springs', 'are', 'also', 'well', 'known', 'to', 'international', 'visitors', 'In', 'English-language', 'news', 'reports', 'the', 'name', 'Taipei', 'often', 'serves', 'as', 'a', 'synecdoche', 'referring', 'to', 'central', 'government', 'of', 'Taiwan', 'Due', 'to', 'the', 'ambiguous', 'political', 'status', 'of', 'Taiwan', 'internationally', 'the', 'term', 'Chinese', 'Taipei', 'is', 'also', 'frequently', 'used', 'as', 'a', 'synonym', 'for', 'the', 'entire', 'country', 'as', 'when', 'Taiwan', \"'s\", 'governmental', 'representatives', 'participate', 'in', 'international', 'organizations', 'or', 'Taiwan', \"'s\", 'athletes', 'compete', 'in', 'international', 'sporting', 'events', 'including', 'the', 'Olympics', '==', 'Romanization', '==', 'The', 'spellings', 'Taipei', 'and', 'Tʻai-pei', 'derive', 'from', 'the', 'Wade–Giles', 'romanization', 'Tʻai²-pei³', 'which', 'means', 'the', 'North', 'of', 'Taiwan', 'in', 'Chinese', 'The', 'name', 'could', 'be', 'also', 'romanized', 'as', 'Táiběi', 'according', 'to', 'Hanyu', 'Pinyin', 'and', 'Tongyong', 'Pinyin.The', 'city', 'has', 'also', 'been', 'known', 'as', 'Tai-pak', 'derived', 'from', 'Taiwanese', 'Hokkien', 'and', 'Taipeh', '==', 'History', '==', 'Prior', 'to', 'the', 'significant', 'influx', 'of', 'Han', 'Chinese', 'colonists', 'the', 'region', 'of', 'Taipei', 'Basin', 'was', 'mainly', 'inhabited', 'by', 'the', 'plains', 'aborigines', 'called', 'Ketagalan', 'The', 'number', 'of', 'Han', 'colonists', 'gradually', 'increased', 'in', 'the', 'early', '18th', 'century', 'under', 'Qing', 'Dynasty', 'rule', 'after', 'the', 'government', 'began', 'permitting', 'development', 'in', 'the', 'area', 'In', '1875', 'the', 'northern', 'part', 'of', 'the', 'island', 'was', 'incorporated', 'into', 'the', 'new', 'Taipeh', 'Prefecture', 'It', 'was', 'formerly', 'established', 'as', 'Taipeh-fu', 'and', 'was', 'the', 'temporary', 'capital', 'of', 'the', 'island', 'in', '1887', 'when', 'it', 'was', 'declared', 'a', 'province', 'Fukien-Taiwan', 'Province', 'Taipeh', 'was', 'formally', 'made', 'the', 'provincial', 'capital', 'in', '1894', 'The', 'romanized', 'transcription', 'of', 'Taipeh', 'was', 'changed', 'to', 'Taihoku', 'in', '1895', 'when', 'the', 'Empire', 'of', 'Japan', 'annexed', 'Taiwan', 'based', 'on', 'the', 'Japanese', 'reading', 'of', 'the', 'two', 'characters', 'The', 'writing', 'in', 'Chinese', 'characters', 'remained', 'unaltered', 'Under', 'Japanese', 'rule', 'the', 'city', 'was', 'administered', 'under', 'Taihoku', 'Prefecture', 'Taiwan', \"'s\", 'Japanese', 'rulers', 'embarked', 'on', 'an', 'extensive', 'program', 'of', 'advanced', 'urban', 'planning', 'that', 'featured', 'extensive', 'railroad', 'links', 'A', 'number', 'of', 'Taipei', 'landmarks', 'and', 'cultural', 'institutions', 'date', 'from', 'this', 'period.Following', 'the', 'surrender', 'of', 'Japan', 'to', 'the', 'Allies', 'during', '1945', 'effective', 'control', 'of', 'Taiwan', 'was', 'handed', 'to', 'the', 'Republic', 'of', 'China', 'ROC', 'After', 'facing', 'defeat', 'from', 'Communist', 'forces', 'the', 'ruling', 'Kuomintang', 'relocated', 'the', 'ROC', 'government', 'to', 'Taiwan', 'and', 'declared', 'Taipei', 'the', 'provisional', 'capital', 'of', 'the', 'ROC', 'in', 'December', '1949', 'Taiwan', \"'s\", 'Kuomintang', 'rulers', 'regarded', 'the', 'city', 'as', 'the', 'capital', 'of', 'Taiwan', 'Province', 'and', 'their', 'control', 'as', 'mandated', 'by', 'General', 'Order', 'No', '1', 'In', '1990', 'Taipei', 'provided', 'the', 'backdrop', 'for', 'the', 'Wild', 'Lily', 'student', 'rallies', 'that', 'moved', 'Taiwanese', 'society', 'from', 'one-party', 'rule', 'to', 'multi-party', 'democracy', 'by', '1996', 'The', 'city', 'has', 'ever', 'since', 'served', 'as', 'the', 'seat', 'of', 'Taiwan', \"'s\", 'democratically', 'elected', 'national', 'government', '===', 'Early', 'settlers–Qing', 'dynasty', '===', 'The', 'region', 'known', 'as', 'the', 'Taipei', 'Basin', 'was', 'home', 'to', 'Ketagalan', 'tribes', 'before', 'the', 'eighteenth', 'century', 'Han', 'Chinese', 'colonists', 'from', 'Dabu', 'County', 'Yongding', 'County', 'Anxi', 'and', \"Tong'an\", 'of', 'Southern', 'Fujian', 'began', 'to', 'settle', 'in', 'the', 'Taipei', 'Basin', 'in', '1709.In', 'the', 'late', '19th', 'century', 'the', 'Taipei', 'area', 'where', 'the', 'major', 'Han', 'Chinese', 'settlements', 'in', 'northern', 'Taiwan', 'and', 'one', 'of', 'the', 'designated', 'overseas', 'trade', 'ports', 'Tamsui', 'were', 'located', 'gained', 'economic', 'importance', 'due', 'to', 'the', 'booming', 'overseas', 'trade', 'especially', 'that', 'of', 'tea', 'export', 'In', '1875', 'the', 'northern', 'part', 'of', 'Taiwan', 'was', 'separated', 'from', 'Taiwan', 'Prefecture', 'and', 'incorporated', 'into', 'the', 'new', 'Taipeh', 'Prefecture', 'as', 'a', 'new', 'administrative', 'entity', 'of', 'the', 'Qing', 'dynasty', 'Having', 'been', 'established', 'adjoining', 'the', 'flourishing', 'townships', 'of', 'Bangka', 'Dalongdong', 'and', 'Twatutia', 'the', 'new', 'prefectural', 'capital', 'was', 'known', 'as', 'Chengnei', 'Chinese', '城內', 'pinyin', 'chéngnèi', 'Pe̍h-ōe-jī', 'siâⁿ-lāi', '``', 'the', 'inner', 'city', \"''\", 'and', 'government', 'buildings', 'were', 'erected', 'there', 'From', '1875', 'until', 'the', 'beginning', 'of', 'Japanese', 'rule', 'in', '1895', 'Taipei', 'was', 'part', 'of', 'Tamsui', 'County', 'of', 'Taipeh', 'Prefecture', 'and', 'the', 'prefectural', 'capital.In', '1885', 'as', 'work', 'commenced', 'to', 'govern', 'the', 'island', 'as', 'a', 'province', 'Taipeh', 'was', 'thus', 'temporarily', 'designated', 'as', 'a', 'provincial', 'capital', 'The', 'city', 'officially', 'became', 'the', 'capital', 'in', '1894', 'Nowadays', 'all', 'that', 'remains', 'from', 'the', 'historical', 'period', 'is', 'the', 'north', 'gate', 'The', 'west', 'gate', 'and', 'city', 'walls', 'were', 'demolished', 'by', 'the', 'Japanese', 'while', 'the', 'south', 'gate', 'little', 'south', 'gate', 'and', 'east', 'gate', 'were', 'extensively', 'modified', 'by', 'the', 'Kuomintang', 'and', 'have', 'lost', 'much', 'of', 'their', 'original', 'character', '===', 'Empire', 'of', 'Japan', '===', 'As', 'settlement', 'for', 'losing', 'the', 'First', 'Sino-Japanese', 'War', 'China', 'ceded', 'the', 'island', 'of', 'Taiwan', 'to', 'the', 'Empire', 'of', 'Japan', 'in', '1895', 'as', 'part', 'of', 'the', 'Treaty', 'of', 'Shimonoseki', 'After', 'the', 'Japanese', 'takeover', 'Taipei', 'romanized', 'into', 'English', 'as', 'Taihoku', 'following', 'the', 'Japanese', 'language', 'pronunciation', 'was', 'retained', 'as', 'the', 'capital', 'It', 'subsequently', 'emerged', 'as', 'the', 'political', 'center', 'of', 'the', 'Japanese', 'Colonial', 'Government', 'During', 'that', 'time', 'the', 'city', 'acquired', 'the', 'characteristics', 'of', 'an', 'administrative', 'center', 'including', 'many', 'new', 'public', 'buildings', 'and', 'housing', 'for', 'civil', 'servants', 'Much', 'of', 'the', 'architecture', 'of', 'Taipei', 'dates', 'from', 'the', 'period', 'of', 'Japanese', 'rule', 'including', 'the', 'Presidential', 'Office', 'Building', 'which', 'was', 'the', 'Office', 'of', 'the', 'Governor-General', 'of', 'Taiwan', 'During', 'Japanese', 'rule', 'Taihoku', 'was', 'incorporated', 'in', '1920', 'as', 'part', 'of', 'Taihoku', 'Prefecture', 'It', 'included', 'Bangka', 'Twatutia', 'and', 'Jōnai', '城內', 'among', 'other', 'small', 'settlements', 'The', 'eastern', 'village', 'of', 'Matsuyama', '松山庄', 'modern-day', 'Songshan', 'District', 'Taipei', 'was', 'annexed', 'into', 'Taihoku', 'City', 'in', '1938', 'Taihoku', 'and', 'surrounding', 'areas', 'were', 'bombed', 'by', 'Allied', 'forces', 'on', 'several', 'occasions', 'The', 'largest', 'of', 'these', 'Allied', 'air', 'raids', 'the', 'Taihoku', 'Air', 'Raid', 'took', 'place', 'on', '31', 'May', '1945', '===', 'Post-WW2', 'under', 'ROC', '===', 'Upon', 'the', 'Japanese', 'defeat', 'following', 'the', 'nuclear', 'bomb', 'destruction', 'of', 'Hiroshima', 'and', 'its', 'consequent', 'surrender', 'in', 'August', '1945', 'the', 'Kuomintang', 'Chinese', 'Nationalist', 'Party', 'assumed', 'control', 'of', 'Taiwan', 'Subsequently', 'Taipei', 'was', 'established', 'as', 'a', 'provincial', 'city', 'and', 'a', 'temporary', 'Office', 'of', 'the', 'Taiwan', 'Province', 'Administrative', 'Governor', 'was', 'established', 'in', 'it', 'In', '1947', 'the', 'Kuomintang', 'KMT', 'government', 'under', 'Chiang', 'Kai-shek', 'declared', 'island-wide', 'martial', 'law', 'in', 'Taiwan', 'as', 'a', 'result', 'of', 'the', '28', 'February', 'Incident', 'which', 'began', 'with', 'incidents', 'in', 'Taipei', 'but', 'led', 'to', 'an', 'island-wide', 'crackdown', 'on', 'the', 'local', 'population', 'by', 'forces', 'loyal', 'to', 'Chiang', 'Two', 'years', 'later', 'on', '7', 'December', '1949', 'Chiang', 'and', 'the', 'Kuomintang', 'forces', 'were', 'forced', 'to', 'flee', 'mainland', 'China', 'by', 'the', 'after', 'defeat', 'by', 'Communist', 'revolutionaries', 'The', 'KMT-led', 'national', 'government', 'that', 'fled', 'to', 'Taiwan', 'declared', 'Taipei', 'to', 'be', 'the', 'provisional', 'capital', 'of', 'a', 'continuing', 'Republic', 'of', 'China.Taipei', 'expanded', 'greatly', 'in', 'the', 'decades', 'after', '1949', 'and', 'as', 'approved', 'on', '30', 'December', '1966', 'by', 'the', 'Executive', 'Yuan', 'Taipei', 'was', 'declared', 'a', 'special', 'municipality', 'on', '1', 'July', '1967', 'In', 'the', 'following', 'year', 'Taipei', 'City', 'expanded', 'again', 'by', 'annexing', 'Shilin', 'Beitou', 'Neihu', 'Nangang', 'Jingmei', 'and', 'Muzha', 'At', 'that', 'time', 'the', 'city', \"'s\", 'total', 'area', 'increased', 'fourfold', 'by', 'absorbing', 'several', 'outlying', 'towns', 'and', 'villages', 'and', 'the', 'population', 'increased', 'to', '1.56', 'million', 'people.The', 'city', \"'s\", 'population', 'which', 'had', 'reached', 'one', 'million', 'in', 'the', 'early', '1960s', 'also', 'expanded', 'rapidly', 'after', '1967', 'exceeding', 'two', 'million', 'by', 'the', 'mid-1970s', 'Although', 'growth', 'within', 'the', 'city', 'itself', 'gradually', 'slowed', 'thereafter', '—', 'its', 'population', 'had', 'become', 'relatively', 'stable', 'by', 'the', 'mid-1990s', '–', 'Taipei', 'remained', 'one', 'of', 'the', 'world', \"'s\", 'most', 'densely', 'populated', 'urban', 'areas', 'and', 'the', 'population', 'continued', 'to', 'increase', 'in', 'the', 'region', 'surrounding', 'the', 'city', 'notably', 'along', 'the', 'corridor', 'between', 'Taipei', 'and', 'Keelung', 'In', '1990', 'Taipei', \"'s\", '16', 'districts', 'were', 'consolidated', 'into', 'the', 'current', '12', 'districts', 'Mass', 'democracy', 'rallies', 'that', 'year', 'in', 'the', 'plaza', 'around', 'Chiang', 'Kai-shek', 'Memorial', 'Hall', 'led', 'to', 'an', 'island-wide', 'transition', 'to', 'multi-party', 'democracy', 'where', 'legislators', 'are', 'chosen', 'via', 'regularly', 'scheduled', 'popular', 'elections', 'during', 'the', 'presidency', 'of', 'Lee', 'Teng-Hui', '==', 'Geography', '==', 'Taipei', 'City', 'is', 'located', 'in', 'the', 'Taipei', 'Basin', 'in', 'northern', 'Taiwan', 'It', 'is', 'bordered', 'by', 'the', 'Xindian', 'River', 'on', 'the', 'south', 'and', 'the', 'Tamsui', 'River', 'on', 'the', 'west', 'The', 'generally', 'low-lying', 'terrain', 'of', 'the', 'central', 'areas', 'on', 'the', 'western', 'side', 'of', 'the', 'municipality', 'slopes', 'upward', 'to', 'the', 'south', 'and', 'east', 'and', 'especially', 'to', 'the', 'north', 'where', 'it', 'reaches', 'the', '1,120', 'm', '3,670', 'ft', '-tall', 'Qixing', 'Mountain', 'the', 'highest', 'dormant', 'volcano', 'in', 'Taiwan', 'in', 'Yangmingshan', 'National', 'Park', 'The', 'northern', 'districts', 'of', 'Shilin', 'and', 'Beitou', 'extend', 'north', 'of', 'the', 'Keelung', 'River', 'and', 'are', 'bordered', 'by', 'Yangmingshan', 'National', 'Park', 'The', 'Taipei', 'city', 'limits', 'cover', 'an', 'area', 'of', '271.7997', 'km2', '104.9425', 'sq', 'mi', 'ranking', 'sixteenth', 'of', 'twenty-five', 'among', 'all', 'counties', 'and', 'cities', 'in', 'Taiwan', 'Two', 'peaks', 'Qixing', 'Mountain', 'and', 'Mt', 'Datun', 'rise', 'to', 'the', 'northeast', 'of', 'the', 'city', 'Qixing', 'Mountain', 'is', 'located', 'on', 'the', 'Tatun', 'Volcano', 'Group', 'its', '1,120', 'm', '3,670', 'ft', '-high', 'main', 'peak', 'renders', 'it', 'the', 'tallest', 'mountain', 'at', 'the', 'rim', 'of', 'the', 'Taipei', 'Basin', '1,092', 'm', '3,583', 'ft', '-high', 'Mt', 'Datun', 'is', 'a', 'close', 'runner', 'up', 'These', 'former', 'volcanoes', 'make', 'up', 'the', 'western', 'section', 'of', 'Yangmingshan', 'National', 'Park', 'extending', 'from', 'Mt', 'Datun', 'northward', 'to', 'Mt', 'Caigongkeng', '菜公坑山', 'Located', 'on', 'a', 'broad', 'saddle', 'between', 'two', 'mountains', 'the', 'area', 'also', 'contains', 'the', 'marshy', 'Datun', 'Pond', 'To', 'the', 'southeast', 'of', 'the', 'city', 'lie', 'the', 'Songshan', 'Hills', 'and', 'the', 'Qingshui', 'Ravine', 'which', 'form', 'a', 'barrier', 'of', 'lush', 'woods', '===', 'Climate', '===', 'Taipei', 'has', 'a', 'humid', 'subtropical', 'climate', 'Köppen', 'Cfa', 'Summers', 'are', 'long-lasting', 'very', 'hot', 'and', 'humid', 'and', 'accompanied', 'by', 'occasional', 'heavy', 'rainstorms', 'and', 'typhoons', 'while', 'winters', 'are', 'short', 'generally', 'warm', 'and', 'generally', 'very', 'foggy', 'due', 'to', 'the', 'northeasterly', 'winds', 'from', 'the', 'vast', 'Siberian', 'High', 'being', 'intensified', 'by', 'the', 'pooling', 'of', 'this', 'cooler', 'air', 'in', 'the', 'Taipei', 'Basin', 'As', 'in', 'the', 'rest', 'of', 'Northern', 'Taiwan', 'daytime', 'temperatures', 'of', 'Taipei', 'can', 'often', 'peak', 'above', '26', '°C', '79', '°F', 'during', 'a', 'warm', 'winter', 'day', 'while', 'they', 'can', 'dip', 'below', 'that', 'same', 'level', 'during', 'afternoon', 'showers', 'and', 'thunderstorms', 'in', 'the', 'summer', 'Occasional', 'cold', 'fronts', 'during', 'the', 'winter', 'months', 'can', 'drop', 'the', 'daily', 'temperature', 'by', '3', 'to', '5', '°C', '5.4', 'to', '9.0', '°F', 'though', 'temperatures', 'rarely', 'drop', 'below', '10', '°C', '50', '°F', 'Extreme', 'temperatures', 'ranged', 'from', '−0.2', '°C', '31.6', '°F', 'on', '13', 'February', '1901', 'to', '39.7', '°C', '103.5', '°F', 'on', '24', 'July', '2020', 'while', 'snow', 'has', 'never', 'been', 'recorded', 'in', 'the', 'city', 'besides', 'on', 'mountains', 'located', 'within', 'the', 'city', 'limit', 'such', 'as', 'Yangmingshan', 'Due', 'to', 'Taiwan', \"'s\", 'location', 'in', 'the', 'Pacific', 'Ocean', 'it', 'is', 'affected', 'by', 'the', 'Pacific', 'typhoon', 'season', 'which', 'occurs', 'between', 'June', 'and', 'October', '===', 'Air', 'quality', '===', 'In', 'comparison', 'to', 'other', 'Asian', 'cities', 'Taipei', 'has', '``', 'excellent', \"''\", 'capabilities', 'for', 'managing', 'air', 'quality', 'in', 'the', 'city', 'Its', 'rainy', 'climate', 'location', 'near', 'the', 'coast', 'and', 'strong', 'environmental', 'regulations', 'have', 'prevented', 'air', 'pollution', 'from', 'becoming', 'a', 'substantial', 'health', 'issue', 'at', 'least', 'compared', 'to', 'cities', 'in', 'southeast', 'Asia', 'and', 'industrial', 'China', 'However', 'smog', 'is', 'extremely', 'common', 'and', 'there', 'is', 'poor', 'visibility', 'throughout', 'the', 'city', 'after', 'rainless', 'days', 'Motor', 'vehicle', 'engine', 'exhaust', 'particularly', 'from', 'motor', 'scooters', 'is', 'a', 'source', 'of', 'air', 'pollution', 'in', 'Taipei', 'There', 'are', 'higher', 'levels', 'of', 'fine', 'particulate', 'matter', 'and', 'polycyclic', 'aromatic', 'hydrocarbons', 'in', 'the', 'mornings', 'because', 'of', 'less', 'air', 'movement', 'sunlight', 'reduces', 'some', 'pollution', '==', 'Cityscape', '==', '==', 'Demographics', '==', 'While', 'Taipei', 'City', 'is', 'home', 'to', '2,524,393', 'people', '2022', 'the', 'greater', 'metropolitan', 'area', 'has', 'a', 'population', 'of', '7,047,559', 'people', 'Even', 'though', 'the', 'population', 'of', 'the', 'city', 'has', 'been', 'decreasing', 'in', 'recent', 'years', 'the', 'population', 'of', 'adjacent', 'New', 'Taipei', 'has', 'been', 'increasing', 'The', 'population', 'loss', 'while', 'rapid', 'in', 'its', 'early', 'years', 'was', 'slowed', 'by', 'lower', 'density', 'development', 'and', 'campaigns', 'designed', 'to', 'increase', 'the', 'birthrate', 'in', 'the', 'city', 'in', 'the', '2010s', 'As', 'a', 'result', 'the', 'population', 'rose', '2010-2015.Due', 'to', 'Taipei', \"'s\", 'geography', 'and', 'location', 'in', 'the', 'Taipei', 'Basin', 'as', 'well', 'as', 'differing', 'times', 'of', 'settlement', 'and', 'differing', 'degrees', 'of', 'economic', 'development', 'of', 'its', 'districts', 'Taipei', \"'s\", 'population', 'is', 'not', 'evenly', 'distributed', 'The', 'districts', 'of', 'Daan', 'Songshan', 'and', 'Datong', 'are', 'the', 'most', 'densely', 'populated', 'These', 'districts', 'along', 'with', 'adjacent', 'communities', 'such', 'as', 'Yonghe', 'and', 'Zhonghe', 'contain', 'some', 'of', 'the', 'most', 'densely', 'populated', 'neighborhoods', 'in', 'the', 'world.In', '2008', 'the', 'crude', 'birth', 'rate', 'stood', 'at', '7.88', 'while', 'the', 'mortality', 'rate', 'stood', 'at', '5.94', 'A', 'decreasing', 'and', 'rapidly', 'aging', 'population', 'is', 'an', 'important', 'issue', 'for', 'the', 'city', 'By', 'the', 'end', 'of', '2009', 'one', 'in', 'ten', 'people', 'in', 'Taipei', 'was', 'over', '65', 'years', 'of', 'age', 'Residents', 'who', 'had', 'obtained', 'a', 'college', 'education', 'or', 'higher', 'accounted', 'for', '43.48', 'of', 'the', 'population', 'and', 'the', 'literacy', 'rate', 'stood', 'at', '99.18', '.Like', 'the', 'rest', 'of', 'Taiwan', 'Taipei', 'is', 'composed', 'of', 'four', 'major', 'ethnic', 'subgroups', 'Hoklos', 'Waishengren', 'Hakkas', 'and', 'aborigines', 'Although', 'Hoklos', 'and', 'Waishengren', 'form', 'the', 'majority', 'of', 'the', 'population', 'of', 'the', 'city', 'in', 'recent', 'decades', 'many', 'Hakkas', 'have', 'moved', 'into', 'the', 'city', 'The', 'aboriginal', 'population', 'in', 'the', 'city', 'stands', 'at', '16,713', 'at', 'the', 'end', 'of', '2018', '1', 'concentrated', 'mostly', 'in', 'the', 'suburban', 'districts', 'Foreigners', 'mainly', 'from', 'Indonesia', 'the', 'Philippines', 'and', 'Japan', 'numbered', '71,858', 'at', 'the', 'end', 'of', '2022', '==', 'Economy', '==', 'As', 'Taiwan', \"'s\", 'business', 'financial', 'and', 'technology', 'hub', 'Taipei', 'has', 'been', 'at', 'the', 'center', 'of', 'rapid', 'economic', 'development', 'in', 'the', 'country', 'and', 'has', 'now', 'become', 'one', 'of', 'the', 'global', 'cities', 'in', 'technology', 'and', 'electronics', 'This', 'development', 'is', 'part', 'of', 'the', 'so-called', 'Taiwan', 'Miracle', 'which', 'has', 'seen', 'dramatic', 'growth', 'in', 'the', 'city', 'following', 'foreign', 'direct', 'investment', 'in', 'the', '1960s', 'Taiwan', 'is', 'now', 'a', 'creditor', 'economy', 'holding', 'one', 'of', 'the', 'world', \"'s\", 'largest', 'foreign', 'exchange', 'reserves', 'of', 'over', 'US', '403', 'billion', 'as', 'of', 'December', '2012.Despite', 'the', 'Asian', 'financial', 'crisis', 'the', 'economy', 'continues', 'to', 'expand', 'at', 'about', '5', 'per', 'year', 'with', 'virtually', 'full', 'employment', 'and', 'low', 'inflation', 'The', 'city', \"'s\", 'GDP', 'stand', 'at', 'US', '327', 'billion', 'in', '2014', 'As', 'of', '2013', 'the', 'nominal', 'GDP', 'per', 'capita', 'in', 'Taipei', 'city', 'is', '5th', 'highest', 'in', 'East', 'Asia', 'behind', 'Tokyo', 'Singapore', 'Osaka', 'and', 'Hong', 'Kong', 'but', 'ahead', 'of', 'Seoul', 'as', 'well', 'as', 'London', 'and', 'Paris', 'according', 'to', 'The', 'Economist', 'GDP', 'per', 'capita', 'based', 'on', 'Purchasing', 'Power', 'Parity', 'PPP', 'in', 'Taipei', 'in', '2015', 'was', 'US', '44173', 'behind', 'that', 'of', 'Singapore', 'US', '90151', 'in', '2016', 'from', 'the', 'IMF', 'and', 'Hong', 'Kong', 'US', '58322', 'in', '2016', 'from', 'the', 'IMF', 'also', 'based', 'on', 'PPP', 'The', 'Financial', 'Times', 'ranked', 'Taipei', 'highly', 'in', 'economic', 'potential', '2nd', 'behind', 'Tokyo', 'and', 'business', 'friendliness', '4th', 'in', '2015', 'The', 'city', 'is', 'home', 'to', '30', 'billionaires', 'the', '16th', 'most', 'in', 'the', 'world', 'ahead', 'of', 'many', 'global', 'cities', 'such', 'as', 'Los', 'Angeles', 'and', 'Sydney', 'Business', 'Insider', 'also', 'ranks', 'Taipei', 'the', '5th', 'most', 'high-tech', 'city', 'globally', 'the', 'highest', 'in', 'Asia', 'in', '2017', 'While', 'the', 'IESE', 'Cities', 'in', 'Motion', 'Index', '2017', 'ranks', 'Taipei', 'as', 'the', 'smartest', 'technology', 'city', 'globally.Taipei', \"'s\", 'main', 'development', 'fields', 'include', 'the', 'information', 'and', 'communications', 'technology', 'hardware', 'and', 'software', 'biotechnology', 'general', 'merchandizing', 'wholesale/retail', 'financial', 'services', 'and', 'MICE', 'industries', 'Most', 'of', 'the', 'country', \"'s\", 'major', 'firms', 'are', 'based', 'there', 'including', 'Acer', 'Computers', 'Asus', 'CTBC', 'Bank', 'Fubon', 'Financial', 'Holding', 'Tatung', 'Company', 'D-Link', 'and', 'others', '5', 'Global', 'Fortune', '500', 'companies', 'are', 'headquartered', 'in', 'Taipei', 'The', 'city', 'also', 'attracts', 'many', 'multi-national', 'corporations', 'international', 'financial', 'institutions', 'foreign', 'consulates', 'and', 'business', 'organizations', 'to', 'set', 'up', 'base', 'there', 'Thus', 'Taipei', 'has', 'nearly', '3,500', 'registered', 'foreign', 'businesses', 'and', 'attracts', 'over', '50', 'of', 'the', 'total', 'foreign', 'investment', 'in', 'Taiwan', 'Foreign', 'companies', 'with', 'offices', 'or', 'regional', 'headquarters', 'in', 'Taipei', 'include', 'Google', 'Microsoft', 'IBM', 'Intel', 'HSBC', 'Citibank', 'Facebook', 'Amazon', 'Apple', 'JP', 'Morgan', 'PwC', 'and', 'many', 'others', 'Most', 'financial', 'and', 'foreign', 'firms', 'like', 'to', 'reside', 'in', 'the', 'central', 'business', 'district', 'of', 'Taipei', 'the', 'Xinyi', 'Special', 'District', 'With', 'Citi', 'JP', 'Morgan', 'DBS', 'Bank', 'Cathay', 'Life', 'Insurance', 'Shin', 'Kong', 'Commercial', 'Bank', 'Hua', 'Nan', 'Bank', 'and', 'soon', 'Fubon', 'Financial', 'and', 'Nan', 'Shan', 'Life', 'Insurance', 'all', 'establishing', 'skyscrapers', 'in', 'the', 'area', 'Meanwhile', 'technology', 'and', 'electronics', 'companies', 'are', 'often', 'co-located', 'in', 'the', 'Neihu', 'Technology', 'Park', 'or', 'the', 'Nankang', 'Software', 'Park', 'The', 'startup', 'and', 'innovation', 'scene', 'in', 'Taipei', 'is', 'also', 'very', 'vibrant', 'In', '2018', 'alone', 'Microsoft', 'announced', 'plans', 'to', 'invest', 'US', '34', 'million', 'to', 'create', 'an', 'artificial', 'intelligence', 'R', 'D', 'center', 'in', 'Taipei', 'while', 'Google', 'announced', 'it', 'will', 'hire', '300', 'people', 'and', 'train', '5,000', 'more', 'in', 'artificial', 'intelligence', 'for', 'machines', 'Taipei', 'is', 'Google', \"'s\", 'biggest', 'engineering', 'site', 'in', 'Asia', 'IBM', 'also', 'announced', 'in', '2018', 'that', 'it', 'will', 'develop', 'a', 'cloud', 'research', 'lab', 'and', 'expand', 'its', 'R', 'D', 'center', 'in', 'Taipei', 'with', 'eyes', 'on', 'artificial', 'intelligence', 'blockchain', 'technology', 'and', 'cloud', 'computing', 'According', 'to', 'the', '2016', 'Global', 'Entrepreneurship', 'Development', 'Index', 'Taipei', \"'s\", 'entrepreneurial', 'spirit', 'ranks', '6th', 'worldwide', 'and', '1st', 'in', 'Asia', 'Taipei', 'has', 'more', 'than', '400', 'startups', 'and', 'numerous', 'incubation', 'centers', 'accelerators', 'venture', 'capitals', 'and', 'angel', 'investors', 'The', 'city', \"'s\", 'startup', 'ecosystem', 'is', 'valued', 'at', 'US', '580', 'million', 'by', 'Startup', 'Genome', 'in', '2018.Tourism', 'is', 'a', 'small', 'but', 'significant', 'component', 'of', 'the', 'local', 'economy', 'with', 'international', 'visitors', 'totaling', 'almost', '3', 'million', 'in', '2008', 'Taipei', 'has', 'many', 'top', 'tourist', 'attractions', 'and', 'contributes', 'a', 'significant', 'amount', 'to', 'the', 'US', '6.8', 'billion', 'tourism', 'industry', 'in', 'Taiwan', '==', 'Culture', '==', '===', 'Tourism', '===', 'Tourism', 'is', 'a', 'major', 'part', 'of', 'Taipei', \"'s\", 'economy', 'In', '2013', 'over', '6.3', 'million', 'overseas', 'visitors', 'visited', 'Taipei', 'making', 'the', 'city', 'the', '15th', 'most', 'visited', 'globally', 'The', 'influx', 'of', 'visitors', 'contributed', 'US', '10.8', 'billion', 'to', 'the', 'city', \"'s\", 'economy', 'in', '2013', 'the', '9th', 'highest', 'in', 'the', 'world', 'and', 'the', 'most', 'of', 'any', 'city', 'in', 'the', 'Chinese-speaking', 'world', '====', 'Commemorative', 'sites', 'and', 'museums', '====', 'The', 'National', 'Chiang', 'Kai-shek', 'Memorial', 'Hall', 'is', 'a', 'famous', 'monument', 'landmark', 'and', 'tourist', 'attraction', 'that', 'was', 'erected', 'in', 'memory', 'of', 'General', 'Chiang', 'Kai-shek', 'former', 'President', 'of', 'the', 'Republic', 'of', 'China', 'The', 'structure', 'stands', 'at', 'the', 'east', 'end', 'of', 'Memorial', 'Hall', 'Square', 'site', 'of', 'the', 'National', 'Concert', 'Hall', 'and', 'National', 'Theater', 'and', 'their', 'adjacent', 'parks', 'as', 'well', 'as', 'the', 'memorial', 'The', 'landmarks', 'of', 'Liberty', 'Square', 'stand', 'within', 'sight', 'of', 'Taiwan', \"'s\", 'Presidential', 'Office', 'Building', 'in', 'Taipei', \"'s\", 'Zhongzheng', 'District', 'The', 'National', 'Taiwan', 'Museum', 'sits', 'nearby', 'in', 'what', 'is', 'now', '228', 'Peace', 'Memorial', 'Park', 'and', 'has', 'worn', 'its', 'present', 'name', 'since', '1999', 'The', 'museum', 'is', 'Taiwan', \"'s\", 'oldest', 'founded', 'on', '24', 'October', '1908', 'by', 'Taiwan', \"'s\", 'Japanese', 'colonial', 'government', '1895-1945', 'as', 'the', 'Taiwan', 'Governor', \"'s\", 'Museum', 'It', 'was', 'launched', 'with', 'a', 'collection', 'of', '10,000', 'items', 'to', 'celebrate', 'the', 'opening', 'of', 'the', 'island', \"'s\", 'North-South', 'Railway', 'In', '1915', 'a', 'new', 'museum', 'building', 'opened', 'its', 'doors', 'in', 'what', 'is', 'now', '228', 'Peace', 'Memorial', 'Park', 'This', 'structure', 'and', 'the', 'adjacent', 'governor', \"'s\", 'office', 'now', 'Presidential', 'Office', 'Building', 'served', 'as', 'the', 'two', 'most', 'recognizable', 'public', 'buildings', 'in', 'Taiwan', 'during', 'its', 'period', 'of', 'Japanese', 'rule', 'The', 'National', 'Palace', 'Museum', 'is', 'a', 'vast', 'art', 'gallery', 'and', 'museum', 'built', 'around', 'a', 'permanent', 'collection', 'centered', 'on', 'ancient', 'Chinese', 'artifacts', 'It', 'should', 'not', 'be', 'confused', 'with', 'the', 'Palace', 'Museum', 'in', 'Beijing', 'which', 'it', 'is', 'named', 'after', 'both', 'institutions', 'trace', 'their', 'origins', 'to', 'the', 'same', 'institution', 'The', 'collections', 'were', 'divided', 'in', 'the', '1940s', 'as', 'a', 'result', 'of', 'the', 'Chinese', 'Civil', 'War', 'The', 'National', 'Palace', 'Museum', 'in', 'Taipei', 'now', 'boasts', 'a', 'truly', 'international', 'collection', 'while', 'housing', 'one', 'of', 'the', 'world', \"'s\", 'largest', 'collections', 'of', 'artifacts', 'from', 'ancient', 'China.The', 'Shung', 'Ye', 'Museum', 'of', 'Formosan', 'Aborigines', 'stands', 'just', '200', 'm', '660', 'ft', 'across', 'the', 'road', 'from', 'the', 'National', 'Palace', 'Museum', 'The', 'museum', 'offers', 'displays', 'of', 'art', 'and', 'historical', 'items', 'by', 'Taiwanese', 'aborigines', 'along', 'with', 'a', 'range', 'of', 'multimedia', 'displays', 'The', 'Taipei', 'Fine', 'Arts', 'Museum', 'was', 'established', 'in', '1983', 'as', 'the', 'first', 'museum', 'in', 'Taiwan', 'dedicated', 'to', 'modern', 'art', 'The', 'museum', 'is', 'housed', 'in', 'a', 'building', 'designed', 'for', 'the', 'purpose', 'that', 'takes', 'inspiration', 'from', 'Japanese', 'designs', 'Most', 'art', 'in', 'the', 'collection', 'is', 'by', 'Taiwanese', 'artists', 'since', '1940', 'Over', '3,000', 'art', 'works', 'are', 'organized', 'into', '13', 'groups', 'The', 'National', 'Sun', 'Yat-sen', 'Memorial', 'Hall', 'near', 'Taipei', '101', 'in', 'Xinyi', 'District', 'is', 'named', 'in', 'honor', 'of', 'a', 'founding', 'father', 'of', 'the', 'Republic', 'of', 'China', 'Sun', 'Yat-sen', 'The', 'hall', 'completed', 'on', '16', 'May', '1972', 'originally', 'featured', 'exhibits', 'that', 'depicted', 'revolutionary', 'events', 'in', 'the', 'Republican', 'period', 'of', 'China', 'Today', 'it', 'functions', 'as', 'multi-purpose', 'social', 'educational', 'concert', 'and', 'cultural', 'center', 'for', 'Taiwan', \"'s\", 'citizens', 'In', '2001', 'a', 'new', 'museum', 'opened', 'as', 'Museum', 'of', 'Contemporary', 'Art', 'Taipei', 'The', 'museum', 'is', 'housed', 'in', 'a', 'building', 'that', 'formerly', 'housed', 'Taipei', 'City', 'government', 'offices', '====', 'Taipei', '101', '====', 'Taipei', '101', 'is', 'a', '101-floor', 'landmark', 'skyscraper', 'that', 'claimed', 'the', 'title', 'of', 'world', \"'s\", 'tallest', 'building', 'when', 'it', 'opened', 'in', '2004', 'a', 'title', 'it', 'held', 'for', 'six', 'years', 'before', 'the', 'Burj', 'Khalifa', 'in', 'Dubai', 'was', 'completed', 'Designed', 'by', 'C.Y', 'Lee', 'Partners', 'and', 'constructed', 'by', 'KTRT', 'Joint', 'Venture', 'Taipei', '101', 'measures', '509', 'm', '1,670', 'ft', 'from', 'ground', 'to', 'top', 'making', 'it', 'the', 'first', 'skyscraper', 'in', 'the', 'world', 'to', 'break', 'the', 'half-kilometer', 'mark', 'in', 'height', 'Built', 'to', 'withstand', 'typhoon', 'winds', 'and', 'earthquake', 'tremors', 'its', 'design', 'incorporates', 'many', 'engineering', 'innovations', 'and', 'has', 'won', 'numerous', 'international', 'awards', 'Today', 'the', 'Taipei', '101', 'remains', 'one', 'of', 'the', 'tallest', 'skyscrapers', 'in', 'the', 'world', 'and', 'holds', 'LEED', \"'s\", 'certification', 'as', 'the', 'world', \"'s\", 'largest', '``', 'green', \"''\", 'building', 'Its', 'shopping', 'mall', 'and', 'its', 'indoor', 'and', 'outdoor', 'observatories', 'draws', 'visitors', 'from', 'all', 'over', 'the', 'world', 'Taipei', '101', \"'s\", 'New', 'Year', \"'s\", 'Eve', 'fireworks', 'display', 'is', 'a', 'regular', 'feature', 'of', 'international', 'broadcasts', '====', 'Performing', 'arts', '====', 'The', 'National', 'Theater', 'and', 'Concert', 'Hall', 'stand', 'at', 'Taipei', \"'s\", 'Liberty', 'Square', 'and', 'host', 'events', 'by', 'foreign', 'and', 'domestic', 'performers', 'Other', 'leading', 'concert', 'venues', 'include', 'Zhongshan', 'Hall', 'at', 'Ximending', 'and', 'the', 'Sun', 'Yat-sen', 'Memorial', 'Hall', 'near', 'Taipei', '101', 'A', 'new', 'venue', 'the', 'Taipei', 'Performing', 'Arts', 'Center', 'is', 'under', 'construction', 'and', 'slated', 'to', 'open', 'in', '2015', 'The', 'venue', 'will', 'stand', 'near', 'the', 'Shilin', 'Night', 'Market', 'and', 'will', 'house', 'three', 'theaters', 'for', 'events', 'with', 'multi-week', 'runs', 'The', 'architectural', 'design', 'by', 'Rem', 'Koolhaas', 'and', 'OMA', 'was', 'determined', 'in', '2009', 'in', 'an', 'international', 'competition', 'The', 'same', 'design', 'process', 'is', 'also', 'in', 'place', 'for', 'a', 'new', 'Taipei', 'Center', 'for', 'Popular', 'Music', 'and', 'Taipei', 'City', 'Museum', '====', 'Shopping', 'and', 'recreation', '====', 'Taipei', 'is', 'known', 'for', 'its', 'many', 'night', 'markets', 'the', 'most', 'famous', 'of', 'which', 'is', 'the', 'Shilin', 'Night', 'Market', 'in', 'the', 'Shilin', 'District', 'The', 'surrounding', 'streets', 'by', 'Shilin', 'Night', 'Market', 'are', 'extremely', 'crowded', 'during', 'the', 'evening', 'usually', 'opening', 'late', 'afternoon', 'and', 'operating', 'well', 'past', 'midnight', 'Most', 'night', 'markets', 'feature', 'individual', 'stalls', 'selling', 'a', 'mixture', 'of', 'food', 'clothing', 'and', 'consumer', 'goods', 'Ximending', 'has', 'been', 'a', 'famous', 'area', 'for', 'shopping', 'and', 'entertainment', 'since', 'the', '1930s', 'Historic', 'structures', 'include', 'a', 'concert', 'hall', 'a', 'historic', 'cinema', 'and', 'the', 'Red', 'House', 'Theater', 'Modern', 'structures', 'house', 'karaoke', 'businesses', 'art', 'film', 'cinemas', 'wide-release', 'movie', 'cinemas', 'electronic', 'stores', 'and', 'a', 'wide', 'variety', 'of', 'restaurants', 'and', 'fashion', 'clothing', 'stores', 'The', 'pedestrian', 'area', 'is', 'especially', 'popular', 'with', 'teens', 'and', 'has', 'been', 'called', 'the', '``', 'Harajuku', \"''\", 'of', 'Taipei.The', 'newly', 'developed', 'Xinyi', 'District', 'is', 'popular', 'with', 'tourists', 'and', 'locals', 'alike', 'for', 'its', 'many', 'entertainment', 'and', 'shopping', 'venues', 'as', 'well', 'as', 'being', 'the', 'home', 'of', 'Taipei', '101', 'a', 'prime', 'tourist', 'attraction', 'Malls', 'in', 'the', 'area', 'include', 'the', 'sprawling', 'Shin', 'Kong', 'Mitsukoshi', 'complex', 'Breeze', 'Center', 'Bellavita', 'Taipei', '101', 'mall', 'Eslite', 'Bookstore', \"'s\", 'flagship', 'store', 'which', 'includes', 'a', 'boutique', 'mall', 'The', 'Living', 'Mall', 'ATT', 'shopping', 'mall', 'and', 'the', 'Vieshow', 'Cinemas', 'formerly', 'known', 'as', 'Warner', 'Village', 'The', 'Xinyi', 'district', 'also', 'serves', 'as', 'the', 'center', 'of', 'Taipei', \"'s\", 'active', 'nightlife', 'with', 'several', 'popular', 'lounge', 'bars', 'and', 'nightclubs', 'concentrated', 'in', 'a', 'relatively', 'small', 'area', 'around', 'the', 'Neo19', 'ATT', '4', 'FUN', 'and', 'Taipei', '101', 'buildings', 'Lounge', 'bars', 'such', 'as', 'Barcode', 'and', 'nightclubs', 'such', 'as', 'Spark', 'and', 'Myst', 'are', 'among', 'the', 'most-visited', 'places', 'here', 'The', 'thriving', 'shopping', 'area', 'around', 'Taipei', 'Main', 'Station', 'includes', 'the', 'Taipei', 'Underground', 'Market', 'and', 'the', 'original', 'Shin', 'Kong', 'Mitsukoshi', 'department', 'store', 'at', 'Shin', 'Kong', 'Life', 'Tower', 'Other', 'popular', 'shopping', 'destinations', 'include', 'the', 'Zhongshan', 'Metro', 'Mall', 'Dihua', 'Street', 'and', 'the', 'Guang', 'Hua', 'Digital', 'Plaza', 'The', 'Miramar', 'Entertainment', 'Park', 'is', 'known', 'for', 'its', 'large', 'Ferris', 'wheel', 'and', 'IMAX', 'theater', 'Taipei', 'maintains', 'an', 'extensive', 'system', 'of', 'parks', 'green', 'spaces', 'and', 'nature', 'preserves', 'Parks', 'and', 'forestry', 'areas', 'of', 'note', 'in', 'and', 'around', 'the', 'city', 'include', 'Yangmingshan', 'National', 'Park', 'Taipei', 'Zoo', 'and', 'Da-an', 'Forest', 'Park', 'Located', '10', 'km', '6.2', 'mi', 'north', 'of', 'the', 'city', 'center', 'Yangmingshan', 'National', 'Park', 'is', 'famous', 'for', 'its', 'cherry', 'blossoms', 'hot', 'springs', 'and', 'sulfur', 'deposits', 'It', 'is', 'the', 'home', 'of', 'famous', 'writer', 'Lin', 'Yutang', 'the', 'summer', 'residence', 'of', 'Chiang', 'Kai-shek', 'residences', 'of', 'foreign', 'diplomats', 'the', 'Chinese', 'Culture', 'University', 'the', 'meeting', 'place', 'of', 'the', 'now', 'defunct', 'National', 'Assembly', 'of', 'the', 'Republic', 'of', 'China', 'and', 'the', 'Kuomintang', 'Party', 'Archives', 'The', 'Taipei', 'Zoo', 'was', 'founded', 'in', '1914', 'and', 'covers', 'an', 'area', 'of', '165', 'hectares', 'for', 'animal', 'sanctuary', 'Bitan', 'is', 'known', 'for', 'boating', 'and', 'water', 'sports', 'Tamsui', 'is', 'a', 'popular', 'sea-side', 'resort', 'town', 'Ocean', 'beaches', 'are', 'accessible', 'in', 'several', 'directions', 'from', 'Taipei', '====', 'Temples', '====', 'Taipei', 'has', 'a', 'variety', 'of', 'temples', 'dedicating', 'to', 'Deities', 'from', 'Chinese', 'folk', 'religion', 'Taoism', 'and', 'Chinese', 'Buddhism', 'The', 'Bangka', 'Lungshan', 'Temple', '艋舺龍山寺', 'built', 'in', '1738', 'and', 'located', 'in', 'the', 'Wanhua', 'District', 'demonstrates', 'an', 'example', 'of', 'architecture', 'with', 'southern', 'Chinese', 'influences', 'commonly', 'seen', 'on', 'older', 'buildings', 'in', 'Taiwan', 'Qingshui', 'Temple', '艋舺清水巖', 'built', 'in', '1787', 'and', 'Qingshan', 'Temple', '艋舺青山宮）together', 'with', 'Lungshan', 'Temple', 'are', 'the', 'three', 'most', 'prominent', 'landmark', 'temples', 'in', 'Bangka', 'or', 'Wanhua', 'District', 'There', 'are', 'other', 'famous', 'temples', 'include', 'Baoan', 'Temple', '大龍峒保安宮', 'located', 'in', 'historic', 'Dalongdong', 'a', 'national', 'historical', 'site', 'and', 'Xia', 'Hai', 'City', 'God', 'Temple', '大稻埕霞海城隍廟', 'located', 'in', 'the', 'old', 'Dadaocheng', 'community', 'constructed', 'with', 'architecture', 'similar', 'to', 'temples', 'in', 'southern', 'Fujian', 'The', 'Taipei', 'Confucius', 'Temple', '臺北孔子廟', 'traces', 'its', 'history', 'back', 'to', '1879', 'during', 'the', 'Qing', 'Dynasty', 'and', 'also', 'incorporates', 'southern', 'Fujian-style', 'architecture', 'Ciyou', 'Temple', '松山慈祐宮', 'in', 'Songshan', 'District', 'Guandu', 'Temple', '關渡宮', 'in', 'Beitou', 'District', 'Hsing', 'Tian', 'Kong', '行天宮', 'in', 'Zhongshan', 'District', 'and', 'Zhinan', 'Temple', '指南宮', 'in', 'Wenshan', 'District', 'are', 'also', 'popular', 'temples', 'for', 'locals', 'and', 'tourists', 'Xinsheng', 'South', 'Road', 'is', 'known', 'as', 'the', '``', 'Road', 'to', 'Heaven', \"''\", 'due', 'to', 'its', 'high', 'concentration', 'of', 'temples', 'churches', 'and', 'other', 'houses', 'of', 'worship.The', 'Shandao', 'Temple', '善導寺', 'built', 'in', '1929', 'and', 'located', 'in', 'Zhongzheng', 'District', 'is', 'the', 'largest', 'Buddhist', 'temple', 'in', 'Taipei', 'Fo', 'Guang', 'Shan', 'has', 'a', 'modern', 'temple', 'known', 'as', 'Fo', 'Guang', 'Shan', 'Taipei', 'Vihara', '佛光山臺北道場', 'in', 'Xinyi', 'District', 'while', 'Dharma', 'Drum', 'Mountain', 'owns', 'the', 'Degui', 'Academy', '德貴學苑', 'an', 'education', 'center', 'in', 'Zhongzheng', 'District', 'and', 'the', 'Nung', 'Chan', 'Monastery', '農禪寺', 'in', 'Beitou', 'District', 'Linji', 'Huguo', 'Chan', 'Temple', '臨濟護國禪寺', 'in', 'Zhongshan', 'District', 'was', 'commenced', 'in', '1900', 'and', 'completed', 'in', '1911', 'it', 'is', 'one', 'of', 'the', 'very', 'few', 'Japanese', 'style', 'Buddhist', 'Temples', 'that', 'was', 'well-preserved', 'in', 'Taiwan', 'Besides', 'large', 'temples', 'small', 'outdoor', 'shrines', 'to', 'local', 'deities', 'are', 'very', 'common', 'and', 'are', 'commonly', 'found', 'next', 'to', 'roads', 'as', 'well', 'as', 'in', 'parks', 'and', 'neighborhoods', 'Many', 'homes', 'and', 'businesses', 'may', 'also', 'set', 'up', 'small', 'shrines', 'of', 'candles', 'figurines', 'and', 'offerings', 'Some', 'restaurants', 'for', 'example', 'may', 'set', 'up', 'a', 'small', 'shrine', 'to', 'the', 'Kitchen', 'God', 'for', 'success', 'in', 'a', 'restaurant', 'business', '===', 'Festivals', 'and', 'events', '===', 'Many', 'yearly', 'festivals', 'are', 'held', 'in', 'Taipei', 'In', 'recent', 'years', 'some', 'festivals', 'such', 'as', 'the', 'Double', 'Ten', 'Day', 'fireworks', 'and', 'concerts', 'are', 'increasingly', 'hosted', 'on', 'a', 'rotating', 'basis', 'by', 'a', 'number', 'of', 'cities', 'around', 'Taiwan', 'When', 'New', 'Year', \"'s\", 'Eve', 'arrives', 'on', 'the', 'solar', 'calendar', 'thousands', 'of', 'people', 'converge', 'on', 'Taipei', \"'s\", 'Xinyi', 'District', 'for', 'parades', 'outdoor', 'concerts', 'by', 'popular', 'artists', 'street', 'shows', 'round-the', 'clock', 'nightlife', 'The', 'high', 'point', 'is', 'the', 'countdown', 'to', 'midnight', 'when', 'Taipei', '101', 'assumes', 'the', 'role', 'of', 'the', 'world', \"'s\", 'largest', 'fireworks', 'platform.The', 'Taipei', 'Lantern', 'Festival', 'concludes', 'the', 'Lunar', 'New', 'Year', 'holiday', 'The', 'timing', 'of', 'the', 'city', \"'s\", 'lantern', 'exhibit', 'coincides', 'with', 'the', 'national', 'festival', 'in', 'Pingxi', 'when', 'thousands', 'of', 'fire', 'lanterns', 'are', 'released', 'into', 'the', 'sky', 'The', 'city', \"'s\", 'lantern', 'exhibit', 'rotates', 'among', 'different', 'downtown', 'locales', 'from', 'year', 'to', 'year', 'including', 'Liberty', 'Square', 'Taipei', '101', 'and', 'Zhongshan', 'Hall', 'in', 'Ximending', 'On', 'Double', 'Ten', 'Day', 'patriotic', 'celebrations', 'are', 'held', 'in', 'front', 'of', 'the', 'Presidential', 'Office', 'Building', 'Other', 'annual', 'festivals', 'include', 'Ancestors', 'Day', 'Tomb-Sweeping', 'Day', 'the', 'Dragon', 'Boat', 'Festival', 'the', 'Zhong', 'Yuan', 'Festival', 'and', 'the', 'Mid-Autumn', 'Festival', 'Mooncake', 'Festival', 'Qing', 'Shan', 'King', 'Sacrificial', 'Ceremony', '青山王祭', 'is', 'a', 'century-old', 'grand', 'festival', 'that', 'is', 'held', 'annually', 'in', 'Wanhua', 'District', 'Taipei', 'regularly', 'hosts', 'its', 'share', 'of', 'international', 'events', 'The', 'city', 'recently', 'hosted', 'the', '2009', 'Summer', 'Deaflympics', 'This', 'event', 'was', 'followed', 'by', 'the', 'Taipei', 'International', 'Flora', 'Exposition', 'a', 'garden', 'festival', 'hosted', 'from', 'November', '2010', 'to', 'April', '2011', 'The', 'Floral', 'Expo', 'was', 'the', 'first', 'of', 'its', 'kind', 'to', 'take', 'place', 'in', 'Taiwan', 'and', 'only', 'the', 'seventh', 'hosted', 'in', 'Asia', 'the', 'expo', 'admitted', '110,000', 'visitors', 'on', '27', 'February', '2011', '===', 'Taipei', 'in', 'films', '===', 'Note', 'The', 'list', 'below', 'is', 'not', 'a', 'complete', 'list', 'they', 'are', 'examples', 'of', 'more', 'notable', 'movies', 'filmed', 'in', 'the', 'city', '==', 'Government', '==', 'Taipei', 'City', 'is', 'a', 'special', 'municipality', 'which', 'is', 'directly', 'under', 'the', 'Executive', 'Yuan', 'Central', 'Government', 'The', 'mayor', 'of', 'Taipei', 'City', 'was', 'an', 'appointed', 'position', 'since', 'Taipei', \"'s\", 'conversion', 'to', 'a', 'centrally', 'administered', 'municipality', 'in', '1967', 'until', 'the', 'first', 'public', 'election', 'was', 'held', 'in', '1994', 'The', 'position', 'has', 'a', 'four-year', 'term', 'and', 'is', 'elected', 'by', 'direct', 'popular', 'vote', 'The', 'first', 'elected', 'mayor', 'was', 'Chen', 'Shui-bian', 'of', 'the', 'Democratic', 'Progressive', 'Party', 'Ma', 'Ying-jeou', 'took', 'office', 'in', '1998', 'for', 'two', 'terms', 'before', 'handing', 'it', 'over', 'to', 'Hau', 'Lung-pin', 'who', 'won', 'the', '2006', 'mayoral', 'election', 'on', '9', 'December', '2006', 'Both', 'Chen', 'Shui-bian', 'and', 'Ma', 'Ying-Jeou', 'went', 'on', 'to', 'become', 'President', 'of', 'the', 'Republic', 'of', 'China', 'The', 'incumbent', 'mayor', 'Ko', 'Wen-je', 'was', 'elected', 'on', '29', 'November', '2014', 'and', 'took', 'office', 'on', '25', 'December', '2014.Based', 'on', 'the', 'outcomes', 'of', 'previous', 'elections', 'in', 'the', 'past', 'decade', 'the', 'vote', 'of', 'the', 'overall', 'constituency', 'of', 'Taipei', 'City', 'shows', 'a', 'slight', 'inclination', 'towards', 'the', 'pro-KMT', 'camp', 'the', 'Pan-Blue', 'Coalition', 'however', 'the', 'pro-DPP', 'camp', 'the', 'Pan-Green', 'Coalition', 'also', 'has', 'considerable', 'support.Ketagalan', 'Boulevard', 'where', 'the', 'Presidential', 'Office', 'Building', 'and', 'other', 'government', 'structures', 'are', 'situated', 'is', 'often', 'the', 'site', 'of', 'mass', 'gatherings', 'such', 'as', 'inauguration', 'and', 'national', 'holiday', 'parades', 'receptions', 'for', 'visiting', 'dignitaries', 'political', 'demonstrations', 'and', 'public', 'festivals', '===', 'Garbage', 'recycling', '===', 'Taipei', 'City', 'is', 'also', 'famous', 'for', 'its', 'effort', 'in', 'garbage', 'recycling', 'which', 'has', 'become', 'such', 'a', 'good', 'international', 'precedent', 'that', 'other', 'countries', 'have', 'sent', 'teams', 'to', 'study', 'the', 'recycling', 'system', 'After', 'the', 'Environmental', 'Protection', 'Administration', 'EPA', 'established', 'a', 'program', 'in', '1998', 'combining', 'the', 'efforts', 'of', 'communities', 'a', 'financial', 'resource', 'named', 'the', 'Recycling', 'Fund', 'was', 'made', 'available', 'to', 'recycling', 'companies', 'and', 'waste', 'collectors', 'The', 'EPA', 'also', 'introduced', 'garbage', 'recycling', 'trucks', 'in', 'effort', 'to', 'raise', 'community', 'recycling', 'awareness', 'that', 'broadcast', 'classical', 'music', 'specifically', 'Beethoven', \"'s\", '``', 'Für', 'Elise', \"''\", 'and', 'Tekla', 'Bądarzewska-Baranowska', \"'s\", '``', 'A', 'Maiden', \"'s\", 'Prayer', \"''\", 'to', 'announce', 'its', 'arrival', 'to', 'the', 'community', 'Manufacturers', 'vendors', 'and', 'importers', 'of', 'recyclable', 'waste', 'pay', 'fees', 'to', 'the', 'Fund', 'which', 'uses', 'the', 'money', 'to', 'set', 'firm', 'prices', 'for', 'recyclables', 'and', 'subsidize', 'local', 'recycling', 'efforts', 'Between', '1998', 'and', '2008', 'the', 'recycling', 'rate', 'increased', 'from', '6', 'percent', 'to', '32', 'percent', 'This', 'improvement', 'enabled', 'the', 'government', 'of', 'Taipei', 'to', 'demonstrate', 'its', 'recycling', 'system', 'to', 'the', 'world', 'at', 'the', 'Shanghai', 'World', 'Expo', '2010', '===', 'Administrative', 'divisions', '===', 'Taipei', 'City', 'is', 'divided', 'up', 'into', '12', 'administrative', 'districts', '區', 'qū', 'Each', 'district', 'is', 'further', 'divided', 'up', 'into', 'urban', 'villages', '里', 'which', 'are', 'further', 'sub-divided', 'up', 'into', 'neighborhoods', '鄰', 'Xinyi', 'District', 'is', 'the', 'seat', 'of', 'the', 'municipality', 'where', 'the', 'Taipei', 'City', 'Government', 'headquarters', 'is', 'located', '===', 'City', 'planning', '===', 'The', 'city', 'is', 'characterized', 'by', 'straight', 'roads', 'and', 'public', 'buildings', 'of', 'grand', 'Western', 'architectural', 'styles', 'The', 'city', 'is', 'built', 'on', 'a', 'square', 'grid', 'configuration', 'however', 'these', 'blocks', 'are', 'huge', 'by', 'international', 'standards', 'with', '500', 'm', '1,640.42', 'ft', 'sides', 'The', 'area', 'in', 'between', 'these', 'blocks', 'is', 'infilled', 'with', 'lanes', 'and', 'alleys', 'which', 'provide', 'access', 'to', 'quieter', 'residential', 'or', 'mixed-use', 'development', 'Other', 'than', 'a', 'citywide', '30', 'km/h', '19', 'mph', 'speed', 'limit', 'there', 'is', 'little', 'uniform', 'planning', 'within', 'this', '``', 'hidden', \"''\", 'area', 'therefore', 'lanes', 'perpendicular', 'to', 'streets', 'and', 'alleys', 'parallel', 'with', 'streets', 'or', 'conceptually', 'perpendicular', 'to', 'lanes', 'spill', 'out', 'from', 'the', 'main', 'controlled-access', 'highways', 'These', 'minor', 'roads', 'are', 'not', 'always', 'perpendicular', 'and', 'sometimes', 'cut', 'through', 'the', 'block', 'diagonally', 'Although', 'development', 'began', 'in', 'the', 'western', 'districts', 'of', 'the', 'city', 'still', 'considered', 'the', 'cultural', 'heart', 'of', 'Taipei', 'due', 'to', 'trade', 'the', 'eastern', 'districts', 'have', 'become', 'the', 'focus', 'of', 'recent', 'development', 'projects', 'Many', 'of', 'the', 'western', 'districts', 'have', 'become', 'targets', 'of', 'urban', 'renewal', 'initiatives', '==', 'Transportation', '==', 'Public', 'transport', 'accounts', 'for', 'a', 'substantial', 'portion', 'of', 'different', 'modes', 'of', 'transport', 'in', 'Taiwan', 'with', 'Taipei', 'residents', 'having', 'the', 'highest', 'utilization', 'rate', 'at', '34.1', 'Private', 'transport', 'consists', 'of', 'motor', 'scooters', 'private', 'cars', 'taxi', 'cabs', 'and', 'bicycles', 'Motor-scooters', 'often', 'weave', 'between', 'cars', 'and', 'occasionally', 'through', 'oncoming', 'traffic', 'Respect', 'for', 'traffic', 'laws', 'once', 'scant', 'has', 'improved', 'with', 'deployment', 'of', 'traffic', 'cameras', 'and', 'increasing', 'numbers', 'of', 'police', 'roadblocks', 'checking', 'riders', 'for', 'alcohol', 'consumption', 'and', 'other', 'offenses', 'Taipei', 'Main', 'Station', 'serves', 'as', 'the', 'comprehensive', 'hub', 'for', 'the', 'subway', 'bus', 'conventional', 'rail', 'and', 'high-speed', 'rail', 'A', 'contactless', 'smartcard', 'known', 'as', 'EasyCard', 'can', 'be', 'used', 'for', 'all', 'modes', 'of', 'public', 'transit', 'as', 'well', 'as', 'several', 'retail', 'outlets', 'It', 'contains', 'credits', 'that', 'are', 'deducted', 'each', 'time', 'a', 'ride', 'is', 'taken', 'The', 'EasyCard', 'is', 'read', 'via', 'MIFARE', 'panels', 'on', 'buses', 'and', 'in', 'MRT', 'stations', 'and', 'it', 'does', 'not', 'need', 'to', 'be', 'removed', 'from', 'one', \"'s\", 'wallet', 'or', 'purse', '===', 'Metro', '===', 'Taipei', \"'s\", 'public', 'transport', 'system', 'the', 'Taipei', 'Metro', 'commonly', 'referred', 'to', 'as', 'the', 'MRT', 'incorporates', 'a', 'metro', 'and', 'light', 'rail', 'system', 'based', 'on', 'advanced', 'VAL', 'and', 'Bombardier', 'technology', 'There', 'are', 'currently', 'six', 'metro', 'lines', 'that', 'are', 'organized', 'and', 'labeled', 'in', 'three', 'ways', 'by', 'color', 'line', 'number', 'and', 'depot', 'station', 'name', 'In', 'addition', 'to', 'the', 'rapid', 'transit', 'system', 'itself', 'the', 'Taipei', 'Metro', 'also', 'includes', 'several', 'public', 'facilities', 'such', 'as', 'the', 'Maokong', 'Gondola', 'underground', 'shopping', 'malls', 'parks', 'and', 'public', 'squares', 'Modifications', 'to', 'existing', 'railway', 'lines', 'to', 'integrate', 'them', 'into', 'the', 'metro', 'system', 'are', 'underway', 'In', '2017', 'a', 'rapid', 'transit', 'line', 'was', 'opened', 'to', 'connect', 'Taipei', 'with', 'Taiwan', 'Taoyuan', 'International', 'Airport', 'and', 'Zhongli', 'District', 'The', 'new', 'line', 'is', 'part', 'of', 'the', 'new', 'Taoyuan', 'Metro', 'system', 'On', '31', 'January', '2020', 'Hitachi', 'Rail', 'Corporation', 'officially', 'commissioned', 'Phase', '1', 'of', 'the', 'Circular', 'line', 'which', 'took', 'place', 'at', 'Shisizhang', 'station', 'The', 'Circular', 'line', 'is', 'a', '15.4', 'km', 'driverless', 'rail', 'system', 'The', 'Circular', 'line', 'offered', 'free', 'rides', 'beginning', 'in', 'February', '2020', 'for', 'passengers', 'to', 'test', 'the', 'route', '===', 'Rail', '===', 'Beginning', 'in', '1983', 'surface', 'rail', 'lines', 'in', 'the', 'city', 'were', 'moved', 'underground', 'as', 'part', 'of', 'the', 'Taipei', 'Railway', 'Underground', 'Project', 'The', 'Taiwan', 'High', 'Speed', 'Rail', 'system', 'opened', 'in', '2007', 'The', 'bullet', 'trains', 'connect', 'Taipei', 'with', 'the', 'west', 'coast', 'cities', 'of', 'New', 'Taipei', 'Taoyuan', 'Hsinchu', 'Taichung', 'Chiayi', 'and', 'Tainan', 'before', 'terminating', 'at', 'Zuoying', 'Kaohsiung', 'at', 'speeds', 'that', 'cut', 'travel', 'times', 'by', '60', 'or', 'more', 'from', 'what', 'they', 'normally', 'are', 'on', 'a', 'bus', 'or', 'conventional', 'train', 'The', 'Taiwan', 'Railways', 'Administration', 'also', 'runs', 'passenger', 'and', 'freight', 'services', 'throughout', 'the', 'entire', 'island', '===', 'Bus', '===', 'An', 'extensive', 'city', 'bus', 'system', 'serves', 'metropolitan', 'areas', 'not', 'covered', 'by', 'the', 'metro', 'with', 'exclusive', 'bus', 'lanes', 'to', 'facilitate', 'transportation', 'Riders', 'of', 'the', 'city', 'metro', 'system', 'are', 'able', 'to', 'use', 'the', 'EasyCard', 'for', 'discounted', 'fares', 'on', 'buses', 'and', 'vice', 'versa', 'A', 'unique', 'feature', 'of', 'the', 'Taipei', 'bus', 'system', 'is', 'the', 'joint', 'venture', 'of', 'private', 'transportation', 'companies', 'that', 'operate', 'the', 'system', \"'s\", 'routes', 'while', 'sharing', 'the', 'fare', 'system', 'This', 'route', 'is', 'in', 'sharp', 'contrast', 'to', 'bus', 'systems', 'in', 'the', 'U.S.', 'which', 'are', 'mostly', 'public', 'entities', 'Several', 'major', 'intercity', 'bus', 'terminals', 'are', 'located', 'throughout', 'the', 'city', 'including', 'the', 'Taipei', 'Bus', 'Station', 'and', 'Taipei', 'City', 'Hall', 'Bus', 'Station', '===', 'Airports', '===', 'Most', 'scheduled', 'international', 'flights', 'are', 'served', 'by', 'Taoyuan', 'International', 'Airport', 'in', 'nearby', 'Taoyuan', 'City', 'Taipei', 'Songshan', 'Airport', 'at', 'the', 'heart', 'of', 'the', 'city', 'in', 'the', 'Songshan', 'District', 'serves', 'domestic', 'flights', 'and', 'scheduled', 'flights', 'to', 'Haneda', 'Airport', 'in', 'Tokyo', 'Gimpo', 'International', 'Airport', 'in', 'Seoul', 'and', 'about', '15', 'destinations', 'in', 'the', 'People', \"'s\", 'Republic', 'of', 'China', 'Songshan', 'Airport', 'is', 'accessible', 'by', 'the', 'Taipei', 'Metro', 'Neihu', 'Line', 'Taoyuan', 'International', 'Airport', 'is', 'accessible', 'by', 'the', 'Taoyuan', 'Airport', 'MRT', '===', 'Ticketing', '===', 'In', '1994', 'following', 'the', 'rapid', 'development', 'of', 'Taipei', 'a', 'white', 'paper', 'for', 'transport', 'policies', 'expressed', 'the', 'strong', 'objective', 'of', 'creating', 'a', 'transport', 'system', 'for', 'the', 'people', 'of', 'Taipei', 'to', 'accommodate', 'the', 'burgeoning', 'city', \"'s\", 'needs', 'In', '1999', 'they', 'chose', 'Mitac', 'consortium', 'which', 'Thales-Transportation', 'Systems', 'is', 'part', 'of', 'Thales', 'was', 'then', 'selected', 'again', 'in', '2005', 'to', 'deploy', 'an', 'upgrade', 'of', 'Taipei', \"'s\", 'public', 'transport', 'network', 'with', 'an', 'end-to-end', 'and', 'fully', 'contactless', 'automatic', 'fare', 'collection', 'solution', 'that', 'integrates', '116', 'metro', 'stations', '5,000', 'buses', 'and', '92', 'car', 'parks', '==', 'Education', '==', 'Taipei', 'is', 'home', 'to', 'the', 'campuses', 'of', '24', 'universities', 'and', 'Academia', 'Sinica', 'Taiwan', \"'s\", 'national', 'academy', 'which', 'supports', 'the', 'Taiwan', 'International', 'Graduate', 'Program', 'National', 'Taiwan', 'University', 'NTU', 'or', 'Tai-Da', 'was', 'established', 'in', '1928', 'during', 'the', 'period', 'of', 'Japanese', 'colonial', 'rule', 'NTU', 'has', 'produced', 'many', 'political', 'and', 'social', 'leaders', 'in', 'Taiwan', 'Both', 'pan-blue', 'and', 'pan-green', 'movements', 'in', 'Taiwan', 'are', 'rooted', 'on', 'the', 'NTU', 'campus', 'The', 'university', 'has', 'six', 'campuses', 'in', 'the', 'greater', 'Taipei', 'region', 'including', 'New', 'Taipei', 'and', 'two', 'additional', 'campuses', 'in', 'Nantou', 'County', 'The', 'university', 'governs', 'farms', 'forests', 'and', 'hospitals', 'for', 'educational', 'and', 'research', 'purposes', 'The', 'main', 'campus', 'is', 'in', 'Taipei', \"'s\", 'Da-An', 'district', 'where', 'most', 'department', 'buildings', 'and', 'all', 'the', 'administrative', 'buildings', 'are', 'located', 'The', 'College', 'of', 'Law', 'and', 'the', 'College', 'of', 'Medicine', 'are', 'located', 'near', 'the', 'Presidential', 'Office', 'Building', 'The', 'National', 'Taiwan', 'University', 'Hospital', 'is', 'a', 'leading', 'international', 'center', 'of', 'medical', 'research.National', 'Taiwan', 'Normal', 'University', 'NTNU', 'or', 'Shi-Da', 'likewise', 'traces', 'its', 'origins', 'to', 'the', 'Japanese', 'colonial', 'period', 'Founded', 'as', 'Taihoku', 'College', 'in', '1922', 'and', 'organized', 'as', 'a', 'teacher', 'training', 'institution', 'by', 'the', 'Kuomintang', 'in', '1946', 'NTNU', 'has', 'since', 'developed', 'into', 'a', 'comprehensive', 'international', 'university', 'The', 'university', 'boasts', 'especially', 'strong', 'programs', 'in', 'the', 'humanities', 'and', 'international', 'education', 'Worldwide', 'it', 'is', 'perhaps', 'best', 'known', 'as', 'home', 'of', 'the', 'Mandarin', 'Training', 'Center', 'a', 'program', 'that', 'offers', 'Mandarin', 'language', 'training', 'each', 'year', 'to', 'over', 'a', 'thousand', 'students', 'from', 'scores', 'of', 'countries', 'throughout', 'the', 'world', 'The', 'main', 'campus', 'in', 'Taipei', \"'s\", 'Daan', 'district', 'near', 'MRT', 'Guting', 'Station', 'is', 'known', 'for', 'its', 'historic', 'architecture', 'The', 'Shida', 'market', 'area', 'surrounding', 'this', 'campus', 'takes', 'its', 'name', 'from', 'the', 'school', \"'s\", 'acronym', '==', 'Sports', '==', 'Taiwan', \"'s\", 'Chinese', 'Professional', 'Baseball', 'League', 'has', 'a', 'professional', 'baseball', 'team', 'Wei', 'Chuan', 'Dragons', 'based', 'in', 'Taipei.Taipei', 'also', 'has', 'two', 'professional', 'basketball', 'teams', 'the', 'TaiwanBeer', 'HeroBears', 'of', 'the', 'T1', 'League', 'and', 'the', 'Taipei', 'Fubon', 'Braves', 'of', 'the', 'P.', 'League+', '===', 'Major', 'sporting', 'events', '===', 'Below', 'is', 'a', 'selected', 'list', 'of', 'recent', 'sporting', 'events', 'hosted', 'by', 'the', 'city', '2004', 'FIFA', 'Futsal', 'World', 'Championship', '2006', 'Women', \"'s\", 'Baseball', 'World', 'Cup', '2007', 'Baseball', 'World', 'Cup', '2009', 'Asian', 'Judo', 'Championships', '2009', 'Summer', 'Deaflympics', '2013', 'Badminton', 'Asia', 'Championships', '2015', 'WBSC', 'Premier12', '2016', 'IIHF', 'Women', \"'s\", 'Challenge', 'Cup', 'of', 'Asia', 'Division', 'I', '2017', 'Summer', 'Universiade', '2019', 'Asian', 'Men', \"'s\", 'Club', 'Volleyball', 'Championship', '2022', 'U-23', 'Baseball', 'World', 'Cup', 'co-hosted', 'with', 'Taichung', 'and', 'Yunlin', '2025', 'Summer', 'World', 'Masters', 'Games', 'co-host', 'with', 'New', 'Taipei', 'City', 'Taipei', 'Marathon', 'annual', 'The', 'marathon', 'is', 'one', 'of', 'the', 'two', 'World', 'Athletics', 'Label', 'Road', 'Races', 'in', 'Taiwan', 'being', 'categorized', 'as', 'a', 'Bronze', 'Label', 'Road', 'Race', 'The', 'other', 'race', 'is', 'the', 'New', 'Taipei', 'City', 'Wan', 'Jin', 'Shi', 'Marathon', 'categorized', 'as', 'a', 'Silver', 'Label', 'Road', 'Race.The', 'Taipei', 'Arena', 'is', 'located', 'at', 'the', 'site', 'of', 'the', 'former', 'Taipei', 'Municipal', 'Baseball', 'Stadium', 'demolished', 'in', '2000', 'with', 'a', 'capacity', 'of', 'over', '15,000', 'It', 'was', 'opened', 'on', '1', 'December', '2005', 'and', 'has', 'since', 'held', 'more', 'art', 'and', 'cultural', 'activities', 'such', 'as', 'live', 'concerts', 'than', 'sporting', 'events', 'which', 'it', 'was', 'originally', 'designed', 'for', 'The', 'Chinese', 'Taipei', 'Ice', 'Hockey', 'League', 'plays', 'out', 'of', 'the', 'auxiliary', 'arena', 'Tianmu', 'Baseball', 'Stadium', 'is', 'the', 'major', 'baseball', 'venue', 'in', 'Taipei', 'Taipei', 'Municipal', 'Stadium', 'is', 'a', 'multipurpose', 'stadium', 'that', 'hosts', 'football', 'and', 'track', 'and', 'field', 'events', 'as', 'well', 'as', 'concerts', 'both', 'live', 'and', 'prerecorded', 'Originally', 'built', 'in', '1956', 'it', 'was', 'demolished', 'and', 'reconstructed', 'in', '2009', 'The', 'Taipei', 'Dome', 'which', 'has', 'the', 'capacity', 'to', 'house', '40,071', 'seats', 'is', 'estimated', 'to', 'finish', 'construction', 'by', 'the', 'end', 'of', '2021', '===', 'Youth', 'baseball', '===', 'In', '2010', 'a', 'Taipei', 'baseball', 'team—Chung-Ching', 'Junior', 'Little', 'League—won', 'the', 'Junior', 'League', 'World', 'Series', 'The', 'achievement', 'came', 'after', 'winning', 'the', 'Asia-Pacific', 'Region', 'then', 'defeating', 'the', 'Mexico', 'Region', 'and', 'Latin', 'America', 'Region', 'champions', 'to', 'become', 'the', 'International', 'champion', 'and', 'finally', 'defeating', 'the', 'U.S.', 'champion', 'Southwest', 'Region', 'Rose', 'Capital', 'East', 'LL', 'Tyler', 'Texas', '9–1', 'Taiwan', \"'s\", 'Little', 'League', 'World', 'Series', 'international', 'team', 'has', 'won', '17', 'championships', 'the', 'most', 'wins', 'in', 'the', 'league', '==', 'Media', '==', 'As', 'the', 'capital', 'Taipei', 'City', 'is', 'the', 'headquarters', 'for', 'many', 'television', 'and', 'radio', 'stations', 'in', 'Taiwan', 'and', 'the', 'center', 'of', 'some', 'of', 'the', 'country', \"'s\", 'largest', 'newspapers', '===', 'Television', '===', 'Television', 'stations', 'located', 'in', 'Taipei', 'include', 'the', 'CTS', 'Education', 'and', 'Culture', 'CTS', 'Recreation', 'CTV', 'MyLife', 'CTV', 'News', 'Channel', 'China', 'Television', 'Chinese', 'Television', 'System', 'Chung', \"T'ien\", 'Television', 'Dimo', 'TV', 'Eastern', 'Television', 'Era', 'Television', 'FTV', 'News', 'Follow', 'Me', 'TV', 'Formosa', 'TV', 'Gala', 'Television', 'Public', 'Television', 'Service', 'SET', 'Metro', 'SET', 'News', 'SET', 'Taiwan', 'Sanlih', 'E-Television', 'Shuang', 'Xing', 'TTV', 'Family', 'TTV', 'Finance', 'TTV', 'World', 'TVBS', 'TVBS-G', 'TVBS-NEWS', 'Taiwan', 'Broadcasting', 'System', 'Videoland', 'Television', 'Network', 'and', 'Taiwan', 'Television', '===', 'Newspapers', '===', 'Newspapers', 'include', 'Apple', 'Daily', 'Central', 'Daily', 'News', 'The', 'China', 'Post', 'China', 'Times', 'DigiTimes', 'Kinmen', 'Daily', 'News', 'Liberty', 'Times', 'Mandarin', 'Daily', 'News', 'Matsu', 'Daily', 'Min', 'Sheng', 'Bao', 'Sharp', 'Daily', 'Taipei', 'Times', 'Taiwan', 'Daily', 'Taiwan', 'News', 'Taiwan', 'Times', 'and', 'United', 'Daily', 'News', '==', 'International', 'relations', '==', 'Taipei', 'is', 'a', 'member', 'of', 'the', 'Asian', 'Network', 'of', 'Major', 'Cities', '21', '===', 'Twin', 'towns', 'and', 'sister', 'cities', '===', 'Taipei', 'is', 'twinned', 'with', '====', 'United', 'States', '====', '====', 'Outside', 'United', 'States', '====', '===', 'Partner', 'cities', '===', 'Anchorage', 'AK', 'United', 'States', '1997', 'Yokohama', 'Kanagawa', 'Japan', '2006', 'Wellington', 'New', 'Zealand', '2015', '===', 'Friendship', 'cities', '===', 'Perth', 'Western', 'Australia', 'Australia', '1999', 'Gyeonggi-do', 'South', 'Korea', '2000', 'Orange', 'County', 'CA', 'United', 'States', '2000', 'George', 'Town', 'Penang', 'Malaysia', '2009', 'Helsinki', 'Finland', '2012', '==', 'In', 'popular', 'culture', '==', 'Taipei', \"'s\", 'name', 'is', 'used', 'in', 'a', 'professional', 'wrestling', 'match', 'named', 'the', '``', 'Taipei', 'Deathmatch', \"''\", 'in', 'which', 'the', 'wrestlers', 'fists', 'are', 'taped', 'and', 'dipped', 'into', 'glue', 'and', 'in', 'broken', 'and', 'crushed', 'glass', 'allowing', 'shards', 'to', 'stick', 'to', 'their', 'fists', 'This', 'match', 'can', 'be', 'won', 'by', 'pinfall', 'submission', 'or', 'escape', 'Writer', 'Tao', 'Lin', \"'s\", '2013', 'novel', 'is', 'titled', 'Taipei', 'and', 'takes', 'place', 'in', 'both', 'New', 'York', 'City', 'and', 'Taipei', 'where', 'the', 'protagonist', 'Paul', \"'s\", 'parents', 'were', 'born', 'and', 'live', 'In', 'the', 'novel', 'the', 'character', 'named', 'Paul', 'gets', 'married', 'and', 'then', 'visits', 'Taipei', 'with', 'his', 'new', 'wife', 'They', 'take', 'MDMA', 'and', 'LSD', 'and', 'film', 'a', 'mock', 'documentary', 'on', '``', 'Taiwan', \"'s\", 'first', 'McDonald', \"'s\", \"''\", 'The', 'novel', 'was', 'made', 'into', 'a', 'movie', 'titled', 'High', 'Resolution', 'starring', 'Justin', 'Chon', 'and', 'Ellie', 'Bamber', '==', 'Gallery', '==', '==', 'See', 'also', '==', 'Taipei-Keelung', 'Metropolitan', 'Area', 'List', 'of', 'districts', 'of', 'Taipei', 'by', 'area', 'List', 'of', 'districts', 'of', 'Taipei', 'by', 'population', 'List', 'of', 'districts', 'of', 'Taipei', 'by', 'population', 'density', 'List', 'of', 'schools', 'in', 'Taipei', 'Taipei', 'Community', 'Services', 'Center', 'offers', 'support', 'services', 'to', 'the', 'international', 'community', '==', 'Notes', '==', '===', 'Words', 'in', 'native', 'languages', '===', '===', 'Other', '===', '==', 'References', '==', '==', 'Further', 'reading', '==', 'Li', 'Jie', 'Xingjian', 'Liu', 'Jianzheng', 'Liu', 'Weifeng', 'Li', 'June', '2016', '``', 'City', 'profile', 'Taipei', \"''\", 'Cities', '55', '1–8', 'doi:10.1016/j.cities.2016.03.007', '==', 'External', 'links', '==', 'Official', 'website', 'Taipei', 'City', 'Council', 'Geographic', 'data', 'related', 'to', 'Taipei', 'at', 'OpenStreetMap']\n"
          ]
        }
      ]
    },
    {
      "cell_type": "code",
      "source": [
        "from collections import Counter\n",
        "print(\"移除標點符號前\")\n",
        "tokens = nltk_tokenize\n",
        "word_count = Counter(tokens)\n",
        "for w, c in word_count.most_common(10):\n",
        "  print(\"%s\\t%d\" % (w, c))\n",
        "\n",
        "print(\"=========================\")\n",
        "\n",
        "print(\"移除標點符號後\")\n",
        "tokens = remove_punc(tokens)\n",
        "word_count = Counter(tokens)\n",
        "for w, c in word_count.most_common(10):\n",
        "  print(\"%s\\t%d\" % (w, c))"
      ],
      "metadata": {
        "colab": {
          "base_uri": "https://localhost:8080/"
        },
        "id": "GpGHeeEEJOfS",
        "outputId": "56d3a4b9-ff63-4d70-e9a1-364b28e99658"
      },
      "execution_count": 33,
      "outputs": [
        {
          "output_type": "stream",
          "name": "stdout",
          "text": [
            "移除標點符號前\n",
            "the\t452\n",
            ",\t444\n",
            ".\t304\n",
            "of\t247\n",
            "and\t238\n",
            "in\t205\n",
            "Taipei\t171\n",
            "to\t114\n",
            "is\t100\n",
            "a\t98\n",
            "=========================\n",
            "移除標點符號後\n",
            "the\t452\n",
            "of\t247\n",
            "and\t238\n",
            "in\t205\n",
            "Taipei\t171\n",
            "to\t114\n",
            "is\t100\n",
            "a\t98\n",
            "The\t94\n",
            "as\t76\n"
          ]
        }
      ]
    },
    {
      "cell_type": "markdown",
      "source": [
        "### Remove punctuation Method2: `.isalpha()` \n",
        "去除所有包含非英文的字詞"
      ],
      "metadata": {
        "id": "jKrlXNREo3kP"
      }
    },
    {
      "cell_type": "code",
      "source": [
        "tokens = nltk_tokenize"
      ],
      "metadata": {
        "id": "hX1M2R26qKF2"
      },
      "execution_count": 18,
      "outputs": []
    },
    {
      "cell_type": "code",
      "source": [
        "def remove_punc2(tokens):\n",
        "  tokens_list = []\n",
        "  for tok in tokens:\n",
        "    if tok.isalpha():\n",
        "      tokens_list.append(tok)\n",
        "  return tokens_list\n",
        "\n",
        "# def remove_punc_short(tokens):\n",
        "  # return [tok for tok in tokens if tok.isalpha()]\n",
        "\n",
        "print(len(remove_punc2(tokens)))\n",
        "print(remove_punc2(tokens))"
      ],
      "metadata": {
        "colab": {
          "base_uri": "https://localhost:8080/"
        },
        "id": "DS3SuORinTEk",
        "outputId": "c0939bc2-1828-453f-a209-bf1b77a68dab"
      },
      "execution_count": 19,
      "outputs": [
        {
          "output_type": "stream",
          "name": "stdout",
          "text": [
            "6712\n",
            "['Taipei', 'officially', 'Taipei', 'City', 'is', 'the', 'capital', 'and', 'a', 'special', 'municipality', 'of', 'the', 'Republic', 'of', 'China', 'Taiwan', 'Located', 'in', 'Northern', 'Taiwan', 'Taipei', 'City', 'is', 'an', 'enclave', 'of', 'the', 'municipality', 'of', 'New', 'Taipei', 'City', 'that', 'sits', 'about', 'km', 'mi', 'southwest', 'of', 'the', 'northern', 'port', 'city', 'of', 'Keelung', 'Most', 'of', 'the', 'city', 'rests', 'on', 'the', 'Taipei', 'Basin', 'an', 'ancient', 'lakebed', 'The', 'basin', 'is', 'bounded', 'by', 'the', 'relatively', 'narrow', 'valleys', 'of', 'the', 'Keelung', 'and', 'Xindian', 'rivers', 'which', 'join', 'to', 'form', 'the', 'Tamsui', 'River', 'along', 'the', 'city', 'western', 'municipality', 'of', 'Taipei', 'is', 'home', 'to', 'an', 'estimated', 'population', 'of', 'January', 'forming', 'the', 'core', 'part', 'of', 'the', 'metropolitan', 'area', 'also', 'known', 'as', 'Greater', 'Taipei', 'which', 'includes', 'the', 'nearby', 'cities', 'of', 'New', 'Taipei', 'and', 'Keelung', 'with', 'a', 'population', 'of', 'the', 'urban', 'area', 'in', 'the', 'of', 'Taiwanese', 'citizens', 'live', 'in', 'the', 'metro', 'areas', 'The', 'name', 'Taipei', 'can', 'refer', 'either', 'to', 'the', 'whole', 'metropolitan', 'area', 'or', 'just', 'the', 'municipality', 'alone', 'Taipei', 'has', 'been', 'the', 'political', 'center', 'of', 'the', 'island', 'since', 'when', 'it', 'first', 'became', 'the', 'seat', 'of', 'Taiwan', 'Province', 'by', 'the', 'Qing', 'dynasty', 'until', 'and', 'again', 'from', 'to', 'by', 'the', 'ROC', 'government', 'with', 'an', 'interregnum', 'from', 'to', 'as', 'the', 'seat', 'of', 'the', 'of', 'Taiwan', 'during', 'the', 'Japanese', 'rule', 'The', 'city', 'has', 'been', 'the', 'national', 'seat', 'of', 'the', 'ROC', 'central', 'government', 'since', 'it', 'became', 'the', 'nation', 'special', 'municipality', 'then', 'known', 'as', 'municipality', 'on', 'July', 'from', 'provincial', 'city', 'status', 'Taipei', 'is', 'the', 'economic', 'political', 'educational', 'and', 'cultural', 'center', 'of', 'Taiwan', 'and', 'one', 'of', 'the', 'major', 'hubs', 'in', 'East', 'Asia', 'Considered', 'to', 'be', 'a', 'global', 'city', 'and', 'rated', 'as', 'an', 'Alpha', 'City', 'by', 'GaWC', 'Taipei', 'is', 'part', 'of', 'a', 'major', 'industrial', 'area', 'Railways', 'highways', 'airports', 'and', 'bus', 'lines', 'connect', 'Taipei', 'with', 'all', 'parts', 'of', 'the', 'island', 'The', 'city', 'is', 'served', 'by', 'two', 'airports', 'Songshan', 'and', 'Taoyuan', 'The', 'municipality', 'is', 'home', 'to', 'various', 'architectural', 'or', 'cultural', 'landmarks', 'such', 'as', 'the', 'former', 'tallest', 'building', 'in', 'the', 'world', 'between', 'and', 'Taipei', 'other', 'notable', 'tourist', 'attractions', 'include', 'Chiang', 'Memorial', 'Hall', 'Dalongdong', 'Baoan', 'Temple', 'Hsing', 'Tian', 'Kong', 'Lungshan', 'Temple', 'of', 'Manka', 'National', 'Palace', 'Museum', 'Presidential', 'Office', 'Building', 'Taipei', 'Guest', 'House', 'and', 'Zhinan', 'Temple', 'Popular', 'shopping', 'districts', 'including', 'Ximending', 'as', 'well', 'as', 'several', 'night', 'markets', 'dispersed', 'throughout', 'the', 'city', 'Natural', 'features', 'such', 'as', 'Maokong', 'Yangmingshan', 'and', 'hot', 'springs', 'are', 'also', 'well', 'known', 'to', 'international', 'visitors', 'In', 'news', 'reports', 'the', 'name', 'Taipei', 'often', 'serves', 'as', 'a', 'synecdoche', 'referring', 'to', 'central', 'government', 'of', 'Taiwan', 'Due', 'to', 'the', 'ambiguous', 'political', 'status', 'of', 'Taiwan', 'internationally', 'the', 'term', 'Chinese', 'Taipei', 'is', 'also', 'frequently', 'used', 'as', 'a', 'synonym', 'for', 'the', 'entire', 'country', 'as', 'when', 'Taiwan', 'governmental', 'representatives', 'participate', 'in', 'international', 'organizations', 'or', 'Taiwan', 'athletes', 'compete', 'in', 'international', 'sporting', 'events', 'including', 'the', 'Olympics', 'Romanization', 'The', 'spellings', 'Taipei', 'and', 'derive', 'from', 'the', 'romanization', 'which', 'means', 'the', 'North', 'of', 'Taiwan', 'in', 'Chinese', 'The', 'name', 'could', 'be', 'also', 'romanized', 'as', 'Táiběi', 'according', 'to', 'Hanyu', 'Pinyin', 'and', 'Tongyong', 'city', 'has', 'also', 'been', 'known', 'as', 'derived', 'from', 'Taiwanese', 'Hokkien', 'and', 'Taipeh', 'History', 'Prior', 'to', 'the', 'significant', 'influx', 'of', 'Han', 'Chinese', 'colonists', 'the', 'region', 'of', 'Taipei', 'Basin', 'was', 'mainly', 'inhabited', 'by', 'the', 'plains', 'aborigines', 'called', 'Ketagalan', 'The', 'number', 'of', 'Han', 'colonists', 'gradually', 'increased', 'in', 'the', 'early', 'century', 'under', 'Qing', 'Dynasty', 'rule', 'after', 'the', 'government', 'began', 'permitting', 'development', 'in', 'the', 'area', 'In', 'the', 'northern', 'part', 'of', 'the', 'island', 'was', 'incorporated', 'into', 'the', 'new', 'Taipeh', 'Prefecture', 'It', 'was', 'formerly', 'established', 'as', 'and', 'was', 'the', 'temporary', 'capital', 'of', 'the', 'island', 'in', 'when', 'it', 'was', 'declared', 'a', 'province', 'Province', 'Taipeh', 'was', 'formally', 'made', 'the', 'provincial', 'capital', 'in', 'The', 'romanized', 'transcription', 'of', 'Taipeh', 'was', 'changed', 'to', 'Taihoku', 'in', 'when', 'the', 'Empire', 'of', 'Japan', 'annexed', 'Taiwan', 'based', 'on', 'the', 'Japanese', 'reading', 'of', 'the', 'two', 'characters', 'The', 'writing', 'in', 'Chinese', 'characters', 'remained', 'unaltered', 'Under', 'Japanese', 'rule', 'the', 'city', 'was', 'administered', 'under', 'Taihoku', 'Prefecture', 'Taiwan', 'Japanese', 'rulers', 'embarked', 'on', 'an', 'extensive', 'program', 'of', 'advanced', 'urban', 'planning', 'that', 'featured', 'extensive', 'railroad', 'links', 'A', 'number', 'of', 'Taipei', 'landmarks', 'and', 'cultural', 'institutions', 'date', 'from', 'this', 'the', 'surrender', 'of', 'Japan', 'to', 'the', 'Allies', 'during', 'effective', 'control', 'of', 'Taiwan', 'was', 'handed', 'to', 'the', 'Republic', 'of', 'China', 'ROC', 'After', 'facing', 'defeat', 'from', 'Communist', 'forces', 'the', 'ruling', 'Kuomintang', 'relocated', 'the', 'ROC', 'government', 'to', 'Taiwan', 'and', 'declared', 'Taipei', 'the', 'provisional', 'capital', 'of', 'the', 'ROC', 'in', 'December', 'Taiwan', 'Kuomintang', 'rulers', 'regarded', 'the', 'city', 'as', 'the', 'capital', 'of', 'Taiwan', 'Province', 'and', 'their', 'control', 'as', 'mandated', 'by', 'General', 'Order', 'No', 'In', 'Taipei', 'provided', 'the', 'backdrop', 'for', 'the', 'Wild', 'Lily', 'student', 'rallies', 'that', 'moved', 'Taiwanese', 'society', 'from', 'rule', 'to', 'democracy', 'by', 'The', 'city', 'has', 'ever', 'since', 'served', 'as', 'the', 'seat', 'of', 'Taiwan', 'democratically', 'elected', 'national', 'government', 'Early', 'dynasty', 'The', 'region', 'known', 'as', 'the', 'Taipei', 'Basin', 'was', 'home', 'to', 'Ketagalan', 'tribes', 'before', 'the', 'eighteenth', 'century', 'Han', 'Chinese', 'colonists', 'from', 'Dabu', 'County', 'Yongding', 'County', 'Anxi', 'and', 'of', 'Southern', 'Fujian', 'began', 'to', 'settle', 'in', 'the', 'Taipei', 'Basin', 'in', 'the', 'late', 'century', 'the', 'Taipei', 'area', 'where', 'the', 'major', 'Han', 'Chinese', 'settlements', 'in', 'northern', 'Taiwan', 'and', 'one', 'of', 'the', 'designated', 'overseas', 'trade', 'ports', 'Tamsui', 'were', 'located', 'gained', 'economic', 'importance', 'due', 'to', 'the', 'booming', 'overseas', 'trade', 'especially', 'that', 'of', 'tea', 'export', 'In', 'the', 'northern', 'part', 'of', 'Taiwan', 'was', 'separated', 'from', 'Taiwan', 'Prefecture', 'and', 'incorporated', 'into', 'the', 'new', 'Taipeh', 'Prefecture', 'as', 'a', 'new', 'administrative', 'entity', 'of', 'the', 'Qing', 'dynasty', 'Having', 'been', 'established', 'adjoining', 'the', 'flourishing', 'townships', 'of', 'Bangka', 'Dalongdong', 'and', 'Twatutia', 'the', 'new', 'prefectural', 'capital', 'was', 'known', 'as', 'Chengnei', 'Chinese', '城內', 'pinyin', 'chéngnèi', 'the', 'inner', 'city', 'and', 'government', 'buildings', 'were', 'erected', 'there', 'From', 'until', 'the', 'beginning', 'of', 'Japanese', 'rule', 'in', 'Taipei', 'was', 'part', 'of', 'Tamsui', 'County', 'of', 'Taipeh', 'Prefecture', 'and', 'the', 'prefectural', 'as', 'work', 'commenced', 'to', 'govern', 'the', 'island', 'as', 'a', 'province', 'Taipeh', 'was', 'thus', 'temporarily', 'designated', 'as', 'a', 'provincial', 'capital', 'The', 'city', 'officially', 'became', 'the', 'capital', 'in', 'Nowadays', 'all', 'that', 'remains', 'from', 'the', 'historical', 'period', 'is', 'the', 'north', 'gate', 'The', 'west', 'gate', 'and', 'city', 'walls', 'were', 'demolished', 'by', 'the', 'Japanese', 'while', 'the', 'south', 'gate', 'little', 'south', 'gate', 'and', 'east', 'gate', 'were', 'extensively', 'modified', 'by', 'the', 'Kuomintang', 'and', 'have', 'lost', 'much', 'of', 'their', 'original', 'character', 'Empire', 'of', 'Japan', 'As', 'settlement', 'for', 'losing', 'the', 'First', 'War', 'China', 'ceded', 'the', 'island', 'of', 'Taiwan', 'to', 'the', 'Empire', 'of', 'Japan', 'in', 'as', 'part', 'of', 'the', 'Treaty', 'of', 'Shimonoseki', 'After', 'the', 'Japanese', 'takeover', 'Taipei', 'romanized', 'into', 'English', 'as', 'Taihoku', 'following', 'the', 'Japanese', 'language', 'pronunciation', 'was', 'retained', 'as', 'the', 'capital', 'It', 'subsequently', 'emerged', 'as', 'the', 'political', 'center', 'of', 'the', 'Japanese', 'Colonial', 'Government', 'During', 'that', 'time', 'the', 'city', 'acquired', 'the', 'characteristics', 'of', 'an', 'administrative', 'center', 'including', 'many', 'new', 'public', 'buildings', 'and', 'housing', 'for', 'civil', 'servants', 'Much', 'of', 'the', 'architecture', 'of', 'Taipei', 'dates', 'from', 'the', 'period', 'of', 'Japanese', 'rule', 'including', 'the', 'Presidential', 'Office', 'Building', 'which', 'was', 'the', 'Office', 'of', 'the', 'of', 'Taiwan', 'During', 'Japanese', 'rule', 'Taihoku', 'was', 'incorporated', 'in', 'as', 'part', 'of', 'Taihoku', 'Prefecture', 'It', 'included', 'Bangka', 'Twatutia', 'and', 'Jōnai', '城內', 'among', 'other', 'small', 'settlements', 'The', 'eastern', 'village', 'of', 'Matsuyama', '松山庄', 'Songshan', 'District', 'Taipei', 'was', 'annexed', 'into', 'Taihoku', 'City', 'in', 'Taihoku', 'and', 'surrounding', 'areas', 'were', 'bombed', 'by', 'Allied', 'forces', 'on', 'several', 'occasions', 'The', 'largest', 'of', 'these', 'Allied', 'air', 'raids', 'the', 'Taihoku', 'Air', 'Raid', 'took', 'place', 'on', 'May', 'under', 'ROC', 'Upon', 'the', 'Japanese', 'defeat', 'following', 'the', 'nuclear', 'bomb', 'destruction', 'of', 'Hiroshima', 'and', 'its', 'consequent', 'surrender', 'in', 'August', 'the', 'Kuomintang', 'Chinese', 'Nationalist', 'Party', 'assumed', 'control', 'of', 'Taiwan', 'Subsequently', 'Taipei', 'was', 'established', 'as', 'a', 'provincial', 'city', 'and', 'a', 'temporary', 'Office', 'of', 'the', 'Taiwan', 'Province', 'Administrative', 'Governor', 'was', 'established', 'in', 'it', 'In', 'the', 'Kuomintang', 'KMT', 'government', 'under', 'Chiang', 'declared', 'martial', 'law', 'in', 'Taiwan', 'as', 'a', 'result', 'of', 'the', 'February', 'Incident', 'which', 'began', 'with', 'incidents', 'in', 'Taipei', 'but', 'led', 'to', 'an', 'crackdown', 'on', 'the', 'local', 'population', 'by', 'forces', 'loyal', 'to', 'Chiang', 'Two', 'years', 'later', 'on', 'December', 'Chiang', 'and', 'the', 'Kuomintang', 'forces', 'were', 'forced', 'to', 'flee', 'mainland', 'China', 'by', 'the', 'after', 'defeat', 'by', 'Communist', 'revolutionaries', 'The', 'national', 'government', 'that', 'fled', 'to', 'Taiwan', 'declared', 'Taipei', 'to', 'be', 'the', 'provisional', 'capital', 'of', 'a', 'continuing', 'Republic', 'of', 'expanded', 'greatly', 'in', 'the', 'decades', 'after', 'and', 'as', 'approved', 'on', 'December', 'by', 'the', 'Executive', 'Yuan', 'Taipei', 'was', 'declared', 'a', 'special', 'municipality', 'on', 'July', 'In', 'the', 'following', 'year', 'Taipei', 'City', 'expanded', 'again', 'by', 'annexing', 'Shilin', 'Beitou', 'Neihu', 'Nangang', 'Jingmei', 'and', 'Muzha', 'At', 'that', 'time', 'the', 'city', 'total', 'area', 'increased', 'fourfold', 'by', 'absorbing', 'several', 'outlying', 'towns', 'and', 'villages', 'and', 'the', 'population', 'increased', 'to', 'million', 'city', 'population', 'which', 'had', 'reached', 'one', 'million', 'in', 'the', 'early', 'also', 'expanded', 'rapidly', 'after', 'exceeding', 'two', 'million', 'by', 'the', 'Although', 'growth', 'within', 'the', 'city', 'itself', 'gradually', 'slowed', 'thereafter', 'its', 'population', 'had', 'become', 'relatively', 'stable', 'by', 'the', 'Taipei', 'remained', 'one', 'of', 'the', 'world', 'most', 'densely', 'populated', 'urban', 'areas', 'and', 'the', 'population', 'continued', 'to', 'increase', 'in', 'the', 'region', 'surrounding', 'the', 'city', 'notably', 'along', 'the', 'corridor', 'between', 'Taipei', 'and', 'Keelung', 'In', 'Taipei', 'districts', 'were', 'consolidated', 'into', 'the', 'current', 'districts', 'Mass', 'democracy', 'rallies', 'that', 'year', 'in', 'the', 'plaza', 'around', 'Chiang', 'Memorial', 'Hall', 'led', 'to', 'an', 'transition', 'to', 'democracy', 'where', 'legislators', 'are', 'chosen', 'via', 'regularly', 'scheduled', 'popular', 'elections', 'during', 'the', 'presidency', 'of', 'Lee', 'Geography', 'Taipei', 'City', 'is', 'located', 'in', 'the', 'Taipei', 'Basin', 'in', 'northern', 'Taiwan', 'It', 'is', 'bordered', 'by', 'the', 'Xindian', 'River', 'on', 'the', 'south', 'and', 'the', 'Tamsui', 'River', 'on', 'the', 'west', 'The', 'generally', 'terrain', 'of', 'the', 'central', 'areas', 'on', 'the', 'western', 'side', 'of', 'the', 'municipality', 'slopes', 'upward', 'to', 'the', 'south', 'and', 'east', 'and', 'especially', 'to', 'the', 'north', 'where', 'it', 'reaches', 'the', 'm', 'ft', 'Qixing', 'Mountain', 'the', 'highest', 'dormant', 'volcano', 'in', 'Taiwan', 'in', 'Yangmingshan', 'National', 'Park', 'The', 'northern', 'districts', 'of', 'Shilin', 'and', 'Beitou', 'extend', 'north', 'of', 'the', 'Keelung', 'River', 'and', 'are', 'bordered', 'by', 'Yangmingshan', 'National', 'Park', 'The', 'Taipei', 'city', 'limits', 'cover', 'an', 'area', 'of', 'sq', 'mi', 'ranking', 'sixteenth', 'of', 'among', 'all', 'counties', 'and', 'cities', 'in', 'Taiwan', 'Two', 'peaks', 'Qixing', 'Mountain', 'and', 'Mt', 'Datun', 'rise', 'to', 'the', 'northeast', 'of', 'the', 'city', 'Qixing', 'Mountain', 'is', 'located', 'on', 'the', 'Tatun', 'Volcano', 'Group', 'its', 'm', 'ft', 'main', 'peak', 'renders', 'it', 'the', 'tallest', 'mountain', 'at', 'the', 'rim', 'of', 'the', 'Taipei', 'Basin', 'm', 'ft', 'Mt', 'Datun', 'is', 'a', 'close', 'runner', 'up', 'These', 'former', 'volcanoes', 'make', 'up', 'the', 'western', 'section', 'of', 'Yangmingshan', 'National', 'Park', 'extending', 'from', 'Mt', 'Datun', 'northward', 'to', 'Mt', 'Caigongkeng', '菜公坑山', 'Located', 'on', 'a', 'broad', 'saddle', 'between', 'two', 'mountains', 'the', 'area', 'also', 'contains', 'the', 'marshy', 'Datun', 'Pond', 'To', 'the', 'southeast', 'of', 'the', 'city', 'lie', 'the', 'Songshan', 'Hills', 'and', 'the', 'Qingshui', 'Ravine', 'which', 'form', 'a', 'barrier', 'of', 'lush', 'woods', 'Climate', 'Taipei', 'has', 'a', 'humid', 'subtropical', 'climate', 'Köppen', 'Cfa', 'Summers', 'are', 'very', 'hot', 'and', 'humid', 'and', 'accompanied', 'by', 'occasional', 'heavy', 'rainstorms', 'and', 'typhoons', 'while', 'winters', 'are', 'short', 'generally', 'warm', 'and', 'generally', 'very', 'foggy', 'due', 'to', 'the', 'northeasterly', 'winds', 'from', 'the', 'vast', 'Siberian', 'High', 'being', 'intensified', 'by', 'the', 'pooling', 'of', 'this', 'cooler', 'air', 'in', 'the', 'Taipei', 'Basin', 'As', 'in', 'the', 'rest', 'of', 'Northern', 'Taiwan', 'daytime', 'temperatures', 'of', 'Taipei', 'can', 'often', 'peak', 'above', 'during', 'a', 'warm', 'winter', 'day', 'while', 'they', 'can', 'dip', 'below', 'that', 'same', 'level', 'during', 'afternoon', 'showers', 'and', 'thunderstorms', 'in', 'the', 'summer', 'Occasional', 'cold', 'fronts', 'during', 'the', 'winter', 'months', 'can', 'drop', 'the', 'daily', 'temperature', 'by', 'to', 'to', 'though', 'temperatures', 'rarely', 'drop', 'below', 'Extreme', 'temperatures', 'ranged', 'from', 'on', 'February', 'to', 'on', 'July', 'while', 'snow', 'has', 'never', 'been', 'recorded', 'in', 'the', 'city', 'besides', 'on', 'mountains', 'located', 'within', 'the', 'city', 'limit', 'such', 'as', 'Yangmingshan', 'Due', 'to', 'Taiwan', 'location', 'in', 'the', 'Pacific', 'Ocean', 'it', 'is', 'affected', 'by', 'the', 'Pacific', 'typhoon', 'season', 'which', 'occurs', 'between', 'June', 'and', 'October', 'Air', 'quality', 'In', 'comparison', 'to', 'other', 'Asian', 'cities', 'Taipei', 'has', 'excellent', 'capabilities', 'for', 'managing', 'air', 'quality', 'in', 'the', 'city', 'Its', 'rainy', 'climate', 'location', 'near', 'the', 'coast', 'and', 'strong', 'environmental', 'regulations', 'have', 'prevented', 'air', 'pollution', 'from', 'becoming', 'a', 'substantial', 'health', 'issue', 'at', 'least', 'compared', 'to', 'cities', 'in', 'southeast', 'Asia', 'and', 'industrial', 'China', 'However', 'smog', 'is', 'extremely', 'common', 'and', 'there', 'is', 'poor', 'visibility', 'throughout', 'the', 'city', 'after', 'rainless', 'days', 'Motor', 'vehicle', 'engine', 'exhaust', 'particularly', 'from', 'motor', 'scooters', 'is', 'a', 'source', 'of', 'air', 'pollution', 'in', 'Taipei', 'There', 'are', 'higher', 'levels', 'of', 'fine', 'particulate', 'matter', 'and', 'polycyclic', 'aromatic', 'hydrocarbons', 'in', 'the', 'mornings', 'because', 'of', 'less', 'air', 'movement', 'sunlight', 'reduces', 'some', 'pollution', 'Cityscape', 'Demographics', 'While', 'Taipei', 'City', 'is', 'home', 'to', 'people', 'the', 'greater', 'metropolitan', 'area', 'has', 'a', 'population', 'of', 'people', 'Even', 'though', 'the', 'population', 'of', 'the', 'city', 'has', 'been', 'decreasing', 'in', 'recent', 'years', 'the', 'population', 'of', 'adjacent', 'New', 'Taipei', 'has', 'been', 'increasing', 'The', 'population', 'loss', 'while', 'rapid', 'in', 'its', 'early', 'years', 'was', 'slowed', 'by', 'lower', 'density', 'development', 'and', 'campaigns', 'designed', 'to', 'increase', 'the', 'birthrate', 'in', 'the', 'city', 'in', 'the', 'As', 'a', 'result', 'the', 'population', 'rose', 'to', 'Taipei', 'geography', 'and', 'location', 'in', 'the', 'Taipei', 'Basin', 'as', 'well', 'as', 'differing', 'times', 'of', 'settlement', 'and', 'differing', 'degrees', 'of', 'economic', 'development', 'of', 'its', 'districts', 'Taipei', 'population', 'is', 'not', 'evenly', 'distributed', 'The', 'districts', 'of', 'Daan', 'Songshan', 'and', 'Datong', 'are', 'the', 'most', 'densely', 'populated', 'These', 'districts', 'along', 'with', 'adjacent', 'communities', 'such', 'as', 'Yonghe', 'and', 'Zhonghe', 'contain', 'some', 'of', 'the', 'most', 'densely', 'populated', 'neighborhoods', 'in', 'the', 'the', 'crude', 'birth', 'rate', 'stood', 'at', 'while', 'the', 'mortality', 'rate', 'stood', 'at', 'A', 'decreasing', 'and', 'rapidly', 'aging', 'population', 'is', 'an', 'important', 'issue', 'for', 'the', 'city', 'By', 'the', 'end', 'of', 'one', 'in', 'ten', 'people', 'in', 'Taipei', 'was', 'over', 'years', 'of', 'age', 'Residents', 'who', 'had', 'obtained', 'a', 'college', 'education', 'or', 'higher', 'accounted', 'for', 'of', 'the', 'population', 'and', 'the', 'literacy', 'rate', 'stood', 'at', 'the', 'rest', 'of', 'Taiwan', 'Taipei', 'is', 'composed', 'of', 'four', 'major', 'ethnic', 'subgroups', 'Hoklos', 'Waishengren', 'Hakkas', 'and', 'aborigines', 'Although', 'Hoklos', 'and', 'Waishengren', 'form', 'the', 'majority', 'of', 'the', 'population', 'of', 'the', 'city', 'in', 'recent', 'decades', 'many', 'Hakkas', 'have', 'moved', 'into', 'the', 'city', 'The', 'aboriginal', 'population', 'in', 'the', 'city', 'stands', 'at', 'at', 'the', 'end', 'of', 'concentrated', 'mostly', 'in', 'the', 'suburban', 'districts', 'Foreigners', 'mainly', 'from', 'Indonesia', 'the', 'Philippines', 'and', 'Japan', 'numbered', 'at', 'the', 'end', 'of', 'Economy', 'As', 'Taiwan', 'business', 'financial', 'and', 'technology', 'hub', 'Taipei', 'has', 'been', 'at', 'the', 'center', 'of', 'rapid', 'economic', 'development', 'in', 'the', 'country', 'and', 'has', 'now', 'become', 'one', 'of', 'the', 'global', 'cities', 'in', 'technology', 'and', 'electronics', 'This', 'development', 'is', 'part', 'of', 'the', 'Taiwan', 'Miracle', 'which', 'has', 'seen', 'dramatic', 'growth', 'in', 'the', 'city', 'following', 'foreign', 'direct', 'investment', 'in', 'the', 'Taiwan', 'is', 'now', 'a', 'creditor', 'economy', 'holding', 'one', 'of', 'the', 'world', 'largest', 'foreign', 'exchange', 'reserves', 'of', 'over', 'US', 'billion', 'as', 'of', 'December', 'the', 'Asian', 'financial', 'crisis', 'the', 'economy', 'continues', 'to', 'expand', 'at', 'about', 'per', 'year', 'with', 'virtually', 'full', 'employment', 'and', 'low', 'inflation', 'The', 'city', 'GDP', 'stand', 'at', 'US', 'billion', 'in', 'As', 'of', 'the', 'nominal', 'GDP', 'per', 'capita', 'in', 'Taipei', 'city', 'is', 'highest', 'in', 'East', 'Asia', 'behind', 'Tokyo', 'Singapore', 'Osaka', 'and', 'Hong', 'Kong', 'but', 'ahead', 'of', 'Seoul', 'as', 'well', 'as', 'London', 'and', 'Paris', 'according', 'to', 'The', 'Economist', 'GDP', 'per', 'capita', 'based', 'on', 'Purchasing', 'Power', 'Parity', 'PPP', 'in', 'Taipei', 'in', 'was', 'US', 'behind', 'that', 'of', 'Singapore', 'US', 'in', 'from', 'the', 'IMF', 'and', 'Hong', 'Kong', 'US', 'in', 'from', 'the', 'IMF', 'also', 'based', 'on', 'PPP', 'The', 'Financial', 'Times', 'ranked', 'Taipei', 'highly', 'in', 'economic', 'potential', 'behind', 'Tokyo', 'and', 'business', 'friendliness', 'in', 'The', 'city', 'is', 'home', 'to', 'billionaires', 'the', 'most', 'in', 'the', 'world', 'ahead', 'of', 'many', 'global', 'cities', 'such', 'as', 'Los', 'Angeles', 'and', 'Sydney', 'Business', 'Insider', 'also', 'ranks', 'Taipei', 'the', 'most', 'city', 'globally', 'the', 'highest', 'in', 'Asia', 'in', 'While', 'the', 'IESE', 'Cities', 'in', 'Motion', 'Index', 'ranks', 'Taipei', 'as', 'the', 'smartest', 'technology', 'city', 'main', 'development', 'fields', 'include', 'the', 'information', 'and', 'communications', 'technology', 'hardware', 'and', 'software', 'biotechnology', 'general', 'merchandizing', 'financial', 'services', 'and', 'MICE', 'industries', 'Most', 'of', 'the', 'country', 'major', 'firms', 'are', 'based', 'there', 'including', 'Acer', 'Computers', 'Asus', 'CTBC', 'Bank', 'Fubon', 'Financial', 'Holding', 'Tatung', 'Company', 'and', 'others', 'Global', 'Fortune', 'companies', 'are', 'headquartered', 'in', 'Taipei', 'The', 'city', 'also', 'attracts', 'many', 'corporations', 'international', 'financial', 'institutions', 'foreign', 'consulates', 'and', 'business', 'organizations', 'to', 'set', 'up', 'base', 'there', 'Thus', 'Taipei', 'has', 'nearly', 'registered', 'foreign', 'businesses', 'and', 'attracts', 'over', 'of', 'the', 'total', 'foreign', 'investment', 'in', 'Taiwan', 'Foreign', 'companies', 'with', 'offices', 'or', 'regional', 'headquarters', 'in', 'Taipei', 'include', 'Google', 'Microsoft', 'IBM', 'Intel', 'HSBC', 'Citibank', 'Facebook', 'Amazon', 'Apple', 'JP', 'Morgan', 'PwC', 'and', 'many', 'others', 'Most', 'financial', 'and', 'foreign', 'firms', 'like', 'to', 'reside', 'in', 'the', 'central', 'business', 'district', 'of', 'Taipei', 'the', 'Xinyi', 'Special', 'District', 'With', 'Citi', 'JP', 'Morgan', 'DBS', 'Bank', 'Cathay', 'Life', 'Insurance', 'Shin', 'Kong', 'Commercial', 'Bank', 'Hua', 'Nan', 'Bank', 'and', 'soon', 'Fubon', 'Financial', 'and', 'Nan', 'Shan', 'Life', 'Insurance', 'all', 'establishing', 'skyscrapers', 'in', 'the', 'area', 'Meanwhile', 'technology', 'and', 'electronics', 'companies', 'are', 'often', 'in', 'the', 'Neihu', 'Technology', 'Park', 'or', 'the', 'Nankang', 'Software', 'Park', 'The', 'startup', 'and', 'innovation', 'scene', 'in', 'Taipei', 'is', 'also', 'very', 'vibrant', 'In', 'alone', 'Microsoft', 'announced', 'plans', 'to', 'invest', 'US', 'million', 'to', 'create', 'an', 'artificial', 'intelligence', 'R', 'D', 'center', 'in', 'Taipei', 'while', 'Google', 'announced', 'it', 'will', 'hire', 'people', 'and', 'train', 'more', 'in', 'artificial', 'intelligence', 'for', 'machines', 'Taipei', 'is', 'Google', 'biggest', 'engineering', 'site', 'in', 'Asia', 'IBM', 'also', 'announced', 'in', 'that', 'it', 'will', 'develop', 'a', 'cloud', 'research', 'lab', 'and', 'expand', 'its', 'R', 'D', 'center', 'in', 'Taipei', 'with', 'eyes', 'on', 'artificial', 'intelligence', 'blockchain', 'technology', 'and', 'cloud', 'computing', 'According', 'to', 'the', 'Global', 'Entrepreneurship', 'Development', 'Index', 'Taipei', 'entrepreneurial', 'spirit', 'ranks', 'worldwide', 'and', 'in', 'Asia', 'Taipei', 'has', 'more', 'than', 'startups', 'and', 'numerous', 'incubation', 'centers', 'accelerators', 'venture', 'capitals', 'and', 'angel', 'investors', 'The', 'city', 'startup', 'ecosystem', 'is', 'valued', 'at', 'US', 'million', 'by', 'Startup', 'Genome', 'in', 'is', 'a', 'small', 'but', 'significant', 'component', 'of', 'the', 'local', 'economy', 'with', 'international', 'visitors', 'totaling', 'almost', 'million', 'in', 'Taipei', 'has', 'many', 'top', 'tourist', 'attractions', 'and', 'contributes', 'a', 'significant', 'amount', 'to', 'the', 'US', 'billion', 'tourism', 'industry', 'in', 'Taiwan', 'Culture', 'Tourism', 'Tourism', 'is', 'a', 'major', 'part', 'of', 'Taipei', 'economy', 'In', 'over', 'million', 'overseas', 'visitors', 'visited', 'Taipei', 'making', 'the', 'city', 'the', 'most', 'visited', 'globally', 'The', 'influx', 'of', 'visitors', 'contributed', 'US', 'billion', 'to', 'the', 'city', 'economy', 'in', 'the', 'highest', 'in', 'the', 'world', 'and', 'the', 'most', 'of', 'any', 'city', 'in', 'the', 'world', 'Commemorative', 'sites', 'and', 'museums', 'The', 'National', 'Chiang', 'Memorial', 'Hall', 'is', 'a', 'famous', 'monument', 'landmark', 'and', 'tourist', 'attraction', 'that', 'was', 'erected', 'in', 'memory', 'of', 'General', 'Chiang', 'former', 'President', 'of', 'the', 'Republic', 'of', 'China', 'The', 'structure', 'stands', 'at', 'the', 'east', 'end', 'of', 'Memorial', 'Hall', 'Square', 'site', 'of', 'the', 'National', 'Concert', 'Hall', 'and', 'National', 'Theater', 'and', 'their', 'adjacent', 'parks', 'as', 'well', 'as', 'the', 'memorial', 'The', 'landmarks', 'of', 'Liberty', 'Square', 'stand', 'within', 'sight', 'of', 'Taiwan', 'Presidential', 'Office', 'Building', 'in', 'Taipei', 'Zhongzheng', 'District', 'The', 'National', 'Taiwan', 'Museum', 'sits', 'nearby', 'in', 'what', 'is', 'now', 'Peace', 'Memorial', 'Park', 'and', 'has', 'worn', 'its', 'present', 'name', 'since', 'The', 'museum', 'is', 'Taiwan', 'oldest', 'founded', 'on', 'October', 'by', 'Taiwan', 'Japanese', 'colonial', 'government', 'as', 'the', 'Taiwan', 'Governor', 'Museum', 'It', 'was', 'launched', 'with', 'a', 'collection', 'of', 'items', 'to', 'celebrate', 'the', 'opening', 'of', 'the', 'island', 'Railway', 'In', 'a', 'new', 'museum', 'building', 'opened', 'its', 'doors', 'in', 'what', 'is', 'now', 'Peace', 'Memorial', 'Park', 'This', 'structure', 'and', 'the', 'adjacent', 'governor', 'office', 'now', 'Presidential', 'Office', 'Building', 'served', 'as', 'the', 'two', 'most', 'recognizable', 'public', 'buildings', 'in', 'Taiwan', 'during', 'its', 'period', 'of', 'Japanese', 'rule', 'The', 'National', 'Palace', 'Museum', 'is', 'a', 'vast', 'art', 'gallery', 'and', 'museum', 'built', 'around', 'a', 'permanent', 'collection', 'centered', 'on', 'ancient', 'Chinese', 'artifacts', 'It', 'should', 'not', 'be', 'confused', 'with', 'the', 'Palace', 'Museum', 'in', 'Beijing', 'which', 'it', 'is', 'named', 'after', 'both', 'institutions', 'trace', 'their', 'origins', 'to', 'the', 'same', 'institution', 'The', 'collections', 'were', 'divided', 'in', 'the', 'as', 'a', 'result', 'of', 'the', 'Chinese', 'Civil', 'War', 'The', 'National', 'Palace', 'Museum', 'in', 'Taipei', 'now', 'boasts', 'a', 'truly', 'international', 'collection', 'while', 'housing', 'one', 'of', 'the', 'world', 'largest', 'collections', 'of', 'artifacts', 'from', 'ancient', 'Shung', 'Ye', 'Museum', 'of', 'Formosan', 'Aborigines', 'stands', 'just', 'm', 'ft', 'across', 'the', 'road', 'from', 'the', 'National', 'Palace', 'Museum', 'The', 'museum', 'offers', 'displays', 'of', 'art', 'and', 'historical', 'items', 'by', 'Taiwanese', 'aborigines', 'along', 'with', 'a', 'range', 'of', 'multimedia', 'displays', 'The', 'Taipei', 'Fine', 'Arts', 'Museum', 'was', 'established', 'in', 'as', 'the', 'first', 'museum', 'in', 'Taiwan', 'dedicated', 'to', 'modern', 'art', 'The', 'museum', 'is', 'housed', 'in', 'a', 'building', 'designed', 'for', 'the', 'purpose', 'that', 'takes', 'inspiration', 'from', 'Japanese', 'designs', 'Most', 'art', 'in', 'the', 'collection', 'is', 'by', 'Taiwanese', 'artists', 'since', 'Over', 'art', 'works', 'are', 'organized', 'into', 'groups', 'The', 'National', 'Sun', 'Memorial', 'Hall', 'near', 'Taipei', 'in', 'Xinyi', 'District', 'is', 'named', 'in', 'honor', 'of', 'a', 'founding', 'father', 'of', 'the', 'Republic', 'of', 'China', 'Sun', 'The', 'hall', 'completed', 'on', 'May', 'originally', 'featured', 'exhibits', 'that', 'depicted', 'revolutionary', 'events', 'in', 'the', 'Republican', 'period', 'of', 'China', 'Today', 'it', 'functions', 'as', 'social', 'educational', 'concert', 'and', 'cultural', 'center', 'for', 'Taiwan', 'citizens', 'In', 'a', 'new', 'museum', 'opened', 'as', 'Museum', 'of', 'Contemporary', 'Art', 'Taipei', 'The', 'museum', 'is', 'housed', 'in', 'a', 'building', 'that', 'formerly', 'housed', 'Taipei', 'City', 'government', 'offices', 'Taipei', 'Taipei', 'is', 'a', 'landmark', 'skyscraper', 'that', 'claimed', 'the', 'title', 'of', 'world', 'tallest', 'building', 'when', 'it', 'opened', 'in', 'a', 'title', 'it', 'held', 'for', 'six', 'years', 'before', 'the', 'Burj', 'Khalifa', 'in', 'Dubai', 'was', 'completed', 'Designed', 'by', 'Lee', 'Partners', 'and', 'constructed', 'by', 'KTRT', 'Joint', 'Venture', 'Taipei', 'measures', 'm', 'ft', 'from', 'ground', 'to', 'top', 'making', 'it', 'the', 'first', 'skyscraper', 'in', 'the', 'world', 'to', 'break', 'the', 'mark', 'in', 'height', 'Built', 'to', 'withstand', 'typhoon', 'winds', 'and', 'earthquake', 'tremors', 'its', 'design', 'incorporates', 'many', 'engineering', 'innovations', 'and', 'has', 'won', 'numerous', 'international', 'awards', 'Today', 'the', 'Taipei', 'remains', 'one', 'of', 'the', 'tallest', 'skyscrapers', 'in', 'the', 'world', 'and', 'holds', 'LEED', 'certification', 'as', 'the', 'world', 'largest', 'green', 'building', 'Its', 'shopping', 'mall', 'and', 'its', 'indoor', 'and', 'outdoor', 'observatories', 'draws', 'visitors', 'from', 'all', 'over', 'the', 'world', 'Taipei', 'New', 'Year', 'Eve', 'fireworks', 'display', 'is', 'a', 'regular', 'feature', 'of', 'international', 'broadcasts', 'Performing', 'arts', 'The', 'National', 'Theater', 'and', 'Concert', 'Hall', 'stand', 'at', 'Taipei', 'Liberty', 'Square', 'and', 'host', 'events', 'by', 'foreign', 'and', 'domestic', 'performers', 'Other', 'leading', 'concert', 'venues', 'include', 'Zhongshan', 'Hall', 'at', 'Ximending', 'and', 'the', 'Sun', 'Memorial', 'Hall', 'near', 'Taipei', 'A', 'new', 'venue', 'the', 'Taipei', 'Performing', 'Arts', 'Center', 'is', 'under', 'construction', 'and', 'slated', 'to', 'open', 'in', 'The', 'venue', 'will', 'stand', 'near', 'the', 'Shilin', 'Night', 'Market', 'and', 'will', 'house', 'three', 'theaters', 'for', 'events', 'with', 'runs', 'The', 'architectural', 'design', 'by', 'Rem', 'Koolhaas', 'and', 'OMA', 'was', 'determined', 'in', 'in', 'an', 'international', 'competition', 'The', 'same', 'design', 'process', 'is', 'also', 'in', 'place', 'for', 'a', 'new', 'Taipei', 'Center', 'for', 'Popular', 'Music', 'and', 'Taipei', 'City', 'Museum', 'Shopping', 'and', 'recreation', 'Taipei', 'is', 'known', 'for', 'its', 'many', 'night', 'markets', 'the', 'most', 'famous', 'of', 'which', 'is', 'the', 'Shilin', 'Night', 'Market', 'in', 'the', 'Shilin', 'District', 'The', 'surrounding', 'streets', 'by', 'Shilin', 'Night', 'Market', 'are', 'extremely', 'crowded', 'during', 'the', 'evening', 'usually', 'opening', 'late', 'afternoon', 'and', 'operating', 'well', 'past', 'midnight', 'Most', 'night', 'markets', 'feature', 'individual', 'stalls', 'selling', 'a', 'mixture', 'of', 'food', 'clothing', 'and', 'consumer', 'goods', 'Ximending', 'has', 'been', 'a', 'famous', 'area', 'for', 'shopping', 'and', 'entertainment', 'since', 'the', 'Historic', 'structures', 'include', 'a', 'concert', 'hall', 'a', 'historic', 'cinema', 'and', 'the', 'Red', 'House', 'Theater', 'Modern', 'structures', 'house', 'karaoke', 'businesses', 'art', 'film', 'cinemas', 'movie', 'cinemas', 'electronic', 'stores', 'and', 'a', 'wide', 'variety', 'of', 'restaurants', 'and', 'fashion', 'clothing', 'stores', 'The', 'pedestrian', 'area', 'is', 'especially', 'popular', 'with', 'teens', 'and', 'has', 'been', 'called', 'the', 'Harajuku', 'of', 'newly', 'developed', 'Xinyi', 'District', 'is', 'popular', 'with', 'tourists', 'and', 'locals', 'alike', 'for', 'its', 'many', 'entertainment', 'and', 'shopping', 'venues', 'as', 'well', 'as', 'being', 'the', 'home', 'of', 'Taipei', 'a', 'prime', 'tourist', 'attraction', 'Malls', 'in', 'the', 'area', 'include', 'the', 'sprawling', 'Shin', 'Kong', 'Mitsukoshi', 'complex', 'Breeze', 'Center', 'Bellavita', 'Taipei', 'mall', 'Eslite', 'Bookstore', 'flagship', 'store', 'which', 'includes', 'a', 'boutique', 'mall', 'The', 'Living', 'Mall', 'ATT', 'shopping', 'mall', 'and', 'the', 'Vieshow', 'Cinemas', 'formerly', 'known', 'as', 'Warner', 'Village', 'The', 'Xinyi', 'district', 'also', 'serves', 'as', 'the', 'center', 'of', 'Taipei', 'active', 'nightlife', 'with', 'several', 'popular', 'lounge', 'bars', 'and', 'nightclubs', 'concentrated', 'in', 'a', 'relatively', 'small', 'area', 'around', 'the', 'ATT', 'FUN', 'and', 'Taipei', 'buildings', 'Lounge', 'bars', 'such', 'as', 'Barcode', 'and', 'nightclubs', 'such', 'as', 'Spark', 'and', 'Myst', 'are', 'among', 'the', 'places', 'here', 'The', 'thriving', 'shopping', 'area', 'around', 'Taipei', 'Main', 'Station', 'includes', 'the', 'Taipei', 'Underground', 'Market', 'and', 'the', 'original', 'Shin', 'Kong', 'Mitsukoshi', 'department', 'store', 'at', 'Shin', 'Kong', 'Life', 'Tower', 'Other', 'popular', 'shopping', 'destinations', 'include', 'the', 'Zhongshan', 'Metro', 'Mall', 'Dihua', 'Street', 'and', 'the', 'Guang', 'Hua', 'Digital', 'Plaza', 'The', 'Miramar', 'Entertainment', 'Park', 'is', 'known', 'for', 'its', 'large', 'Ferris', 'wheel', 'and', 'IMAX', 'theater', 'Taipei', 'maintains', 'an', 'extensive', 'system', 'of', 'parks', 'green', 'spaces', 'and', 'nature', 'preserves', 'Parks', 'and', 'forestry', 'areas', 'of', 'note', 'in', 'and', 'around', 'the', 'city', 'include', 'Yangmingshan', 'National', 'Park', 'Taipei', 'Zoo', 'and', 'Forest', 'Park', 'Located', 'km', 'mi', 'north', 'of', 'the', 'city', 'center', 'Yangmingshan', 'National', 'Park', 'is', 'famous', 'for', 'its', 'cherry', 'blossoms', 'hot', 'springs', 'and', 'sulfur', 'deposits', 'It', 'is', 'the', 'home', 'of', 'famous', 'writer', 'Lin', 'Yutang', 'the', 'summer', 'residence', 'of', 'Chiang', 'residences', 'of', 'foreign', 'diplomats', 'the', 'Chinese', 'Culture', 'University', 'the', 'meeting', 'place', 'of', 'the', 'now', 'defunct', 'National', 'Assembly', 'of', 'the', 'Republic', 'of', 'China', 'and', 'the', 'Kuomintang', 'Party', 'Archives', 'The', 'Taipei', 'Zoo', 'was', 'founded', 'in', 'and', 'covers', 'an', 'area', 'of', 'hectares', 'for', 'animal', 'sanctuary', 'Bitan', 'is', 'known', 'for', 'boating', 'and', 'water', 'sports', 'Tamsui', 'is', 'a', 'popular', 'resort', 'town', 'Ocean', 'beaches', 'are', 'accessible', 'in', 'several', 'directions', 'from', 'Taipei', 'Temples', 'Taipei', 'has', 'a', 'variety', 'of', 'temples', 'dedicating', 'to', 'Deities', 'from', 'Chinese', 'folk', 'religion', 'Taoism', 'and', 'Chinese', 'Buddhism', 'The', 'Bangka', 'Lungshan', 'Temple', '艋舺龍山寺', 'built', 'in', 'and', 'located', 'in', 'the', 'Wanhua', 'District', 'demonstrates', 'an', 'example', 'of', 'architecture', 'with', 'southern', 'Chinese', 'influences', 'commonly', 'seen', 'on', 'older', 'buildings', 'in', 'Taiwan', 'Qingshui', 'Temple', '艋舺清水巖', 'built', 'in', 'and', 'Qingshan', 'Temple', 'with', 'Lungshan', 'Temple', 'are', 'the', 'three', 'most', 'prominent', 'landmark', 'temples', 'in', 'Bangka', 'or', 'Wanhua', 'District', 'There', 'are', 'other', 'famous', 'temples', 'include', 'Baoan', 'Temple', '大龍峒保安宮', 'located', 'in', 'historic', 'Dalongdong', 'a', 'national', 'historical', 'site', 'and', 'Xia', 'Hai', 'City', 'God', 'Temple', '大稻埕霞海城隍廟', 'located', 'in', 'the', 'old', 'Dadaocheng', 'community', 'constructed', 'with', 'architecture', 'similar', 'to', 'temples', 'in', 'southern', 'Fujian', 'The', 'Taipei', 'Confucius', 'Temple', '臺北孔子廟', 'traces', 'its', 'history', 'back', 'to', 'during', 'the', 'Qing', 'Dynasty', 'and', 'also', 'incorporates', 'southern', 'architecture', 'Ciyou', 'Temple', '松山慈祐宮', 'in', 'Songshan', 'District', 'Guandu', 'Temple', '關渡宮', 'in', 'Beitou', 'District', 'Hsing', 'Tian', 'Kong', '行天宮', 'in', 'Zhongshan', 'District', 'and', 'Zhinan', 'Temple', '指南宮', 'in', 'Wenshan', 'District', 'are', 'also', 'popular', 'temples', 'for', 'locals', 'and', 'tourists', 'Xinsheng', 'South', 'Road', 'is', 'known', 'as', 'the', 'Road', 'to', 'Heaven', 'due', 'to', 'its', 'high', 'concentration', 'of', 'temples', 'churches', 'and', 'other', 'houses', 'of', 'Shandao', 'Temple', '善導寺', 'built', 'in', 'and', 'located', 'in', 'Zhongzheng', 'District', 'is', 'the', 'largest', 'Buddhist', 'temple', 'in', 'Taipei', 'Fo', 'Guang', 'Shan', 'has', 'a', 'modern', 'temple', 'known', 'as', 'Fo', 'Guang', 'Shan', 'Taipei', 'Vihara', '佛光山臺北道場', 'in', 'Xinyi', 'District', 'while', 'Dharma', 'Drum', 'Mountain', 'owns', 'the', 'Degui', 'Academy', '德貴學苑', 'an', 'education', 'center', 'in', 'Zhongzheng', 'District', 'and', 'the', 'Nung', 'Chan', 'Monastery', '農禪寺', 'in', 'Beitou', 'District', 'Linji', 'Huguo', 'Chan', 'Temple', '臨濟護國禪寺', 'in', 'Zhongshan', 'District', 'was', 'commenced', 'in', 'and', 'completed', 'in', 'it', 'is', 'one', 'of', 'the', 'very', 'few', 'Japanese', 'style', 'Buddhist', 'Temples', 'that', 'was', 'in', 'Taiwan', 'Besides', 'large', 'temples', 'small', 'outdoor', 'shrines', 'to', 'local', 'deities', 'are', 'very', 'common', 'and', 'are', 'commonly', 'found', 'next', 'to', 'roads', 'as', 'well', 'as', 'in', 'parks', 'and', 'neighborhoods', 'Many', 'homes', 'and', 'businesses', 'may', 'also', 'set', 'up', 'small', 'shrines', 'of', 'candles', 'figurines', 'and', 'offerings', 'Some', 'restaurants', 'for', 'example', 'may', 'set', 'up', 'a', 'small', 'shrine', 'to', 'the', 'Kitchen', 'God', 'for', 'success', 'in', 'a', 'restaurant', 'business', 'Festivals', 'and', 'events', 'Many', 'yearly', 'festivals', 'are', 'held', 'in', 'Taipei', 'In', 'recent', 'years', 'some', 'festivals', 'such', 'as', 'the', 'Double', 'Ten', 'Day', 'fireworks', 'and', 'concerts', 'are', 'increasingly', 'hosted', 'on', 'a', 'rotating', 'basis', 'by', 'a', 'number', 'of', 'cities', 'around', 'Taiwan', 'When', 'New', 'Year', 'Eve', 'arrives', 'on', 'the', 'solar', 'calendar', 'thousands', 'of', 'people', 'converge', 'on', 'Taipei', 'Xinyi', 'District', 'for', 'parades', 'outdoor', 'concerts', 'by', 'popular', 'artists', 'street', 'shows', 'clock', 'nightlife', 'The', 'high', 'point', 'is', 'the', 'countdown', 'to', 'midnight', 'when', 'Taipei', 'assumes', 'the', 'role', 'of', 'the', 'world', 'largest', 'fireworks', 'Taipei', 'Lantern', 'Festival', 'concludes', 'the', 'Lunar', 'New', 'Year', 'holiday', 'The', 'timing', 'of', 'the', 'city', 'lantern', 'exhibit', 'coincides', 'with', 'the', 'national', 'festival', 'in', 'Pingxi', 'when', 'thousands', 'of', 'fire', 'lanterns', 'are', 'released', 'into', 'the', 'sky', 'The', 'city', 'lantern', 'exhibit', 'rotates', 'among', 'different', 'downtown', 'locales', 'from', 'year', 'to', 'year', 'including', 'Liberty', 'Square', 'Taipei', 'and', 'Zhongshan', 'Hall', 'in', 'Ximending', 'On', 'Double', 'Ten', 'Day', 'patriotic', 'celebrations', 'are', 'held', 'in', 'front', 'of', 'the', 'Presidential', 'Office', 'Building', 'Other', 'annual', 'festivals', 'include', 'Ancestors', 'Day', 'Day', 'the', 'Dragon', 'Boat', 'Festival', 'the', 'Zhong', 'Yuan', 'Festival', 'and', 'the', 'Festival', 'Mooncake', 'Festival', 'Qing', 'Shan', 'King', 'Sacrificial', 'Ceremony', '青山王祭', 'is', 'a', 'grand', 'festival', 'that', 'is', 'held', 'annually', 'in', 'Wanhua', 'District', 'Taipei', 'regularly', 'hosts', 'its', 'share', 'of', 'international', 'events', 'The', 'city', 'recently', 'hosted', 'the', 'Summer', 'Deaflympics', 'This', 'event', 'was', 'followed', 'by', 'the', 'Taipei', 'International', 'Flora', 'Exposition', 'a', 'garden', 'festival', 'hosted', 'from', 'November', 'to', 'April', 'The', 'Floral', 'Expo', 'was', 'the', 'first', 'of', 'its', 'kind', 'to', 'take', 'place', 'in', 'Taiwan', 'and', 'only', 'the', 'seventh', 'hosted', 'in', 'Asia', 'the', 'expo', 'admitted', 'visitors', 'on', 'February', 'Taipei', 'in', 'films', 'Note', 'The', 'list', 'below', 'is', 'not', 'a', 'complete', 'list', 'they', 'are', 'examples', 'of', 'more', 'notable', 'movies', 'filmed', 'in', 'the', 'city', 'Government', 'Taipei', 'City', 'is', 'a', 'special', 'municipality', 'which', 'is', 'directly', 'under', 'the', 'Executive', 'Yuan', 'Central', 'Government', 'The', 'mayor', 'of', 'Taipei', 'City', 'was', 'an', 'appointed', 'position', 'since', 'Taipei', 'conversion', 'to', 'a', 'centrally', 'administered', 'municipality', 'in', 'until', 'the', 'first', 'public', 'election', 'was', 'held', 'in', 'The', 'position', 'has', 'a', 'term', 'and', 'is', 'elected', 'by', 'direct', 'popular', 'vote', 'The', 'first', 'elected', 'mayor', 'was', 'Chen', 'of', 'the', 'Democratic', 'Progressive', 'Party', 'Ma', 'took', 'office', 'in', 'for', 'two', 'terms', 'before', 'handing', 'it', 'over', 'to', 'Hau', 'who', 'won', 'the', 'mayoral', 'election', 'on', 'December', 'Both', 'Chen', 'and', 'Ma', 'went', 'on', 'to', 'become', 'President', 'of', 'the', 'Republic', 'of', 'China', 'The', 'incumbent', 'mayor', 'Ko', 'was', 'elected', 'on', 'November', 'and', 'took', 'office', 'on', 'December', 'on', 'the', 'outcomes', 'of', 'previous', 'elections', 'in', 'the', 'past', 'decade', 'the', 'vote', 'of', 'the', 'overall', 'constituency', 'of', 'Taipei', 'City', 'shows', 'a', 'slight', 'inclination', 'towards', 'the', 'camp', 'the', 'Coalition', 'however', 'the', 'camp', 'the', 'Coalition', 'also', 'has', 'considerable', 'Boulevard', 'where', 'the', 'Presidential', 'Office', 'Building', 'and', 'other', 'government', 'structures', 'are', 'situated', 'is', 'often', 'the', 'site', 'of', 'mass', 'gatherings', 'such', 'as', 'inauguration', 'and', 'national', 'holiday', 'parades', 'receptions', 'for', 'visiting', 'dignitaries', 'political', 'demonstrations', 'and', 'public', 'festivals', 'Garbage', 'recycling', 'Taipei', 'City', 'is', 'also', 'famous', 'for', 'its', 'effort', 'in', 'garbage', 'recycling', 'which', 'has', 'become', 'such', 'a', 'good', 'international', 'precedent', 'that', 'other', 'countries', 'have', 'sent', 'teams', 'to', 'study', 'the', 'recycling', 'system', 'After', 'the', 'Environmental', 'Protection', 'Administration', 'EPA', 'established', 'a', 'program', 'in', 'combining', 'the', 'efforts', 'of', 'communities', 'a', 'financial', 'resource', 'named', 'the', 'Recycling', 'Fund', 'was', 'made', 'available', 'to', 'recycling', 'companies', 'and', 'waste', 'collectors', 'The', 'EPA', 'also', 'introduced', 'garbage', 'recycling', 'trucks', 'in', 'effort', 'to', 'raise', 'community', 'recycling', 'awareness', 'that', 'broadcast', 'classical', 'music', 'specifically', 'Beethoven', 'Für', 'Elise', 'and', 'Tekla', 'A', 'Maiden', 'Prayer', 'to', 'announce', 'its', 'arrival', 'to', 'the', 'community', 'Manufacturers', 'vendors', 'and', 'importers', 'of', 'recyclable', 'waste', 'pay', 'fees', 'to', 'the', 'Fund', 'which', 'uses', 'the', 'money', 'to', 'set', 'firm', 'prices', 'for', 'recyclables', 'and', 'subsidize', 'local', 'recycling', 'efforts', 'Between', 'and', 'the', 'recycling', 'rate', 'increased', 'from', 'percent', 'to', 'percent', 'This', 'improvement', 'enabled', 'the', 'government', 'of', 'Taipei', 'to', 'demonstrate', 'its', 'recycling', 'system', 'to', 'the', 'world', 'at', 'the', 'Shanghai', 'World', 'Expo', 'Administrative', 'divisions', 'Taipei', 'City', 'is', 'divided', 'up', 'into', 'administrative', 'districts', '區', 'qū', 'Each', 'district', 'is', 'further', 'divided', 'up', 'into', 'urban', 'villages', '里', 'which', 'are', 'further', 'up', 'into', 'neighborhoods', '鄰', 'Xinyi', 'District', 'is', 'the', 'seat', 'of', 'the', 'municipality', 'where', 'the', 'Taipei', 'City', 'Government', 'headquarters', 'is', 'located', 'City', 'planning', 'The', 'city', 'is', 'characterized', 'by', 'straight', 'roads', 'and', 'public', 'buildings', 'of', 'grand', 'Western', 'architectural', 'styles', 'The', 'city', 'is', 'built', 'on', 'a', 'square', 'grid', 'configuration', 'however', 'these', 'blocks', 'are', 'huge', 'by', 'international', 'standards', 'with', 'm', 'ft', 'sides', 'The', 'area', 'in', 'between', 'these', 'blocks', 'is', 'infilled', 'with', 'lanes', 'and', 'alleys', 'which', 'provide', 'access', 'to', 'quieter', 'residential', 'or', 'development', 'Other', 'than', 'a', 'citywide', 'mph', 'speed', 'limit', 'there', 'is', 'little', 'uniform', 'planning', 'within', 'this', 'hidden', 'area', 'therefore', 'lanes', 'perpendicular', 'to', 'streets', 'and', 'alleys', 'parallel', 'with', 'streets', 'or', 'conceptually', 'perpendicular', 'to', 'lanes', 'spill', 'out', 'from', 'the', 'main', 'highways', 'These', 'minor', 'roads', 'are', 'not', 'always', 'perpendicular', 'and', 'sometimes', 'cut', 'through', 'the', 'block', 'diagonally', 'Although', 'development', 'began', 'in', 'the', 'western', 'districts', 'of', 'the', 'city', 'still', 'considered', 'the', 'cultural', 'heart', 'of', 'Taipei', 'due', 'to', 'trade', 'the', 'eastern', 'districts', 'have', 'become', 'the', 'focus', 'of', 'recent', 'development', 'projects', 'Many', 'of', 'the', 'western', 'districts', 'have', 'become', 'targets', 'of', 'urban', 'renewal', 'initiatives', 'Transportation', 'Public', 'transport', 'accounts', 'for', 'a', 'substantial', 'portion', 'of', 'different', 'modes', 'of', 'transport', 'in', 'Taiwan', 'with', 'Taipei', 'residents', 'having', 'the', 'highest', 'utilization', 'rate', 'at', 'Private', 'transport', 'consists', 'of', 'motor', 'scooters', 'private', 'cars', 'taxi', 'cabs', 'and', 'bicycles', 'often', 'weave', 'between', 'cars', 'and', 'occasionally', 'through', 'oncoming', 'traffic', 'Respect', 'for', 'traffic', 'laws', 'once', 'scant', 'has', 'improved', 'with', 'deployment', 'of', 'traffic', 'cameras', 'and', 'increasing', 'numbers', 'of', 'police', 'roadblocks', 'checking', 'riders', 'for', 'alcohol', 'consumption', 'and', 'other', 'offenses', 'Taipei', 'Main', 'Station', 'serves', 'as', 'the', 'comprehensive', 'hub', 'for', 'the', 'subway', 'bus', 'conventional', 'rail', 'and', 'rail', 'A', 'contactless', 'smartcard', 'known', 'as', 'EasyCard', 'can', 'be', 'used', 'for', 'all', 'modes', 'of', 'public', 'transit', 'as', 'well', 'as', 'several', 'retail', 'outlets', 'It', 'contains', 'credits', 'that', 'are', 'deducted', 'each', 'time', 'a', 'ride', 'is', 'taken', 'The', 'EasyCard', 'is', 'read', 'via', 'MIFARE', 'panels', 'on', 'buses', 'and', 'in', 'MRT', 'stations', 'and', 'it', 'does', 'not', 'need', 'to', 'be', 'removed', 'from', 'one', 'wallet', 'or', 'purse', 'Metro', 'Taipei', 'public', 'transport', 'system', 'the', 'Taipei', 'Metro', 'commonly', 'referred', 'to', 'as', 'the', 'MRT', 'incorporates', 'a', 'metro', 'and', 'light', 'rail', 'system', 'based', 'on', 'advanced', 'VAL', 'and', 'Bombardier', 'technology', 'There', 'are', 'currently', 'six', 'metro', 'lines', 'that', 'are', 'organized', 'and', 'labeled', 'in', 'three', 'ways', 'by', 'color', 'line', 'number', 'and', 'depot', 'station', 'name', 'In', 'addition', 'to', 'the', 'rapid', 'transit', 'system', 'itself', 'the', 'Taipei', 'Metro', 'also', 'includes', 'several', 'public', 'facilities', 'such', 'as', 'the', 'Maokong', 'Gondola', 'underground', 'shopping', 'malls', 'parks', 'and', 'public', 'squares', 'Modifications', 'to', 'existing', 'railway', 'lines', 'to', 'integrate', 'them', 'into', 'the', 'metro', 'system', 'are', 'underway', 'In', 'a', 'rapid', 'transit', 'line', 'was', 'opened', 'to', 'connect', 'Taipei', 'with', 'Taiwan', 'Taoyuan', 'International', 'Airport', 'and', 'Zhongli', 'District', 'The', 'new', 'line', 'is', 'part', 'of', 'the', 'new', 'Taoyuan', 'Metro', 'system', 'On', 'January', 'Hitachi', 'Rail', 'Corporation', 'officially', 'commissioned', 'Phase', 'of', 'the', 'Circular', 'line', 'which', 'took', 'place', 'at', 'Shisizhang', 'station', 'The', 'Circular', 'line', 'is', 'a', 'km', 'driverless', 'rail', 'system', 'The', 'Circular', 'line', 'offered', 'free', 'rides', 'beginning', 'in', 'February', 'for', 'passengers', 'to', 'test', 'the', 'route', 'Rail', 'Beginning', 'in', 'surface', 'rail', 'lines', 'in', 'the', 'city', 'were', 'moved', 'underground', 'as', 'part', 'of', 'the', 'Taipei', 'Railway', 'Underground', 'Project', 'The', 'Taiwan', 'High', 'Speed', 'Rail', 'system', 'opened', 'in', 'The', 'bullet', 'trains', 'connect', 'Taipei', 'with', 'the', 'west', 'coast', 'cities', 'of', 'New', 'Taipei', 'Taoyuan', 'Hsinchu', 'Taichung', 'Chiayi', 'and', 'Tainan', 'before', 'terminating', 'at', 'Zuoying', 'Kaohsiung', 'at', 'speeds', 'that', 'cut', 'travel', 'times', 'by', 'or', 'more', 'from', 'what', 'they', 'normally', 'are', 'on', 'a', 'bus', 'or', 'conventional', 'train', 'The', 'Taiwan', 'Railways', 'Administration', 'also', 'runs', 'passenger', 'and', 'freight', 'services', 'throughout', 'the', 'entire', 'island', 'Bus', 'An', 'extensive', 'city', 'bus', 'system', 'serves', 'metropolitan', 'areas', 'not', 'covered', 'by', 'the', 'metro', 'with', 'exclusive', 'bus', 'lanes', 'to', 'facilitate', 'transportation', 'Riders', 'of', 'the', 'city', 'metro', 'system', 'are', 'able', 'to', 'use', 'the', 'EasyCard', 'for', 'discounted', 'fares', 'on', 'buses', 'and', 'vice', 'versa', 'A', 'unique', 'feature', 'of', 'the', 'Taipei', 'bus', 'system', 'is', 'the', 'joint', 'venture', 'of', 'private', 'transportation', 'companies', 'that', 'operate', 'the', 'system', 'routes', 'while', 'sharing', 'the', 'fare', 'system', 'This', 'route', 'is', 'in', 'sharp', 'contrast', 'to', 'bus', 'systems', 'in', 'the', 'which', 'are', 'mostly', 'public', 'entities', 'Several', 'major', 'intercity', 'bus', 'terminals', 'are', 'located', 'throughout', 'the', 'city', 'including', 'the', 'Taipei', 'Bus', 'Station', 'and', 'Taipei', 'City', 'Hall', 'Bus', 'Station', 'Airports', 'Most', 'scheduled', 'international', 'flights', 'are', 'served', 'by', 'Taoyuan', 'International', 'Airport', 'in', 'nearby', 'Taoyuan', 'City', 'Taipei', 'Songshan', 'Airport', 'at', 'the', 'heart', 'of', 'the', 'city', 'in', 'the', 'Songshan', 'District', 'serves', 'domestic', 'flights', 'and', 'scheduled', 'flights', 'to', 'Haneda', 'Airport', 'in', 'Tokyo', 'Gimpo', 'International', 'Airport', 'in', 'Seoul', 'and', 'about', 'destinations', 'in', 'the', 'People', 'Republic', 'of', 'China', 'Songshan', 'Airport', 'is', 'accessible', 'by', 'the', 'Taipei', 'Metro', 'Neihu', 'Line', 'Taoyuan', 'International', 'Airport', 'is', 'accessible', 'by', 'the', 'Taoyuan', 'Airport', 'MRT', 'Ticketing', 'In', 'following', 'the', 'rapid', 'development', 'of', 'Taipei', 'a', 'white', 'paper', 'for', 'transport', 'policies', 'expressed', 'the', 'strong', 'objective', 'of', 'creating', 'a', 'transport', 'system', 'for', 'the', 'people', 'of', 'Taipei', 'to', 'accommodate', 'the', 'burgeoning', 'city', 'needs', 'In', 'they', 'chose', 'Mitac', 'consortium', 'which', 'Systems', 'is', 'part', 'of', 'Thales', 'was', 'then', 'selected', 'again', 'in', 'to', 'deploy', 'an', 'upgrade', 'of', 'Taipei', 'public', 'transport', 'network', 'with', 'an', 'and', 'fully', 'contactless', 'automatic', 'fare', 'collection', 'solution', 'that', 'integrates', 'metro', 'stations', 'buses', 'and', 'car', 'parks', 'Education', 'Taipei', 'is', 'home', 'to', 'the', 'campuses', 'of', 'universities', 'and', 'Academia', 'Sinica', 'Taiwan', 'national', 'academy', 'which', 'supports', 'the', 'Taiwan', 'International', 'Graduate', 'Program', 'National', 'Taiwan', 'University', 'NTU', 'or', 'was', 'established', 'in', 'during', 'the', 'period', 'of', 'Japanese', 'colonial', 'rule', 'NTU', 'has', 'produced', 'many', 'political', 'and', 'social', 'leaders', 'in', 'Taiwan', 'Both', 'and', 'movements', 'in', 'Taiwan', 'are', 'rooted', 'on', 'the', 'NTU', 'campus', 'The', 'university', 'has', 'six', 'campuses', 'in', 'the', 'greater', 'Taipei', 'region', 'including', 'New', 'Taipei', 'and', 'two', 'additional', 'campuses', 'in', 'Nantou', 'County', 'The', 'university', 'governs', 'farms', 'forests', 'and', 'hospitals', 'for', 'educational', 'and', 'research', 'purposes', 'The', 'main', 'campus', 'is', 'in', 'Taipei', 'district', 'where', 'most', 'department', 'buildings', 'and', 'all', 'the', 'administrative', 'buildings', 'are', 'located', 'The', 'College', 'of', 'Law', 'and', 'the', 'College', 'of', 'Medicine', 'are', 'located', 'near', 'the', 'Presidential', 'Office', 'Building', 'The', 'National', 'Taiwan', 'University', 'Hospital', 'is', 'a', 'leading', 'international', 'center', 'of', 'medical', 'Taiwan', 'Normal', 'University', 'NTNU', 'or', 'likewise', 'traces', 'its', 'origins', 'to', 'the', 'Japanese', 'colonial', 'period', 'Founded', 'as', 'Taihoku', 'College', 'in', 'and', 'organized', 'as', 'a', 'teacher', 'training', 'institution', 'by', 'the', 'Kuomintang', 'in', 'NTNU', 'has', 'since', 'developed', 'into', 'a', 'comprehensive', 'international', 'university', 'The', 'university', 'boasts', 'especially', 'strong', 'programs', 'in', 'the', 'humanities', 'and', 'international', 'education', 'Worldwide', 'it', 'is', 'perhaps', 'best', 'known', 'as', 'home', 'of', 'the', 'Mandarin', 'Training', 'Center', 'a', 'program', 'that', 'offers', 'Mandarin', 'language', 'training', 'each', 'year', 'to', 'over', 'a', 'thousand', 'students', 'from', 'scores', 'of', 'countries', 'throughout', 'the', 'world', 'The', 'main', 'campus', 'in', 'Taipei', 'Daan', 'district', 'near', 'MRT', 'Guting', 'Station', 'is', 'known', 'for', 'its', 'historic', 'architecture', 'The', 'Shida', 'market', 'area', 'surrounding', 'this', 'campus', 'takes', 'its', 'name', 'from', 'the', 'school', 'acronym', 'Sports', 'Taiwan', 'Chinese', 'Professional', 'Baseball', 'League', 'has', 'a', 'professional', 'baseball', 'team', 'Wei', 'Chuan', 'Dragons', 'based', 'in', 'also', 'has', 'two', 'professional', 'basketball', 'teams', 'the', 'TaiwanBeer', 'HeroBears', 'of', 'the', 'League', 'and', 'the', 'Taipei', 'Fubon', 'Braves', 'of', 'the', 'Major', 'sporting', 'events', 'Below', 'is', 'a', 'selected', 'list', 'of', 'recent', 'sporting', 'events', 'hosted', 'by', 'the', 'city', 'FIFA', 'Futsal', 'World', 'Championship', 'Women', 'Baseball', 'World', 'Cup', 'Baseball', 'World', 'Cup', 'Asian', 'Judo', 'Championships', 'Summer', 'Deaflympics', 'Badminton', 'Asia', 'Championships', 'WBSC', 'IIHF', 'Women', 'Challenge', 'Cup', 'of', 'Asia', 'Division', 'I', 'Summer', 'Universiade', 'Asian', 'Men', 'Club', 'Volleyball', 'Championship', 'Baseball', 'World', 'Cup', 'with', 'Taichung', 'and', 'Yunlin', 'Summer', 'World', 'Masters', 'Games', 'with', 'New', 'Taipei', 'City', 'Taipei', 'Marathon', 'annual', 'The', 'marathon', 'is', 'one', 'of', 'the', 'two', 'World', 'Athletics', 'Label', 'Road', 'Races', 'in', 'Taiwan', 'being', 'categorized', 'as', 'a', 'Bronze', 'Label', 'Road', 'Race', 'The', 'other', 'race', 'is', 'the', 'New', 'Taipei', 'City', 'Wan', 'Jin', 'Shi', 'Marathon', 'categorized', 'as', 'a', 'Silver', 'Label', 'Road', 'Taipei', 'Arena', 'is', 'located', 'at', 'the', 'site', 'of', 'the', 'former', 'Taipei', 'Municipal', 'Baseball', 'Stadium', 'demolished', 'in', 'with', 'a', 'capacity', 'of', 'over', 'It', 'was', 'opened', 'on', 'December', 'and', 'has', 'since', 'held', 'more', 'art', 'and', 'cultural', 'activities', 'such', 'as', 'live', 'concerts', 'than', 'sporting', 'events', 'which', 'it', 'was', 'originally', 'designed', 'for', 'The', 'Chinese', 'Taipei', 'Ice', 'Hockey', 'League', 'plays', 'out', 'of', 'the', 'auxiliary', 'arena', 'Tianmu', 'Baseball', 'Stadium', 'is', 'the', 'major', 'baseball', 'venue', 'in', 'Taipei', 'Taipei', 'Municipal', 'Stadium', 'is', 'a', 'multipurpose', 'stadium', 'that', 'hosts', 'football', 'and', 'track', 'and', 'field', 'events', 'as', 'well', 'as', 'concerts', 'both', 'live', 'and', 'prerecorded', 'Originally', 'built', 'in', 'it', 'was', 'demolished', 'and', 'reconstructed', 'in', 'The', 'Taipei', 'Dome', 'which', 'has', 'the', 'capacity', 'to', 'house', 'seats', 'is', 'estimated', 'to', 'finish', 'construction', 'by', 'the', 'end', 'of', 'Youth', 'baseball', 'In', 'a', 'Taipei', 'baseball', 'Junior', 'Little', 'the', 'Junior', 'League', 'World', 'Series', 'The', 'achievement', 'came', 'after', 'winning', 'the', 'Region', 'then', 'defeating', 'the', 'Mexico', 'Region', 'and', 'Latin', 'America', 'Region', 'champions', 'to', 'become', 'the', 'International', 'champion', 'and', 'finally', 'defeating', 'the', 'champion', 'Southwest', 'Region', 'Rose', 'Capital', 'East', 'LL', 'Tyler', 'Texas', 'Taiwan', 'Little', 'League', 'World', 'Series', 'international', 'team', 'has', 'won', 'championships', 'the', 'most', 'wins', 'in', 'the', 'league', 'Media', 'As', 'the', 'capital', 'Taipei', 'City', 'is', 'the', 'headquarters', 'for', 'many', 'television', 'and', 'radio', 'stations', 'in', 'Taiwan', 'and', 'the', 'center', 'of', 'some', 'of', 'the', 'country', 'largest', 'newspapers', 'Television', 'Television', 'stations', 'located', 'in', 'Taipei', 'include', 'the', 'CTS', 'Education', 'and', 'Culture', 'CTS', 'Recreation', 'CTV', 'MyLife', 'CTV', 'News', 'Channel', 'China', 'Television', 'Chinese', 'Television', 'System', 'Chung', 'Television', 'Dimo', 'TV', 'Eastern', 'Television', 'Era', 'Television', 'FTV', 'News', 'Follow', 'Me', 'TV', 'Formosa', 'TV', 'Gala', 'Television', 'Public', 'Television', 'Service', 'SET', 'Metro', 'SET', 'News', 'SET', 'Taiwan', 'Sanlih', 'Shuang', 'Xing', 'TTV', 'Family', 'TTV', 'Finance', 'TTV', 'World', 'TVBS', 'Taiwan', 'Broadcasting', 'System', 'Videoland', 'Television', 'Network', 'and', 'Taiwan', 'Television', 'Newspapers', 'Newspapers', 'include', 'Apple', 'Daily', 'Central', 'Daily', 'News', 'The', 'China', 'Post', 'China', 'Times', 'DigiTimes', 'Kinmen', 'Daily', 'News', 'Liberty', 'Times', 'Mandarin', 'Daily', 'News', 'Matsu', 'Daily', 'Min', 'Sheng', 'Bao', 'Sharp', 'Daily', 'Taipei', 'Times', 'Taiwan', 'Daily', 'Taiwan', 'News', 'Taiwan', 'Times', 'and', 'United', 'Daily', 'News', 'International', 'relations', 'Taipei', 'is', 'a', 'member', 'of', 'the', 'Asian', 'Network', 'of', 'Major', 'Cities', 'Twin', 'towns', 'and', 'sister', 'cities', 'Taipei', 'is', 'twinned', 'with', 'United', 'States', 'Outside', 'United', 'States', 'Partner', 'cities', 'Anchorage', 'AK', 'United', 'States', 'Yokohama', 'Kanagawa', 'Japan', 'Wellington', 'New', 'Zealand', 'Friendship', 'cities', 'Perth', 'Western', 'Australia', 'Australia', 'South', 'Korea', 'Orange', 'County', 'CA', 'United', 'States', 'George', 'Town', 'Penang', 'Malaysia', 'Helsinki', 'Finland', 'In', 'popular', 'culture', 'Taipei', 'name', 'is', 'used', 'in', 'a', 'professional', 'wrestling', 'match', 'named', 'the', 'Taipei', 'Deathmatch', 'in', 'which', 'the', 'wrestlers', 'fists', 'are', 'taped', 'and', 'dipped', 'into', 'glue', 'and', 'in', 'broken', 'and', 'crushed', 'glass', 'allowing', 'shards', 'to', 'stick', 'to', 'their', 'fists', 'This', 'match', 'can', 'be', 'won', 'by', 'pinfall', 'submission', 'or', 'escape', 'Writer', 'Tao', 'Lin', 'novel', 'is', 'titled', 'Taipei', 'and', 'takes', 'place', 'in', 'both', 'New', 'York', 'City', 'and', 'Taipei', 'where', 'the', 'protagonist', 'Paul', 'parents', 'were', 'born', 'and', 'live', 'In', 'the', 'novel', 'the', 'character', 'named', 'Paul', 'gets', 'married', 'and', 'then', 'visits', 'Taipei', 'with', 'his', 'new', 'wife', 'They', 'take', 'MDMA', 'and', 'LSD', 'and', 'film', 'a', 'mock', 'documentary', 'on', 'Taiwan', 'first', 'McDonald', 'The', 'novel', 'was', 'made', 'into', 'a', 'movie', 'titled', 'High', 'Resolution', 'starring', 'Justin', 'Chon', 'and', 'Ellie', 'Bamber', 'Gallery', 'See', 'also', 'Metropolitan', 'Area', 'List', 'of', 'districts', 'of', 'Taipei', 'by', 'area', 'List', 'of', 'districts', 'of', 'Taipei', 'by', 'population', 'List', 'of', 'districts', 'of', 'Taipei', 'by', 'population', 'density', 'List', 'of', 'schools', 'in', 'Taipei', 'Taipei', 'Community', 'Services', 'Center', 'offers', 'support', 'services', 'to', 'the', 'international', 'community', 'Notes', 'Words', 'in', 'native', 'languages', 'Other', 'References', 'Further', 'reading', 'Li', 'Jie', 'Xingjian', 'Liu', 'Jianzheng', 'Liu', 'Weifeng', 'Li', 'June', 'City', 'profile', 'Taipei', 'Cities', 'External', 'links', 'Official', 'website', 'Taipei', 'City', 'Council', 'Geographic', 'data', 'related', 'to', 'Taipei', 'at', 'OpenStreetMap']\n"
          ]
        }
      ]
    },
    {
      "cell_type": "markdown",
      "source": [
        "### Remove Stopwords\n",
        "載入NLTK套件中的英文stopwords"
      ],
      "metadata": {
        "id": "N7CtPkPNrttf"
      }
    },
    {
      "cell_type": "code",
      "source": [
        "tokens = nltk_tokenize\n",
        "tokens = remove_punc2(tokens)"
      ],
      "metadata": {
        "id": "OkJ-hU_tuAHH"
      },
      "execution_count": 20,
      "outputs": []
    },
    {
      "cell_type": "code",
      "source": [
        "# load english stopwords from NLTK\n",
        "import nltk\n",
        "from nltk.corpus import stopwords\n",
        "\n",
        "nltk.download(\"stopwords\")\n",
        "stopword_list = stopwords.words('english')\n",
        "\n",
        "print(stopword_list)"
      ],
      "metadata": {
        "colab": {
          "base_uri": "https://localhost:8080/"
        },
        "id": "XHglj7YurTbW",
        "outputId": "f000eccf-44ba-4764-dde4-256e61e5d6f8"
      },
      "execution_count": 21,
      "outputs": [
        {
          "output_type": "stream",
          "name": "stdout",
          "text": [
            "['i', 'me', 'my', 'myself', 'we', 'our', 'ours', 'ourselves', 'you', \"you're\", \"you've\", \"you'll\", \"you'd\", 'your', 'yours', 'yourself', 'yourselves', 'he', 'him', 'his', 'himself', 'she', \"she's\", 'her', 'hers', 'herself', 'it', \"it's\", 'its', 'itself', 'they', 'them', 'their', 'theirs', 'themselves', 'what', 'which', 'who', 'whom', 'this', 'that', \"that'll\", 'these', 'those', 'am', 'is', 'are', 'was', 'were', 'be', 'been', 'being', 'have', 'has', 'had', 'having', 'do', 'does', 'did', 'doing', 'a', 'an', 'the', 'and', 'but', 'if', 'or', 'because', 'as', 'until', 'while', 'of', 'at', 'by', 'for', 'with', 'about', 'against', 'between', 'into', 'through', 'during', 'before', 'after', 'above', 'below', 'to', 'from', 'up', 'down', 'in', 'out', 'on', 'off', 'over', 'under', 'again', 'further', 'then', 'once', 'here', 'there', 'when', 'where', 'why', 'how', 'all', 'any', 'both', 'each', 'few', 'more', 'most', 'other', 'some', 'such', 'no', 'nor', 'not', 'only', 'own', 'same', 'so', 'than', 'too', 'very', 's', 't', 'can', 'will', 'just', 'don', \"don't\", 'should', \"should've\", 'now', 'd', 'll', 'm', 'o', 're', 've', 'y', 'ain', 'aren', \"aren't\", 'couldn', \"couldn't\", 'didn', \"didn't\", 'doesn', \"doesn't\", 'hadn', \"hadn't\", 'hasn', \"hasn't\", 'haven', \"haven't\", 'isn', \"isn't\", 'ma', 'mightn', \"mightn't\", 'mustn', \"mustn't\", 'needn', \"needn't\", 'shan', \"shan't\", 'shouldn', \"shouldn't\", 'wasn', \"wasn't\", 'weren', \"weren't\", 'won', \"won't\", 'wouldn', \"wouldn't\"]\n"
          ]
        },
        {
          "output_type": "stream",
          "name": "stderr",
          "text": [
            "[nltk_data] Downloading package stopwords to /root/nltk_data...\n",
            "[nltk_data]   Unzipping corpora/stopwords.zip.\n"
          ]
        }
      ]
    },
    {
      "cell_type": "code",
      "source": [
        "# remove\n",
        "\n",
        "def remove_stopwords(tokens):\n",
        "  tokens_list = []\n",
        "  for tok in tokens:\n",
        "    if tok not in stopword_list:\n",
        "      tokens_list.append(tok)\n",
        "  return tokens_list\n",
        "\n",
        "print(len(remove_stopwords(tokens)))\n",
        "print(remove_stopwords(tokens)[:50])"
      ],
      "metadata": {
        "colab": {
          "base_uri": "https://localhost:8080/"
        },
        "id": "r5yiYsJCtE_h",
        "outputId": "a9e7e5a5-59c3-4358-9f71-f080fb033a25"
      },
      "execution_count": 22,
      "outputs": [
        {
          "output_type": "stream",
          "name": "stdout",
          "text": [
            "4406\n",
            "['Taipei', 'officially', 'Taipei', 'City', 'capital', 'special', 'municipality', 'Republic', 'China', 'Taiwan', 'Located', 'Northern', 'Taiwan', 'Taipei', 'City', 'enclave', 'municipality', 'New', 'Taipei', 'City', 'sits', 'km', 'mi', 'southwest', 'northern', 'port', 'city', 'Keelung', 'Most', 'city', 'rests', 'Taipei', 'Basin', 'ancient', 'lakebed', 'The', 'basin', 'bounded', 'relatively', 'narrow', 'valleys', 'Keelung', 'Xindian', 'rivers', 'join', 'form', 'Tamsui', 'River', 'along', 'city']\n"
          ]
        }
      ]
    },
    {
      "cell_type": "code",
      "source": [
        "from collections import Counter\n",
        "tokens = remove_stopwords(tokens)\n",
        "word_count = Counter(tokens)\n",
        "for w, c in word_count.most_common(10):\n",
        "  print(\"%s\\t%d\" % (w, c))"
      ],
      "metadata": {
        "colab": {
          "base_uri": "https://localhost:8080/"
        },
        "id": "PaHZsjWuti6P",
        "outputId": "08f7cbb2-eae0-4955-b535-ec56e5c42457"
      },
      "execution_count": 23,
      "outputs": [
        {
          "output_type": "stream",
          "name": "stdout",
          "text": [
            "Taipei\t171\n",
            "The\t94\n",
            "Taiwan\t71\n",
            "city\t61\n",
            "City\t26\n",
            "also\t24\n",
            "District\t22\n",
            "area\t21\n",
            "In\t20\n",
            "population\t19\n"
          ]
        }
      ]
    },
    {
      "cell_type": "markdown",
      "source": [
        "## Stemming and Lemmatization\n",
        "* 處理英文文本中，同一個單詞的拼法上可能隨著時態、單複數、主被動而不同之問題\n",
        "* 將不同的形態歸一化，降低複雜度同時加快語言模型訓練速度\n",
        "\n",
        "\n",
        "---\n",
        "\n",
        "1.  **Stemming** ：Snowball algorithm\n",
        "2.  **Lemmatization** \n",
        "：還原字的原型(通常較stemming精準)"
      ],
      "metadata": {
        "id": "hExff6jXGF7o"
      }
    },
    {
      "cell_type": "markdown",
      "source": [
        "### Stemming: Snowball algorithm\n",
        "\n",
        "Reference: http://snowball.tartarus.org/texts/introduction.html\n",
        "\n",
        "`from nltk.stem.snowball import SnowballStemmer`\n",
        "\n",
        "缺點：可能會有overstemming的問題"
      ],
      "metadata": {
        "id": "ewOedXw-vVCn"
      }
    },
    {
      "cell_type": "code",
      "source": [
        "tokens = remove_stopwords(tokens)"
      ],
      "metadata": {
        "id": "a1HDlQOGv4P0"
      },
      "execution_count": 24,
      "outputs": []
    },
    {
      "cell_type": "code",
      "source": [
        "from nltk.stem.snowball import SnowballStemmer\n",
        "snowball_stemmer = SnowballStemmer(\"english\")\n",
        "\n",
        "stemmed_tokens = []\n",
        "for tok in tokens:\n",
        "  stemmed_tokens.append(snowball_stemmer.stem(tok))\n",
        "\n",
        "word_count = Counter(stemmed_tokens)\n",
        "\n",
        "for w, c in word_count.most_common(20):\n",
        "  print(\"%s\\t%d\" % (w, c))"
      ],
      "metadata": {
        "colab": {
          "base_uri": "https://localhost:8080/"
        },
        "id": "g3djuv0mtwmM",
        "outputId": "09158261-644e-4b85-b779-9e1a1c944926"
      },
      "execution_count": 25,
      "outputs": [
        {
          "output_type": "stream",
          "name": "stdout",
          "text": [
            "taipei\t171\n",
            "citi\t102\n",
            "the\t94\n",
            "taiwan\t71\n",
            "district\t42\n",
            "area\t28\n",
            "intern\t27\n",
            "nation\t26\n",
            "templ\t26\n",
            "includ\t25\n",
            "world\t25\n",
            "new\t24\n",
            "also\t24\n",
            "popul\t22\n",
            "build\t21\n",
            "locat\t20\n",
            "center\t20\n",
            "museum\t20\n",
            "in\t20\n",
            "system\t20\n"
          ]
        }
      ]
    },
    {
      "cell_type": "markdown",
      "source": [
        "## Lemmatization\n",
        "還原字的原型，精準度比stemming高"
      ],
      "metadata": {
        "id": "Fhs-RHeoxvI4"
      }
    },
    {
      "cell_type": "code",
      "source": [
        "import nltk\n",
        "nltk.download('wordnet')\n",
        "nltk.download('omw-1.4')\n",
        "\n",
        "from nltk.stem import WordNetLemmatizer\n",
        "wordnet_lemmatizer = WordNetLemmatizer()\n",
        "\n",
        "def lemmatize(token):\n",
        "  # ADJ (a), ADJ_SAT (s), ADV (r), NOUN (n) or VERB (v)\n",
        "  for p in ['v', 'n', 'a', 'r', 's']:\n",
        "    l = wordnet_lemmatizer.lemmatize(token, pos=p)\n",
        "    if l != token:\n",
        "      return l\n",
        "  return token\n",
        "\n",
        "print(lemmatize('Dogs'))\n",
        "print(lemmatize('dogs'))\n",
        "print(lemmatize('hits'))"
      ],
      "metadata": {
        "colab": {
          "base_uri": "https://localhost:8080/"
        },
        "id": "6b7GZlBhxuAZ",
        "outputId": "d34e830d-5ab4-4eb8-9929-d6d57f88dddf"
      },
      "execution_count": 26,
      "outputs": [
        {
          "output_type": "stream",
          "name": "stdout",
          "text": [
            "Dogs\n",
            "dog\n",
            "hit\n"
          ]
        },
        {
          "output_type": "stream",
          "name": "stderr",
          "text": [
            "[nltk_data] Downloading package wordnet to /root/nltk_data...\n",
            "[nltk_data]   Package wordnet is already up-to-date!\n",
            "[nltk_data] Downloading package omw-1.4 to /root/nltk_data...\n",
            "[nltk_data]   Package omw-1.4 is already up-to-date!\n"
          ]
        }
      ]
    },
    {
      "cell_type": "markdown",
      "source": [
        "show differences between stemming and lemmatization → lemmatization is better."
      ],
      "metadata": {
        "id": "TubAGIdkzJN2"
      }
    },
    {
      "cell_type": "code",
      "source": [
        "print(\"words \\t Stemming \\t Lemmatization\")\n",
        "for w in [\n",
        "    'open', 'opens', 'opened', 'opening', 'unopened',\n",
        "    'talk', 'talks', 'talked', 'talking',\n",
        "    'decompose', 'decomposes', 'decomposed', 'decomposing',\n",
        "    'do', 'does', 'did', \n",
        "    'wrote', 'written', 'ran', 'gave', 'held', 'went', 'gone',\n",
        "    'lied', 'lies', 'lay', 'lain', 'lying', \n",
        "    'cats', 'people', 'feet', 'women', 'smoothly', 'firstly', 'secondly', \n",
        "    ]:\n",
        "    s = snowball_stemmer.stem(w)\n",
        "    l = lemmatize(w)\n",
        "    if s != l:\n",
        "        print(\"%s\\t%s\\t%s\" % (w, s, l))"
      ],
      "metadata": {
        "colab": {
          "base_uri": "https://localhost:8080/"
        },
        "id": "U0Q_6M11y1GO",
        "outputId": "e6e17c2d-9911-42f2-a272-5ceecc3ab649"
      },
      "execution_count": 27,
      "outputs": [
        {
          "output_type": "stream",
          "name": "stdout",
          "text": [
            "words \t Stemming \t Lemmatization\n",
            "unopened\tunopen\tunopened\n",
            "decompose\tdecompos\tdecompose\n",
            "decomposes\tdecompos\tdecompose\n",
            "decomposed\tdecompos\tdecompose\n",
            "decomposing\tdecompos\tdecompose\n",
            "does\tdoe\tdo\n",
            "did\tdid\tdo\n",
            "wrote\twrote\twrite\n",
            "written\twritten\twrite\n",
            "ran\tran\trun\n",
            "gave\tgave\tgive\n",
            "held\theld\thold\n",
            "went\twent\tgo\n",
            "gone\tgone\tgo\n",
            "lain\tlain\tlie\n",
            "people\tpeopl\tpeople\n",
            "feet\tfeet\tfoot\n",
            "women\twomen\twoman\n",
            "smoothly\tsmooth\tsmoothly\n",
            "firstly\tfirst\tfirstly\n",
            "secondly\tsecond\tsecondly\n"
          ]
        }
      ]
    },
    {
      "cell_type": "code",
      "source": [
        "tokens = remove_stopwords(tokens)\n",
        "lemmatized_tokens = []\n",
        "for tok in tokens:\n",
        "    lemmatized_tokens.append(lemmatize(tok))\n",
        "word_count = Counter(lemmatized_tokens)\n",
        "\n",
        "for w, c in word_count.most_common(20):\n",
        "  print(\"%s\\t%d\" % (w, c))"
      ],
      "metadata": {
        "colab": {
          "base_uri": "https://localhost:8080/"
        },
        "id": "pkAXrleqzTft",
        "outputId": "2e82e1c7-1f83-4ab4-f40f-ed6afffc6782"
      },
      "execution_count": 28,
      "outputs": [
        {
          "output_type": "stream",
          "name": "stdout",
          "text": [
            "Taipei\t171\n",
            "The\t94\n",
            "city\t72\n",
            "Taiwan\t71\n",
            "area\t27\n",
            "City\t26\n",
            "include\t25\n",
            "also\t24\n",
            "District\t22\n",
            "build\t20\n",
            "district\t20\n",
            "In\t20\n",
            "population\t19\n",
            "Japanese\t18\n",
            "National\t18\n",
            "international\t18\n",
            "Chinese\t17\n",
            "system\t17\n",
            "know\t15\n",
            "center\t15\n"
          ]
        }
      ]
    },
    {
      "cell_type": "markdown",
      "source": [
        "## Applications: WordClund 文字雲\n",
        "將字串以空白隔開後製作成文字雲\n",
        "https://www.jasondavies.com/wordcloud/"
      ],
      "metadata": {
        "id": "2MHt19_Qz3Bb"
      }
    },
    {
      "cell_type": "code",
      "source": [
        "repeated_tokens = []\n",
        "for w, c in word_count.most_common():\n",
        "  for i in range(c):\n",
        "    repeated_tokens.append(w)\n",
        "\n",
        "print(\" \".join(repeated_tokens))"
      ],
      "metadata": {
        "colab": {
          "base_uri": "https://localhost:8080/"
        },
        "id": "oNDNOFlEz9hf",
        "outputId": "e68576f0-1cf1-46f3-dde2-07be512cf388"
      },
      "execution_count": 29,
      "outputs": [
        {
          "output_type": "stream",
          "name": "stdout",
          "text": [
            "Taipei Taipei Taipei Taipei Taipei Taipei Taipei Taipei Taipei Taipei Taipei Taipei Taipei Taipei Taipei Taipei Taipei Taipei Taipei Taipei Taipei Taipei Taipei Taipei Taipei Taipei Taipei Taipei Taipei Taipei Taipei Taipei Taipei Taipei Taipei Taipei Taipei Taipei Taipei Taipei Taipei Taipei Taipei Taipei Taipei Taipei Taipei Taipei Taipei Taipei Taipei Taipei Taipei Taipei Taipei Taipei Taipei Taipei Taipei Taipei Taipei Taipei Taipei Taipei Taipei Taipei Taipei Taipei Taipei Taipei Taipei Taipei Taipei Taipei Taipei Taipei Taipei Taipei Taipei Taipei Taipei Taipei Taipei Taipei Taipei Taipei Taipei Taipei Taipei Taipei Taipei Taipei Taipei Taipei Taipei Taipei Taipei Taipei Taipei Taipei Taipei Taipei Taipei Taipei Taipei Taipei Taipei Taipei Taipei Taipei Taipei Taipei Taipei Taipei Taipei Taipei Taipei Taipei Taipei Taipei Taipei Taipei Taipei Taipei Taipei Taipei Taipei Taipei Taipei Taipei Taipei Taipei Taipei Taipei Taipei Taipei Taipei Taipei Taipei Taipei Taipei Taipei Taipei Taipei Taipei Taipei Taipei Taipei Taipei Taipei Taipei Taipei Taipei Taipei Taipei Taipei Taipei Taipei Taipei Taipei Taipei Taipei Taipei Taipei Taipei Taipei Taipei Taipei Taipei Taipei Taipei The The The The The The The The The The The The The The The The The The The The The The The The The The The The The The The The The The The The The The The The The The The The The The The The The The The The The The The The The The The The The The The The The The The The The The The The The The The The The The The The The The The The The The The The The The The The The The city city city city city city city city city city city city city city city city city city city city city city city city city city city city city city city city city city city city city city city city city city city city city city city city city city city city city city city city city city city city city city city city city city city city city city city city Taiwan Taiwan Taiwan Taiwan Taiwan Taiwan Taiwan Taiwan Taiwan Taiwan Taiwan Taiwan Taiwan Taiwan Taiwan Taiwan Taiwan Taiwan Taiwan Taiwan Taiwan Taiwan Taiwan Taiwan Taiwan Taiwan Taiwan Taiwan Taiwan Taiwan Taiwan Taiwan Taiwan Taiwan Taiwan Taiwan Taiwan Taiwan Taiwan Taiwan Taiwan Taiwan Taiwan Taiwan Taiwan Taiwan Taiwan Taiwan Taiwan Taiwan Taiwan Taiwan Taiwan Taiwan Taiwan Taiwan Taiwan Taiwan Taiwan Taiwan Taiwan Taiwan Taiwan Taiwan Taiwan Taiwan Taiwan Taiwan Taiwan Taiwan Taiwan area area area area area area area area area area area area area area area area area area area area area area area area area area area City City City City City City City City City City City City City City City City City City City City City City City City City City include include include include include include include include include include include include include include include include include include include include include include include include include also also also also also also also also also also also also also also also also also also also also also also also also District District District District District District District District District District District District District District District District District District District District District District build build build build build build build build build build build build build build build build build build build build district district district district district district district district district district district district district district district district district district district district In In In In In In In In In In In In In In In In In In In In population population population population population population population population population population population population population population population population population population population Japanese Japanese Japanese Japanese Japanese Japanese Japanese Japanese Japanese Japanese Japanese Japanese Japanese Japanese Japanese Japanese Japanese Japanese National National National National National National National National National National National National National National National National National National international international international international international international international international international international international international international international international international international international Chinese Chinese Chinese Chinese Chinese Chinese Chinese Chinese Chinese Chinese Chinese Chinese Chinese Chinese Chinese Chinese Chinese system system system system system system system system system system system system system system system system system know know know know know know know know know know know know know know know center center center center center center center center center center center center center center center world world world world world world world world world world world world world world world Temple Temple Temple Temple Temple Temple Temple Temple Temple Temple Temple Temple Temple Temple Temple China China China China China China China China China China China China China China locate locate locate locate locate locate locate locate locate locate locate locate locate locate part part part part part part part part part part part part part government government government government government government government government government government government government government capital capital capital capital capital capital capital capital capital capital capital capital municipality municipality municipality municipality municipality municipality municipality municipality municipality municipality municipality municipality New New New New New New New New New New New New name name name name name name name name name name name name one one one one one one one one one one one one new new new new new new new new new new new new year year year year year year year year year year year year become become become become become become become become become become become bus bus bus bus bus bus bus bus bus bus bus Hall Hall Hall Hall Hall Hall Hall Hall Hall Hall Hall Museum Museum Museum Museum Museum Museum Museum Museum Museum Museum Museum event event event event event event event event event event event many many many many many many many many many many many public public public public public public public public public public public Park Park Park Park Park Park Park Park Park Park Park Television Television Television Television Television Television Television Television Television Television Television home home home home home home home home home home rule rule rule rule rule rule rule rule rule rule line line line line line line line line line line well well well well well well well well well well development development development development development development development development development development take take take take take take take take take take popular popular popular popular popular popular popular popular popular popular stand stand stand stand stand stand stand stand stand stand World World World World World World World World World World since since since since since since since since since Asia Asia Asia Asia Asia Asia Asia Asia Asia serve serve serve serve serve serve serve serve serve two two two two two two two two two Office Office Office Office Office Office Office Office Office It It It It It It It It It Taihoku Taihoku Taihoku Taihoku Taihoku Taihoku Taihoku Taihoku Taihoku house house house house house house house house house large large large large large large large large large high high high high high high high high high US US US US US US US US US museum museum museum museum museum museum museum museum museum open open open open open open open open open temple temple temple temple temple temple temple temple temple recycle recycle recycle recycle recycle recycle recycle recycle recycle Republic Republic Republic Republic Republic Republic Republic Republic Basin Basin Basin Basin Basin Basin Basin Basin island island island island island island island island major major major major major major major major Songshan Songshan Songshan Songshan Songshan Songshan Songshan Songshan Taoyuan Taoyuan Taoyuan Taoyuan Taoyuan Taoyuan Taoyuan Taoyuan Chiang Chiang Chiang Chiang Chiang Chiang Chiang Chiang Memorial Memorial Memorial Memorial Memorial Memorial Memorial Memorial Kong Kong Kong Kong Kong Kong Kong Kong shop shop shop shop shop shop shop shop increase increase increase increase increase increase increase increase establish establish establish establish establish establish establish establish Kuomintang Kuomintang Kuomintang Kuomintang Kuomintang Kuomintang Kuomintang Kuomintang business business business business business business business business foreign foreign foreign foreign foreign foreign foreign foreign hold hold hold hold hold hold hold hold art art art art art art art art host host host host host host host host International International International International International International International International Airport Airport Airport Airport Airport Airport Airport Airport News News News News News News News News Daily Daily Daily Daily Daily Daily Daily Daily metro metro metro metro metro metro metro first first first first first first first national national national national national national national Presidential Presidential Presidential Presidential Presidential Presidential Presidential Building Building Building Building Building Building Building several several several several several several several Yangmingshan Yangmingshan Yangmingshan Yangmingshan Yangmingshan Yangmingshan Yangmingshan Taipeh Taipeh Taipeh Taipeh Taipeh Taipeh Taipeh base base base base base base base December December December December December December December place place place place place place place million million million million million million million design design design design design design design technology technology technology technology technology technology technology Xinyi Xinyi Xinyi Xinyi Xinyi Xinyi Xinyi famous famous famous famous famous famous famous collection collection collection collection collection collection collection concert concert concert concert concert concert concert Metro Metro Metro Metro Metro Metro Metro festival festival festival festival festival festival festival transport transport transport transport transport transport transport campus campus campus campus campus campus campus northern northern northern northern northern northern Most Most Most Most Most Most political political political political political political seat seat seat seat seat seat ROC ROC ROC ROC ROC ROC cultural cultural cultural cultural cultural cultural landmark landmark landmark landmark landmark landmark tourist tourist tourist tourist tourist tourist feature feature feature feature feature feature visitor visitor visitor visitor visitor visitor country country country country country country number number number number number number begin begin begin begin begin begin incorporate incorporate incorporate incorporate incorporate incorporate Prefecture Prefecture Prefecture Prefecture Prefecture Prefecture make make make make make make Japan Japan Japan Japan Japan Japan A A A A A A period period period period period period As As As As As As follow follow follow follow follow follow time time time time time time small small small small small small air air air air air air local local local local local local Shilin Shilin Shilin Shilin Shilin Shilin around around around around around around ft ft ft ft ft ft near near near near near near people people people people people people community community community community community community financial financial financial financial financial financial This This This This This This station station station station station station Baseball Baseball Baseball Baseball Baseball Baseball Keelung Keelung Keelung Keelung Keelung Tamsui Tamsui Tamsui Tamsui Tamsui western western western western western urban urban urban urban urban Taiwanese Taiwanese Taiwanese Taiwanese Taiwanese Qing Qing Qing Qing Qing economic economic economic economic economic Palace Palace Palace Palace Palace throughout throughout throughout throughout throughout often often often often often use use use use use sport sport sport sport sport declare declare declare declare declare institution institution institution institution institution defeat defeat defeat defeat defeat force force force force force County County County County County gate gate gate gate gate architecture architecture architecture architecture architecture expand expand expand expand expand rank rank rank rank rank main main main main main Asian Asian Asian Asian Asian recent recent recent recent recent rapid rapid rapid rapid rapid rate rate rate rate rate end end end end end economy economy economy economy economy Times Times Times Times Times company company company company company office office office office office train train train train train site site site site site structure structure structure structure structure park park park park park offer offer offer offer offer mall mall mall mall mall Other Other Other Other Other venue venue venue venue venue Zhongshan Zhongshan Zhongshan Zhongshan Zhongshan Center Center Center Center Center Station Station Station Station Station Road Road Road Road Road Festival Festival Festival Festival Festival rail rail rail rail rail university university university university university League League League League League United United United United United special special special special form form form form River River River River along along along along metropolitan metropolitan metropolitan metropolitan live live live live Province Province Province Province central central central central provincial provincial provincial provincial former former former former tall tall tall tall attraction attraction attraction attraction Ximending Ximending Ximending Ximending market market market market Han Han Han Han region region region region character character character character remain remain remain remain extensive extensive extensive extensive program program program program plan plan plan plan elect elect elect elect settlement settlement settlement settlement due due due due especially especially especially especially administrative administrative administrative administrative Bangka Bangka Bangka Bangka north north north north south south south south Government Government Government Government among among among among surround surround surround surround February February February February lead lead lead lead Beitou Beitou Beitou Beitou within within within within election election election election Mountain Mountain Mountain Mountain Mt Mt Mt Mt Datun Datun Datun Datun temperature temperature temperature temperature adjacent adjacent adjacent adjacent billion billion billion billion Bank Bank Bank Bank headquarter headquarter headquarter headquarter set set set set Shin Shin Shin Shin Shan Shan Shan Shan skyscraper skyscraper skyscraper skyscraper announce announce announce announce visit visit visit visit Square Square Square Square Liberty Liberty Liberty Liberty road road road road complete complete complete complete title title title title Market Market Market Market street street street street film film film film store store store store University University University University Day Day Day Day Summer Summer Summer Summer effort effort effort effort team team team team lane lane lane lane MRT MRT MRT MRT baseball baseball baseball baseball Cup Cup Cup Cup Region Region Region Region States States States States List List List List officially officially officially Located Located Located sit sit sit km km km mi mi mi rest rest rest ancient ancient ancient relatively relatively relatively nearby nearby nearby refer refer refer dynasty dynasty dynasty July July July educational educational educational hub hub hub East East East global global global connect connect connect architectural architectural architectural Dalongdong Dalongdong Dalongdong Lungshan Lungshan Lungshan night night night hot hot hot term term term romanize romanize romanize significant significant significant colonist colonist colonist aborigine aborigine aborigine early early early century century century formerly formerly formerly Empire Empire Empire annex annex annex read read read control control control After After After move move move democracy democracy democracy late late late overseas overseas overseas trade trade trade historical historical historical west west west demolish demolish demolish east east east language language language village village village Party Party Party result result result continue continue continue decade decade decade Yuan Yuan Yuan Neihu Neihu Neihu total total total town town town Although Although Although densely densely densely populate populate populate schedule schedule schedule generally generally generally Qixing Qixing Qixing limit limit limit cover cover cover peak peak peak mountain mountain mountain These These These contain contain contain typhoon typhoon typhoon winter winter winter High High High location location location strong strong strong pollution pollution pollution There There There neighborhood neighborhood neighborhood education education education per per per GDP GDP GDP behind behind behind Tokyo Tokyo Tokyo Financial Financial Financial Cities Cities Cities service service service firm firm firm Fubon Fubon Fubon Google Google Google Life Life Life startup startup startup artificial artificial artificial intelligence intelligence intelligence develop develop develop Culture Culture Culture Theater Theater Theater Zhongzheng Zhongzheng Zhongzheng old old old found found found colonial colonial colonial trace trace trace divide divide divide display display display organize organize organize Sun Sun Sun exhibit exhibit exhibit six six six outdoor outdoor outdoor Year Year Year firework firework firework Night Night Night three three three historic historic historic cinema cinema cinema movie movie movie restaurant restaurant restaurant Guang Guang Guang accessible accessible accessible Wanhua Wanhua Wanhua example example example southern southern southern commonly commonly commonly shrine shrine shrine Many Many Many thousand thousand thousand lantern lantern lantern list list list mayor mayor mayor block block block perpendicular perpendicular perpendicular car car car traffic traffic traffic EasyCard EasyCard EasyCard transit transit transit Rail Rail Rail Circular Circular Circular Bus Bus Bus fare fare fare flight flight flight NTU NTU NTU College College College Mandarin Mandarin Mandarin professional professional professional Label Label Label Stadium Stadium Stadium champion champion champion TV TV TV SET SET SET TTV TTV TTV novel novel novel Northern Northern port port Xindian Xindian estimate estimate January January citizen citizen alone alone status status industrial industrial Railways Railways highway highway airport airport notable notable Baoan Baoan Hsing Hsing Tian Tian House House Zhinan Zhinan Popular Popular Maokong Maokong spring spring Due Due entire entire organization organization derive derive accord accord influx influx mainly mainly call call Ketagalan Ketagalan gradually gradually Dynasty Dynasty temporary temporary province province administer administer ruler ruler advance advance link link date date surrender surrender hand hand Communist Communist provisional provisional General General provide provide student student rally rally Fujian Fujian designate designate entity entity Twatutia Twatutia prefectural prefectural 城內 城內 erect erect work work commence commence govern govern little little lose lose original original War War During During eastern eastern bomb bomb Allied Allied Air Air May May assume assume Administrative Administrative Governor Governor law law Two Two flee flee revolutionary revolutionary Executive Executive reach reach rapidly rapidly growth growth slow slow choose choose via via regularly regularly Lee Lee border border side side volcano volcano extend extend rise rise southeast southeast Qingshui Qingshui humid humid climate climate warm warm wind wind vast vast day day dip dip level level afternoon afternoon summer summer front front drop drop though though range range Pacific Pacific Ocean Ocean June June October October quality quality Its Its coast coast substantial substantial issue issue extremely extremely common common motor motor scooter scooter movement movement While While great great decrease decrease low low density density differ differ Daan Daan age age account account Hoklos Hoklos Waishengren Waishengren Hakkas Hakkas concentrate concentrate mostly mostly electronics electronics see see direct direct investment investment caput caput Singapore Singapore Hong Hong ahead ahead Seoul Seoul PPP PPP IMF IMF globally globally Index Index field field industry industry others others Global Global attract attract Microsoft Microsoft IBM IBM Apple Apple JP JP Morgan Morgan Insurance Insurance Hua Hua Nan Nan innovation innovation create create R R D D engineer engineer cloud cloud research research numerous numerous venture venture top top contribute contribute Tourism Tourism President President Concert Concert Peace Peace item item Railway Railway artifact artifact origin origin boast boast Arts Arts dedicate dedicate modern modern purpose purpose artist artist hall hall originally originally Today Today social social construct construct break break green green Eve Eve broadcast broadcast Performing Performing domestic domestic construction construction theater theater run run operate operate past past midnight midnight clothe clothe good good entertainment entertainment variety variety Mitsukoshi Mitsukoshi Mall Mall ATT ATT nightlife nightlife bar bar nightclub nightclub Main Main Underground Underground department department destination destination Zoo Zoo Lin Lin residence residence Temples Temples demonstrate demonstrate God God South South Buddhist Buddhist Fo Fo Chan Chan style style may may Double Double Ten Ten rotate rotate parade parade show show holiday holiday different different On On annual annual grand grand share share Deaflympics Deaflympics November November Expo Expo Central Central position position vote vote Chen Chen Ma Ma Both Both camp camp Coalition Coalition however however garbage garbage Administration Administration EPA EPA Fund Fund waste waste percent percent Western Western square square alley alley speed speed cut cut heart heart Public Public mode mode private private comprehensive comprehensive conventional conventional contactless contactless need need underground underground integrate integrate passenger passenger route route Taichung Taichung transportation transportation select select Education Education support support NTNU NTNU school school Major Major Championship Championship Women Women Championships Championships Marathon Marathon categorize categorize Municipal Municipal capacity capacity Junior Junior Little Little Series Series win win CTS CTS CTV CTV System System Network Network Newspapers Newspapers Australia Australia match match fist fist Paul Paul Li Li Liu Liu enclave southwest lakebed basin bound narrow valley river join core Greater either whole interregnum nation Considered rat Alpha GaWC various Manka Guest disperse Natural news report synecdoche ambiguous internationally frequently synonym governmental representative participate athlete compete Olympics Romanization spell romanization mean North could Táiběi Hanyu Pinyin Tongyong Hokkien History Prior inhabit plain permit formally transcription change write unaltered Under embark railroad Allies effective face relocate regard mandate Order No backdrop Wild Lily society ever democratically Early tribe eighteenth Dabu Yongding Anxi Southern settle gain importance boom tea export separate Having adjoin flourish township Chengnei pinyin chéngnèi inner From thus temporarily Nowadays wall extensively modify much First cede Treaty Shimonoseki takeover English pronunciation retain subsequently emerge Colonial acquire characteristic civil servant Much Jōnai Matsuyama 松山庄 occasion raid Raid Upon nuclear destruction Hiroshima consequent August Nationalist Subsequently KMT martial Incident incident crackdown loyal mainland greatly approve Nangang Jingmei Muzha At fourfold absorb outlying exceed thereafter stable notably corridor consolidate current Mass plaza transition legislator presidency Geography terrain slop upward dormant sq sixteenth county northeast Tatun Volcano Group render rim close runner section northward Caigongkeng 菜公坑山 broad saddle marshy Pond To lie Hills Ravine barrier lush wood Climate subtropical Köppen Cfa Summers accompany occasional heavy rainstorm short foggy northeasterly Siberian intensify pool cool daytime shower thunderstorm Occasional cold month daily rarely Extreme snow never record besides affect season occur comparison excellent capability manage rainy environmental regulation prevent health least compare However smog poor visibility rainless Motor vehicle engine exhaust particularly source fine particulate matter polycyclic aromatic hydrocarbon morning le sunlight reduce Cityscape Demographics Even loss campaign birthrate geography degree evenly distribute Datong Yonghe Zhonghe crude birth mortality important By ten Residents obtain college literacy compose four ethnic subgroup majority aboriginal suburban Foreigners Indonesia Philippines Economy Miracle dramatic creditor exchange reserve crisis virtually full employment inflation nominal Osaka London Paris Economist Purchasing Power Parity highly potential friendliness billionaire Los Angeles Sydney Business Insider IESE Motion smart information communication hardware software biotechnology general merchandizing MICE Acer Computers Asus CTBC Holding Tatung Company Fortune corporation consulate Thus nearly register Foreign regional Intel HSBC Citibank Facebook Amazon PwC like reside Special With Citi DBS Cathay Commercial soon Meanwhile Technology Nankang Software scene vibrant invest hire machine big lab eye blockchain compute According Entrepreneurship Development entrepreneurial spirit worldwide incubation accelerator angel investor ecosystem value Startup Genome component almost amount tourism Commemorative monument memory memorial sight wear present launch celebrate door governor recognizable gallery permanent confuse Beijing Civil truly Shung Ye Formosan Aborigines across multimedia Fine inspiration Over group honor father depict Republican function Contemporary Art claim Burj Khalifa Dubai Designed Partners KTRT Joint Venture measure grind mark height Built withstand earthquake tremor award LEED certification indoor observatory draw regular performer slat Rem Koolhaas OMA determine competition process Music Shopping recreation crowd even usually individual stall sell mixture food consumer Historic Red Modern karaoke electronic wide fashion pedestrian teen Harajuku newly alike prime Malls sprawl complex Breeze Bellavita Eslite Bookstore flagship boutique Living Vieshow Cinemas Warner Village active lounge FUN Lounge Barcode Spark Myst thrive Tower Dihua Street Digital Plaza Miramar Entertainment Ferris wheel IMAX maintain space nature preserve Parks forestry note Forest cherry blossom sulfur deposit writer Yutang diplomat meet defunct Assembly Archives hectare animal sanctuary Bitan boat water resort beach direction Deities folk religion Taoism Buddhism 艋舺龍山寺 influence 艋舺清水巖 Qingshan prominent 大龍峒保安宮 Xia Hai 大稻埕霞海城隍廟 Dadaocheng similar Confucius 臺北孔子廟 history back Ciyou 松山慈祐宮 Guandu 關渡宮 行天宮 指南宮 Wenshan Xinsheng Heaven concentration church Shandao 善導寺 Vihara 佛光山臺北道場 Dharma Drum own Degui Academy 德貴學苑 Nung Monastery 農禪寺 Linji Huguo 臨濟護國禪寺 Besides deity find next candle figurine Some Kitchen success Festivals yearly increasingly basis When arrive solar calendar converge clock point countdown role Lantern conclude Lunar coincide Pingxi fire release sky downtown locale patriotic celebration Ancestors Dragon Boat Zhong Mooncake King Sacrificial Ceremony 青山王祭 annually recently Flora Exposition garden April Floral kind seventh expo admit Note directly appoint conversion centrally Democratic Progressive Hau mayoral go incumbent Ko outcome previous overall constituency slight inclination towards considerable Boulevard situate mass gather inauguration reception dignitary demonstration Garbage precedent send study Environmental Protection combine resource Recycling available collector introduce truck raise awareness classical music specifically Beethoven Für Elise Tekla Maiden Prayer arrival Manufacturers vendor importer recyclable pay fee money price recyclables subsidize Between improvement enable Shanghai division 區 qū Each 里 鄰 characterize straight grid configuration huge standard infilled access quiet residential citywide mph uniform hide therefore parallel conceptually spill minor always sometimes diagonally still consider focus project target renewal initiative Transportation portion resident utilization Private consist taxi cab bicycle weave occasionally oncoming Respect scant improve deployment camera police roadblock check rider alcohol consumption offense subway smartcard retail outlet credit deduct ride MIFARE panel remove wallet purse light VAL Bombardier currently label way color depot addition facility Gondola Modifications exist railway underway Zhongli Hitachi Corporation commission Phase Shisizhang driverless free rid test Beginning surface Project Speed bullet Hsinchu Chiayi Tainan terminate Zuoying Kaohsiung travel normally freight An exclusive facilitate Riders able discount vice versa unique joint rout sharp contrast Several intercity terminal Airports Haneda Gimpo People Line Ticketing white paper policy express objective accommodate burgeon Mitac consortium Systems Thales deploy upgrade network fully automatic solution Academia Sinica academy Graduate Program produce leader root additional Nantou farm forest hospital Law Medicine Hospital medical Normal likewise Founded teacher humanity Worldwide perhaps best Training score Guting Shida acronym Sports Professional Wei Chuan Dragons basketball TaiwanBeer HeroBears Braves Below FIFA Futsal Judo Badminton WBSC IIHF Challenge Division I Universiade Men Club Volleyball Yunlin Masters Games marathon Athletics Races Bronze Race race Wan Jin Shi Silver Arena activity Ice Hockey play auxiliary arena Tianmu multipurpose stadium football track prerecord Originally reconstruct Dome finish Youth achievement come Mexico Latin America finally Southwest Rose Capital LL Tyler Texas championship league Media television radio newspaper Recreation MyLife Channel Chung Dimo Eastern Era FTV Follow Me Formosa Gala Service Sanlih Shuang Xing Family Finance TVBS Broadcasting Videoland Post DigiTimes Kinmen Matsu Min Sheng Bao Sharp relation member Twin sister twin Outside Partner Anchorage AK Yokohama Kanagawa Wellington Zealand Friendship Perth Korea Orange CA George Town Penang Malaysia Helsinki Finland culture wrestle Deathmatch wrestler tap glue crush glass allow shard stick pinfall submission escape Writer Tao York protagonist parent bear get marry wife They MDMA LSD mock documentary McDonald Resolution star Justin Chon Ellie Bamber Gallery See Metropolitan Area Community Services Notes Words native References Further Jie Xingjian Jianzheng Weifeng profile External Official website Council Geographic data relate OpenStreetMap\n"
          ]
        }
      ]
    }
  ]
}